{
 "cells": [
  {
   "cell_type": "markdown",
   "metadata": {
    "colab_type": "text",
    "id": "HgCfAfGfuM4F"
   },
   "source": [
    "# Вебинар 2. Предобработка данных."
   ]
  },
  {
   "cell_type": "markdown",
   "metadata": {},
   "source": [
    "**План занятия**\n",
    "* [Data Science проект](#ds)\n",
    "* [1. Загрузка данных](#load)\n",
    "* [2. Приведение типов данных](#types)\n",
    "    * [Обзор количественных переменных](#numeric)\n",
    "    * [Обзор номинативных переменных](#cats)\n",
    "* [Статистика](#stats)\n",
    "* [3. Обработка пропусков](#nan)\n",
    "* [4. Обработка выбросов](#outlier)\n",
    "* [5. Отбор и построение новых признаков](#feature)\n",
    "    * [Категориальные переменные](#category)\n",
    "        * [A) Бинарные (дамми) переменные](#dummy)\n",
    "        * [Б) Feature encoding](#feature_encoding)\n",
    "    * [Вещественные переменные](#numeric_feature)\n",
    "        * [A) Feature discretization](#feature_discretization)\n",
    "        * [Б) Feature binarization](#feature_binarization)\n",
    "* [6. Сохранение результатов](#save)\n",
    "* [7. Подготовка данных в реальном проекте](#real)"
   ]
  },
  {
   "cell_type": "markdown",
   "metadata": {},
   "source": [
    "### **Data Science проект:**<a class='anchor' id='ds'>\n",
    "1. Постановка задачи\n",
    "2. Получение данных\n",
    "_________\n",
    "3. **Анализ данных**\n",
    "4. Визуализация данных\n",
    "5. **Предобработка данных**\n",
    "6. **Генерация новых признаков**\n",
    "7. Построение модели\n",
    "8. Оценка качества\n",
    "______\n",
    "9. Внедрение модели\n",
    "10. Мониторинг качества и улучшение модели"
   ]
  },
  {
   "cell_type": "markdown",
   "metadata": {
    "colab_type": "text",
    "id": "C3CPiHXYuM4G"
   },
   "source": [
    "**Подключение библиотек и скриптов**"
   ]
  },
  {
   "cell_type": "code",
   "execution_count": 3,
   "metadata": {
    "colab": {},
    "colab_type": "code",
    "id": "R4bD7GWRuM4I"
   },
   "outputs": [],
   "source": [
    "import numpy as np\n",
    "import pandas as pd\n",
    "\n",
    "from scipy.stats import mode\n",
    "\n",
    "import warnings\n",
    "warnings.filterwarnings('ignore')"
   ]
  },
  {
   "cell_type": "markdown",
   "metadata": {
    "colab_type": "text",
    "id": "G72Dn8Q_uM4S"
   },
   "source": [
    "**Пути к директориям и файлам**"
   ]
  },
  {
   "cell_type": "code",
   "execution_count": 4,
   "metadata": {
    "colab": {},
    "colab_type": "code",
    "id": "bUiPt2uluM4U"
   },
   "outputs": [],
   "source": [
    "DATASET_PATH = './housing.csv'\n",
    "PREPARED_DATASET_PATH = './housing_prepared_lmv.csv'"
   ]
  },
  {
   "cell_type": "markdown",
   "metadata": {
    "colab_type": "text",
    "id": "b9e_s9APuM4Z"
   },
   "source": [
    "### 1. Загрузка данных <a class='anchor' id='load'>"
   ]
  },
  {
   "cell_type": "markdown",
   "metadata": {},
   "source": [
    "**Описание задачи**\n",
    "\n",
    "Цель - предсказать стоимость дома \n",
    "\n",
    "Зачем?  \n",
    "\n",
    "_В банках, страховых компаниях:_\n",
    "- Узнать истинную стоимость имущества (залога)\n",
    "- Принять решение о выдаче ипотеки/страховки\n",
    "- Принять решение о % по ипотеке/страховке\n",
    "  \n",
    "_На площадках объявлений (Авито, Циан, ...):_\n",
    "- Найти недооцененные квартиры (~ выгодные предложения), показать их пользователям\n",
    "- Показывать рыночную стоимость квартиры пользователям\n",
    "- Для тех, кто продает квартиру, рекомендовать цену продажи\n",
    "\n",
    "_Для инвесторов в недвижимость:_\n",
    "- Определять рыночную стоимость квартир\n",
    "- Поиск недооцененных активов\n",
    "- Торговля на рынке недвижимости"
   ]
  },
  {
   "cell_type": "markdown",
   "metadata": {
    "colab_type": "text",
    "id": "F4yO3V2suM4a"
   },
   "source": [
    "**Описание датасета**\n",
    "\n",
    "Статистические данные о ряде домов в Калифорнии, основанные на переписи 1990 года.\n",
    "\n",
    "* **longitude** - долгота\n",
    "* **latitude** - широта\n",
    "* **housing_median_age** - средний возраст дома\n",
    "* **total_rooms** - общее количество комнат\n",
    "* **total_bedrooms** - общее количество спален\n",
    "* **population** - количество проживающих\n",
    "* **households** - домохозяйства\n",
    "* **ocean_proximity** - близость океана\n",
    "* **median_income** - средний доход\n",
    "* **median_house_value** - средняя стоимость дома"
   ]
  },
  {
   "cell_type": "markdown",
   "metadata": {},
   "source": [
    "Считываем данные. По строкам - наблюдения, по столбцам - признаки."
   ]
  },
  {
   "cell_type": "code",
   "execution_count": 9,
   "metadata": {
    "colab": {
     "base_uri": "https://localhost:8080/",
     "height": 206
    },
    "colab_type": "code",
    "id": "DO4RWVGwuM4h",
    "outputId": "ec20deef-2713-46d2-e0b8-e16d4dcb7dfd"
   },
   "outputs": [
    {
     "data": {
      "text/html": [
       "<div>\n",
       "<style scoped>\n",
       "    .dataframe tbody tr th:only-of-type {\n",
       "        vertical-align: middle;\n",
       "    }\n",
       "\n",
       "    .dataframe tbody tr th {\n",
       "        vertical-align: top;\n",
       "    }\n",
       "\n",
       "    .dataframe thead th {\n",
       "        text-align: right;\n",
       "    }\n",
       "</style>\n",
       "<table border=\"1\" class=\"dataframe\">\n",
       "  <thead>\n",
       "    <tr style=\"text-align: right;\">\n",
       "      <th></th>\n",
       "      <th>longitude</th>\n",
       "      <th>latitude</th>\n",
       "      <th>housing_median_age</th>\n",
       "      <th>total_rooms</th>\n",
       "      <th>total_bedrooms</th>\n",
       "      <th>population</th>\n",
       "      <th>households</th>\n",
       "      <th>median_income</th>\n",
       "      <th>median_house_value</th>\n",
       "      <th>ocean_proximity</th>\n",
       "      <th>id</th>\n",
       "    </tr>\n",
       "  </thead>\n",
       "  <tbody>\n",
       "    <tr>\n",
       "      <th>20635</th>\n",
       "      <td>-121.09</td>\n",
       "      <td>39.48</td>\n",
       "      <td>25.0</td>\n",
       "      <td>1665.0</td>\n",
       "      <td>374.0</td>\n",
       "      <td>845.0</td>\n",
       "      <td>330.0</td>\n",
       "      <td>1.5603</td>\n",
       "      <td>78100.0</td>\n",
       "      <td>INLAND</td>\n",
       "      <td>20635</td>\n",
       "    </tr>\n",
       "    <tr>\n",
       "      <th>20636</th>\n",
       "      <td>-121.21</td>\n",
       "      <td>39.49</td>\n",
       "      <td>18.0</td>\n",
       "      <td>697.0</td>\n",
       "      <td>150.0</td>\n",
       "      <td>356.0</td>\n",
       "      <td>114.0</td>\n",
       "      <td>2.5568</td>\n",
       "      <td>77100.0</td>\n",
       "      <td>INLAND</td>\n",
       "      <td>20636</td>\n",
       "    </tr>\n",
       "    <tr>\n",
       "      <th>20637</th>\n",
       "      <td>-121.22</td>\n",
       "      <td>39.43</td>\n",
       "      <td>17.0</td>\n",
       "      <td>2254.0</td>\n",
       "      <td>485.0</td>\n",
       "      <td>NaN</td>\n",
       "      <td>433.0</td>\n",
       "      <td>1.7000</td>\n",
       "      <td>92300.0</td>\n",
       "      <td>INLAND</td>\n",
       "      <td>20637</td>\n",
       "    </tr>\n",
       "    <tr>\n",
       "      <th>20638</th>\n",
       "      <td>-121.32</td>\n",
       "      <td>39.43</td>\n",
       "      <td>18.0</td>\n",
       "      <td>1860.0</td>\n",
       "      <td>409.0</td>\n",
       "      <td>741.0</td>\n",
       "      <td>349.0</td>\n",
       "      <td>1.8672</td>\n",
       "      <td>84700.0</td>\n",
       "      <td>INLAND</td>\n",
       "      <td>20638</td>\n",
       "    </tr>\n",
       "    <tr>\n",
       "      <th>20639</th>\n",
       "      <td>-121.24</td>\n",
       "      <td>39.37</td>\n",
       "      <td>16.0</td>\n",
       "      <td>2785.0</td>\n",
       "      <td>616.0</td>\n",
       "      <td>1387.0</td>\n",
       "      <td>530.0</td>\n",
       "      <td>2.3886</td>\n",
       "      <td>89400.0</td>\n",
       "      <td>INLAND</td>\n",
       "      <td>20639</td>\n",
       "    </tr>\n",
       "  </tbody>\n",
       "</table>\n",
       "</div>"
      ],
      "text/plain": [
       "       longitude  latitude  housing_median_age  total_rooms  total_bedrooms  \\\n",
       "20635    -121.09     39.48                25.0       1665.0           374.0   \n",
       "20636    -121.21     39.49                18.0        697.0           150.0   \n",
       "20637    -121.22     39.43                17.0       2254.0           485.0   \n",
       "20638    -121.32     39.43                18.0       1860.0           409.0   \n",
       "20639    -121.24     39.37                16.0       2785.0           616.0   \n",
       "\n",
       "       population  households  median_income  median_house_value  \\\n",
       "20635       845.0       330.0         1.5603             78100.0   \n",
       "20636       356.0       114.0         2.5568             77100.0   \n",
       "20637         NaN       433.0         1.7000             92300.0   \n",
       "20638       741.0       349.0         1.8672             84700.0   \n",
       "20639      1387.0       530.0         2.3886             89400.0   \n",
       "\n",
       "      ocean_proximity     id  \n",
       "20635          INLAND  20635  \n",
       "20636          INLAND  20636  \n",
       "20637          INLAND  20637  \n",
       "20638          INLAND  20638  \n",
       "20639          INLAND  20639  "
      ]
     },
     "execution_count": 9,
     "metadata": {},
     "output_type": "execute_result"
    }
   ],
   "source": [
    "df = pd.read_csv(DATASET_PATH, sep=',')\n",
    "#df.head(10)\n",
    "df.tail()"
   ]
  },
  {
   "cell_type": "markdown",
   "metadata": {
    "colab_type": "text",
    "id": "DqBlaJYNuM4s"
   },
   "source": [
    "### 2. Приведение типов данных<a class='anchor' id='types'>"
   ]
  },
  {
   "cell_type": "code",
   "execution_count": 5,
   "metadata": {
    "colab": {
     "base_uri": "https://localhost:8080/",
     "height": 225
    },
    "colab_type": "code",
    "id": "H6Q372WkuM4t",
    "outputId": "310670d3-ed03-4ca4-f9b4-505823693e39"
   },
   "outputs": [
    {
     "data": {
      "text/plain": [
       "longitude             float64\n",
       "latitude              float64\n",
       "housing_median_age    float64\n",
       "total_rooms           float64\n",
       "total_bedrooms        float64\n",
       "population            float64\n",
       "households            float64\n",
       "median_income         float64\n",
       "median_house_value    float64\n",
       "ocean_proximity        object\n",
       "id                      int64\n",
       "dtype: object"
      ]
     },
     "execution_count": 5,
     "metadata": {},
     "output_type": "execute_result"
    }
   ],
   "source": [
    "df.dtypes"
   ]
  },
  {
   "cell_type": "code",
   "execution_count": 6,
   "metadata": {
    "colab": {},
    "colab_type": "code",
    "id": "f0krqHDMuM41",
    "outputId": "12ce5dce-8cc2-438b-ee74-28e387876b21"
   },
   "outputs": [],
   "source": [
    "df['id'] = df['id'].astype(str)"
   ]
  },
  {
   "cell_type": "markdown",
   "metadata": {
    "colab_type": "text",
    "id": "I-NmOODwuM46"
   },
   "source": [
    "### Обзор количественных переменных<a class='anchor' id='numeric'>\n",
    "    \n",
    "*Количественные (непрерывные) переменные*  - это переменные, которые могут принимать любые числовые значения в некотором диапазоне."
   ]
  },
  {
   "cell_type": "code",
   "execution_count": 7,
   "metadata": {
    "colab": {},
    "colab_type": "code",
    "id": "_3xw1nBVuM47",
    "outputId": "744e3d08-7597-4fa0-b567-2583d300a265"
   },
   "outputs": [
    {
     "data": {
      "text/html": [
       "<div>\n",
       "<style scoped>\n",
       "    .dataframe tbody tr th:only-of-type {\n",
       "        vertical-align: middle;\n",
       "    }\n",
       "\n",
       "    .dataframe tbody tr th {\n",
       "        vertical-align: top;\n",
       "    }\n",
       "\n",
       "    .dataframe thead th {\n",
       "        text-align: right;\n",
       "    }\n",
       "</style>\n",
       "<table border=\"1\" class=\"dataframe\">\n",
       "  <thead>\n",
       "    <tr style=\"text-align: right;\">\n",
       "      <th></th>\n",
       "      <th>longitude</th>\n",
       "      <th>latitude</th>\n",
       "      <th>housing_median_age</th>\n",
       "      <th>total_rooms</th>\n",
       "      <th>total_bedrooms</th>\n",
       "      <th>population</th>\n",
       "      <th>households</th>\n",
       "      <th>median_income</th>\n",
       "      <th>median_house_value</th>\n",
       "    </tr>\n",
       "  </thead>\n",
       "  <tbody>\n",
       "    <tr>\n",
       "      <th>20635</th>\n",
       "      <td>-121.09</td>\n",
       "      <td>39.48</td>\n",
       "      <td>25.0</td>\n",
       "      <td>1665.0</td>\n",
       "      <td>374.0</td>\n",
       "      <td>845.0</td>\n",
       "      <td>330.0</td>\n",
       "      <td>1.5603</td>\n",
       "      <td>78100.0</td>\n",
       "    </tr>\n",
       "    <tr>\n",
       "      <th>20636</th>\n",
       "      <td>-121.21</td>\n",
       "      <td>39.49</td>\n",
       "      <td>18.0</td>\n",
       "      <td>697.0</td>\n",
       "      <td>150.0</td>\n",
       "      <td>356.0</td>\n",
       "      <td>114.0</td>\n",
       "      <td>2.5568</td>\n",
       "      <td>77100.0</td>\n",
       "    </tr>\n",
       "    <tr>\n",
       "      <th>20637</th>\n",
       "      <td>-121.22</td>\n",
       "      <td>39.43</td>\n",
       "      <td>17.0</td>\n",
       "      <td>2254.0</td>\n",
       "      <td>485.0</td>\n",
       "      <td>NaN</td>\n",
       "      <td>433.0</td>\n",
       "      <td>1.7000</td>\n",
       "      <td>92300.0</td>\n",
       "    </tr>\n",
       "    <tr>\n",
       "      <th>20638</th>\n",
       "      <td>-121.32</td>\n",
       "      <td>39.43</td>\n",
       "      <td>18.0</td>\n",
       "      <td>1860.0</td>\n",
       "      <td>409.0</td>\n",
       "      <td>741.0</td>\n",
       "      <td>349.0</td>\n",
       "      <td>1.8672</td>\n",
       "      <td>84700.0</td>\n",
       "    </tr>\n",
       "    <tr>\n",
       "      <th>20639</th>\n",
       "      <td>-121.24</td>\n",
       "      <td>39.37</td>\n",
       "      <td>16.0</td>\n",
       "      <td>2785.0</td>\n",
       "      <td>616.0</td>\n",
       "      <td>1387.0</td>\n",
       "      <td>530.0</td>\n",
       "      <td>2.3886</td>\n",
       "      <td>89400.0</td>\n",
       "    </tr>\n",
       "  </tbody>\n",
       "</table>\n",
       "</div>"
      ],
      "text/plain": [
       "       longitude  latitude  housing_median_age  total_rooms  total_bedrooms  \\\n",
       "20635    -121.09     39.48                25.0       1665.0           374.0   \n",
       "20636    -121.21     39.49                18.0        697.0           150.0   \n",
       "20637    -121.22     39.43                17.0       2254.0           485.0   \n",
       "20638    -121.32     39.43                18.0       1860.0           409.0   \n",
       "20639    -121.24     39.37                16.0       2785.0           616.0   \n",
       "\n",
       "       population  households  median_income  median_house_value  \n",
       "20635       845.0       330.0         1.5603             78100.0  \n",
       "20636       356.0       114.0         2.5568             77100.0  \n",
       "20637         NaN       433.0         1.7000             92300.0  \n",
       "20638       741.0       349.0         1.8672             84700.0  \n",
       "20639      1387.0       530.0         2.3886             89400.0  "
      ]
     },
     "execution_count": 7,
     "metadata": {},
     "output_type": "execute_result"
    }
   ],
   "source": [
    "df_num_features = df.select_dtypes(include=['float64', 'int64'])\n",
    "df_num_features.tail()"
   ]
  },
  {
   "cell_type": "markdown",
   "metadata": {},
   "source": [
    "С помощью .describe можно получить первичное понимание того, что из себя представляют данные"
   ]
  },
  {
   "cell_type": "code",
   "execution_count": 8,
   "metadata": {
    "colab": {},
    "colab_type": "code",
    "id": "BglQV6-wuM5A",
    "outputId": "3a632e09-c323-430e-cbcf-298b9f78737f"
   },
   "outputs": [
    {
     "data": {
      "text/html": [
       "<div>\n",
       "<style scoped>\n",
       "    .dataframe tbody tr th:only-of-type {\n",
       "        vertical-align: middle;\n",
       "    }\n",
       "\n",
       "    .dataframe tbody tr th {\n",
       "        vertical-align: top;\n",
       "    }\n",
       "\n",
       "    .dataframe thead th {\n",
       "        text-align: right;\n",
       "    }\n",
       "</style>\n",
       "<table border=\"1\" class=\"dataframe\">\n",
       "  <thead>\n",
       "    <tr style=\"text-align: right;\">\n",
       "      <th></th>\n",
       "      <th>longitude</th>\n",
       "      <th>latitude</th>\n",
       "      <th>housing_median_age</th>\n",
       "      <th>total_rooms</th>\n",
       "      <th>total_bedrooms</th>\n",
       "      <th>population</th>\n",
       "      <th>households</th>\n",
       "      <th>median_income</th>\n",
       "      <th>median_house_value</th>\n",
       "    </tr>\n",
       "  </thead>\n",
       "  <tbody>\n",
       "    <tr>\n",
       "      <th>count</th>\n",
       "      <td>20640.000000</td>\n",
       "      <td>20640.000000</td>\n",
       "      <td>19918.000000</td>\n",
       "      <td>20640.000000</td>\n",
       "      <td>20433.000000</td>\n",
       "      <td>20041.000000</td>\n",
       "      <td>20640.000000</td>\n",
       "      <td>20640.000000</td>\n",
       "      <td>20640.000000</td>\n",
       "    </tr>\n",
       "    <tr>\n",
       "      <th>mean</th>\n",
       "      <td>-119.471242</td>\n",
       "      <td>35.036934</td>\n",
       "      <td>28.653630</td>\n",
       "      <td>2635.763081</td>\n",
       "      <td>537.870553</td>\n",
       "      <td>1425.418243</td>\n",
       "      <td>499.539680</td>\n",
       "      <td>3.870671</td>\n",
       "      <td>206855.816909</td>\n",
       "    </tr>\n",
       "    <tr>\n",
       "      <th>std</th>\n",
       "      <td>5.041408</td>\n",
       "      <td>94.903955</td>\n",
       "      <td>12.576796</td>\n",
       "      <td>2181.615252</td>\n",
       "      <td>421.385070</td>\n",
       "      <td>1135.185798</td>\n",
       "      <td>382.329753</td>\n",
       "      <td>1.899822</td>\n",
       "      <td>115395.615874</td>\n",
       "    </tr>\n",
       "    <tr>\n",
       "      <th>min</th>\n",
       "      <td>-124.350000</td>\n",
       "      <td>-13534.030000</td>\n",
       "      <td>1.000000</td>\n",
       "      <td>2.000000</td>\n",
       "      <td>1.000000</td>\n",
       "      <td>3.000000</td>\n",
       "      <td>1.000000</td>\n",
       "      <td>0.499900</td>\n",
       "      <td>14999.000000</td>\n",
       "    </tr>\n",
       "    <tr>\n",
       "      <th>25%</th>\n",
       "      <td>-121.800000</td>\n",
       "      <td>33.930000</td>\n",
       "      <td>18.000000</td>\n",
       "      <td>1447.750000</td>\n",
       "      <td>296.000000</td>\n",
       "      <td>786.000000</td>\n",
       "      <td>280.000000</td>\n",
       "      <td>2.563400</td>\n",
       "      <td>119600.000000</td>\n",
       "    </tr>\n",
       "    <tr>\n",
       "      <th>50%</th>\n",
       "      <td>-118.490000</td>\n",
       "      <td>34.260000</td>\n",
       "      <td>29.000000</td>\n",
       "      <td>2127.000000</td>\n",
       "      <td>435.000000</td>\n",
       "      <td>1165.000000</td>\n",
       "      <td>409.000000</td>\n",
       "      <td>3.534800</td>\n",
       "      <td>179700.000000</td>\n",
       "    </tr>\n",
       "    <tr>\n",
       "      <th>75%</th>\n",
       "      <td>-118.010000</td>\n",
       "      <td>37.710000</td>\n",
       "      <td>37.000000</td>\n",
       "      <td>3148.000000</td>\n",
       "      <td>647.000000</td>\n",
       "      <td>1726.000000</td>\n",
       "      <td>605.000000</td>\n",
       "      <td>4.743250</td>\n",
       "      <td>264725.000000</td>\n",
       "    </tr>\n",
       "    <tr>\n",
       "      <th>max</th>\n",
       "      <td>122.030000</td>\n",
       "      <td>1327.130000</td>\n",
       "      <td>52.000000</td>\n",
       "      <td>39320.000000</td>\n",
       "      <td>6445.000000</td>\n",
       "      <td>35682.000000</td>\n",
       "      <td>6082.000000</td>\n",
       "      <td>15.000100</td>\n",
       "      <td>500001.000000</td>\n",
       "    </tr>\n",
       "  </tbody>\n",
       "</table>\n",
       "</div>"
      ],
      "text/plain": [
       "          longitude      latitude  housing_median_age   total_rooms  \\\n",
       "count  20640.000000  20640.000000        19918.000000  20640.000000   \n",
       "mean    -119.471242     35.036934           28.653630   2635.763081   \n",
       "std        5.041408     94.903955           12.576796   2181.615252   \n",
       "min     -124.350000 -13534.030000            1.000000      2.000000   \n",
       "25%     -121.800000     33.930000           18.000000   1447.750000   \n",
       "50%     -118.490000     34.260000           29.000000   2127.000000   \n",
       "75%     -118.010000     37.710000           37.000000   3148.000000   \n",
       "max      122.030000   1327.130000           52.000000  39320.000000   \n",
       "\n",
       "       total_bedrooms    population    households  median_income  \\\n",
       "count    20433.000000  20041.000000  20640.000000   20640.000000   \n",
       "mean       537.870553   1425.418243    499.539680       3.870671   \n",
       "std        421.385070   1135.185798    382.329753       1.899822   \n",
       "min          1.000000      3.000000      1.000000       0.499900   \n",
       "25%        296.000000    786.000000    280.000000       2.563400   \n",
       "50%        435.000000   1165.000000    409.000000       3.534800   \n",
       "75%        647.000000   1726.000000    605.000000       4.743250   \n",
       "max       6445.000000  35682.000000   6082.000000      15.000100   \n",
       "\n",
       "       median_house_value  \n",
       "count        20640.000000  \n",
       "mean        206855.816909  \n",
       "std         115395.615874  \n",
       "min          14999.000000  \n",
       "25%         119600.000000  \n",
       "50%         179700.000000  \n",
       "75%         264725.000000  \n",
       "max         500001.000000  "
      ]
     },
     "execution_count": 8,
     "metadata": {},
     "output_type": "execute_result"
    }
   ],
   "source": [
    "df.describe()"
   ]
  },
  {
   "cell_type": "code",
   "execution_count": 9,
   "metadata": {
    "colab": {
     "base_uri": "https://localhost:8080/",
     "height": 330
    },
    "colab_type": "code",
    "id": "PkGOEH_5LKuZ",
    "outputId": "e6867755-42eb-489a-df28-39982ff9e0f5"
   },
   "outputs": [
    {
     "name": "stdout",
     "output_type": "stream",
     "text": [
      "<class 'pandas.core.frame.DataFrame'>\n",
      "RangeIndex: 20640 entries, 0 to 20639\n",
      "Data columns (total 11 columns):\n",
      " #   Column              Non-Null Count  Dtype  \n",
      "---  ------              --------------  -----  \n",
      " 0   longitude           20640 non-null  float64\n",
      " 1   latitude            20640 non-null  float64\n",
      " 2   housing_median_age  19918 non-null  float64\n",
      " 3   total_rooms         20640 non-null  float64\n",
      " 4   total_bedrooms      20433 non-null  float64\n",
      " 5   population          20041 non-null  float64\n",
      " 6   households          20640 non-null  float64\n",
      " 7   median_income       20640 non-null  float64\n",
      " 8   median_house_value  20640 non-null  float64\n",
      " 9   ocean_proximity     20640 non-null  object \n",
      " 10  id                  20640 non-null  object \n",
      "dtypes: float64(9), object(2)\n",
      "memory usage: 1.7+ MB\n"
     ]
    }
   ],
   "source": [
    "df.info()"
   ]
  },
  {
   "cell_type": "markdown",
   "metadata": {
    "colab_type": "text",
    "id": "Njc8GEGNNf8O"
   },
   "source": [
    "### Статистика<a class='anchor' id='stats'>"
   ]
  },
  {
   "cell_type": "code",
   "execution_count": 10,
   "metadata": {
    "colab": {
     "base_uri": "https://localhost:8080/",
     "height": 34
    },
    "colab_type": "code",
    "id": "VRbp_0CVLd4_",
    "outputId": "58c56c6e-738d-404e-e6d5-e33a07d52929"
   },
   "outputs": [
    {
     "data": {
      "text/plain": [
       "array([1, 2, 3, 4, 5])"
      ]
     },
     "execution_count": 10,
     "metadata": {},
     "output_type": "execute_result"
    }
   ],
   "source": [
    "a = np.array([1, 2, 3, 4, 5])\n",
    "a"
   ]
  },
  {
   "cell_type": "markdown",
   "metadata": {},
   "source": [
    "**Среднее арифметическое**"
   ]
  },
  {
   "cell_type": "code",
   "execution_count": 11,
   "metadata": {
    "colab": {
     "base_uri": "https://localhost:8080/",
     "height": 34
    },
    "colab_type": "code",
    "id": "2Gcr9obnI_X8",
    "outputId": "64309e2e-5869-4f74-e07c-4ba124868c34"
   },
   "outputs": [
    {
     "data": {
      "text/plain": [
       "3.0"
      ]
     },
     "execution_count": 11,
     "metadata": {},
     "output_type": "execute_result"
    }
   ],
   "source": [
    "mean = a.sum() / len(a)\n",
    "mean"
   ]
  },
  {
   "cell_type": "markdown",
   "metadata": {},
   "source": [
    "**Дисперсия и стандартное отклонение**\n",
    "\n",
    "*Дисперсия* - это показатель вариации, который представляет собой средний квадрат отклонений от математического ожидания (среднее арифметическое). Она выражает разброс чисел относительно среднего значения.\n",
    "\n",
    "*Стандартное отклонение* (среднеквадратичное отклонение) - это величина, характеризующая разброс данных относительно среднего значения."
   ]
  },
  {
   "cell_type": "code",
   "execution_count": 12,
   "metadata": {
    "colab": {
     "base_uri": "https://localhost:8080/",
     "height": 34
    },
    "colab_type": "code",
    "id": "ht-lBBhUJK1Y",
    "outputId": "f374ddad-993e-44bc-d13e-35fafcb1a446"
   },
   "outputs": [
    {
     "data": {
      "text/plain": [
       "(2.0, 1.4142135623730951)"
      ]
     },
     "execution_count": 12,
     "metadata": {},
     "output_type": "execute_result"
    }
   ],
   "source": [
    "variance = np.mean((a - mean) ** 2)\n",
    "std = np.sqrt(variance)\n",
    "variance, std"
   ]
  },
  {
   "cell_type": "markdown",
   "metadata": {},
   "source": [
    "Подсчет с помощью numpy"
   ]
  },
  {
   "cell_type": "code",
   "execution_count": 13,
   "metadata": {
    "colab": {
     "base_uri": "https://localhost:8080/",
     "height": 34
    },
    "colab_type": "code",
    "id": "HcQeswTaKwYm",
    "outputId": "ac2477b0-1556-4c85-b391-d88ab8cd17fa"
   },
   "outputs": [
    {
     "name": "stdout",
     "output_type": "stream",
     "text": [
      "3.0 1.4142135623730951 2.0\n"
     ]
    }
   ],
   "source": [
    "mean_np = np.mean(a)\n",
    "std_np = np.std(a)\n",
    "var_np = np.var(a)\n",
    "print(mean_np, std_np, var_np)"
   ]
  },
  {
   "cell_type": "markdown",
   "metadata": {},
   "source": [
    "**Медиана**\n",
    "\n",
    "*Медиана* - значение, которая делит его на две равные части или же проще говоря, это середина отсортированной выборки."
   ]
  },
  {
   "cell_type": "code",
   "execution_count": 14,
   "metadata": {
    "colab": {
     "base_uri": "https://localhost:8080/",
     "height": 34
    },
    "colab_type": "code",
    "id": "ut4MIy8bLjj-",
    "outputId": "88195e22-6532-4b42-c804-acacf766cbba"
   },
   "outputs": [
    {
     "data": {
      "text/plain": [
       "array([1, 2, 2, 2, 3, 4, 5, 6, 6])"
      ]
     },
     "execution_count": 14,
     "metadata": {},
     "output_type": "execute_result"
    }
   ],
   "source": [
    "a = [3, 4, 5, 6, 1, 2, 2, 6, 2]\n",
    "a = np.sort(a)\n",
    "a"
   ]
  },
  {
   "cell_type": "markdown",
   "metadata": {},
   "source": [
    "**Квантили**\n",
    "\n",
    "*Квартили* - это значения, которые делят выборку на 4 равные (по количеству объектов) части.\n",
    "Откуда следует, что вторая квартиль - это медиана.\n",
    "\n",
    "* 0 квартиль = 0 квантиль = 0 процентиль\n",
    "* 1 квартиль = 0,25 квантиль = 25 процентиль\n",
    "* 2 квартиль = .5 квантиль = 50 процентиль (медиана)\n",
    "* 3 квартиль = .75 квантиль = 75 процентиль\n",
    "* 4 квартиля = 1 квантиль = 100 процентиль"
   ]
  },
  {
   "cell_type": "code",
   "execution_count": 15,
   "metadata": {
    "colab": {
     "base_uri": "https://localhost:8080/",
     "height": 34
    },
    "colab_type": "code",
    "id": "t6TnbIf9LU3n",
    "outputId": "a525a384-40be-4ce7-d486-ad017c0778c4"
   },
   "outputs": [
    {
     "data": {
      "text/plain": [
       "3.0"
      ]
     },
     "execution_count": 15,
     "metadata": {},
     "output_type": "execute_result"
    }
   ],
   "source": [
    "np.quantile(a, 0.5)"
   ]
  },
  {
   "cell_type": "code",
   "execution_count": 16,
   "metadata": {
    "colab": {
     "base_uri": "https://localhost:8080/",
     "height": 34
    },
    "colab_type": "code",
    "id": "1y3V4wojLonj",
    "outputId": "a9629181-8790-4722-ff48-23c258288528"
   },
   "outputs": [
    {
     "data": {
      "text/plain": [
       "3.0"
      ]
     },
     "execution_count": 16,
     "metadata": {},
     "output_type": "execute_result"
    }
   ],
   "source": [
    "np.median(a)"
   ]
  },
  {
   "cell_type": "code",
   "execution_count": 17,
   "metadata": {
    "colab": {
     "base_uri": "https://localhost:8080/",
     "height": 34
    },
    "colab_type": "code",
    "id": "d7JxeJqkPRMo",
    "outputId": "f66cb0ee-51f5-4cf0-ba90-6d508f4b0aed"
   },
   "outputs": [
    {
     "data": {
      "text/plain": [
       "2.0"
      ]
     },
     "execution_count": 17,
     "metadata": {},
     "output_type": "execute_result"
    }
   ],
   "source": [
    "np.quantile(a, q=0.25)"
   ]
  },
  {
   "cell_type": "code",
   "execution_count": 18,
   "metadata": {
    "colab": {
     "base_uri": "https://localhost:8080/",
     "height": 34
    },
    "colab_type": "code",
    "id": "rAic5--OP2jm",
    "outputId": "50f57c3f-1c46-496d-cb68-5ee34c1d76de"
   },
   "outputs": [
    {
     "data": {
      "text/plain": [
       "5.0"
      ]
     },
     "execution_count": 18,
     "metadata": {},
     "output_type": "execute_result"
    }
   ],
   "source": [
    "np.quantile(a, q=0.75)"
   ]
  },
  {
   "cell_type": "markdown",
   "metadata": {},
   "source": [
    "**Мода**\n",
    "\n",
    "Мода - это объект с максимальной частотой или проще говоря, самый популярный (частовстречаемый) объект в выборке."
   ]
  },
  {
   "cell_type": "code",
   "execution_count": 19,
   "metadata": {},
   "outputs": [
    {
     "data": {
      "text/plain": [
       "array([1, 2, 2, 2, 3, 4, 5, 6, 6])"
      ]
     },
     "execution_count": 19,
     "metadata": {},
     "output_type": "execute_result"
    }
   ],
   "source": [
    "a"
   ]
  },
  {
   "cell_type": "code",
   "execution_count": 20,
   "metadata": {},
   "outputs": [
    {
     "data": {
      "text/plain": [
       "ModeResult(mode=array([2]), count=array([3]))"
      ]
     },
     "execution_count": 20,
     "metadata": {},
     "output_type": "execute_result"
    }
   ],
   "source": [
    "mode(a)"
   ]
  },
  {
   "cell_type": "markdown",
   "metadata": {},
   "source": [
    "Применим статистику к нашим данным"
   ]
  },
  {
   "cell_type": "code",
   "execution_count": 21,
   "metadata": {},
   "outputs": [
    {
     "data": {
      "text/plain": [
       "1527.0    18\n",
       "1613.0    17\n",
       "1582.0    17\n",
       "2127.0    16\n",
       "1703.0    15\n",
       "          ..\n",
       "7784.0     1\n",
       "7916.0     1\n",
       "6859.0     1\n",
       "6846.0     1\n",
       "5639.0     1\n",
       "Name: total_rooms, Length: 5926, dtype: int64"
      ]
     },
     "execution_count": 21,
     "metadata": {},
     "output_type": "execute_result"
    }
   ],
   "source": [
    "df['total_rooms'].value_counts()"
   ]
  },
  {
   "cell_type": "code",
   "execution_count": 10,
   "metadata": {},
   "outputs": [
    {
     "data": {
      "image/png": "[encoded data removed]",
      "text/plain": [
       "<Figure size 1600x800 with 1 Axes>"
      ]
     },
     "metadata": {
      "needs_background": "light"
     },
     "output_type": "display_data"
    }
   ],
   "source": [
    "import matplotlib.pyplot as plt\n",
    "plt.figure(figsize=(20, 10), dpi=80)\n",
    "plt.hist(df['total_rooms'], bins = 100)\n",
    "plt.show()"
   ]
  },
  {
   "cell_type": "code",
   "execution_count": 23,
   "metadata": {},
   "outputs": [
    {
     "data": {
      "image/png": "[encoded data removed]",
      "text/plain": [
       "<Figure size 1600x800 with 1 Axes>"
      ]
     },
     "metadata": {
      "needs_background": "light"
     },
     "output_type": "display_data"
    }
   ],
   "source": [
    "plt.figure(figsize=(20, 10), dpi=80)\n",
    "plt.hist( df[df['total_rooms']<10000]['total_rooms'], bins = 100)\n",
    "\n",
    "plt.show()"
   ]
  },
  {
   "cell_type": "code",
   "execution_count": 11,
   "metadata": {},
   "outputs": [
    {
     "data": {
      "image/png": "[encoded data removed]",
      "text/plain": [
       "<Figure size 1600x800 with 1 Axes>"
      ]
     },
     "metadata": {
      "needs_background": "light"
     },
     "output_type": "display_data"
    }
   ],
   "source": [
    "plt.figure(figsize=(20, 10), dpi=80)\n",
    "plt.hist( df[df['total_rooms']>=10000]['total_rooms'], bins = 100)\n",
    "\n",
    "plt.show()"
   ]
  },
  {
   "cell_type": "markdown",
   "metadata": {
    "colab_type": "text",
    "id": "FAVcxq8GuM5E"
   },
   "source": [
    "### Обзор номинативных переменных<a class='anchor' id='cats'>\n",
    "    \n",
    "*Номинативная (категориальная) переменная* - тип дискретной переменной, качественная (неколичественная) переменная величина\n",
    "*Категориальные переменные* - это переменная с ограниченным числом уникальных значений или категорий (например, пол или религия). Категориальные переменные могут быть либо номинальные , либо порядковые . ... Примеры номинальных переменных включают регион, почтовый индекс или религию."
   ]
  },
  {
   "cell_type": "code",
   "execution_count": 13,
   "metadata": {
    "colab": {},
    "colab_type": "code",
    "id": "aFTTOVW7uM5F",
    "outputId": "a04302d0-4728-4019-98fe-394db997aa27"
   },
   "outputs": [
    {
     "data": {
      "text/html": [
       "<div>\n",
       "<style scoped>\n",
       "    .dataframe tbody tr th:only-of-type {\n",
       "        vertical-align: middle;\n",
       "    }\n",
       "\n",
       "    .dataframe tbody tr th {\n",
       "        vertical-align: top;\n",
       "    }\n",
       "\n",
       "    .dataframe thead th {\n",
       "        text-align: right;\n",
       "    }\n",
       "</style>\n",
       "<table border=\"1\" class=\"dataframe\">\n",
       "  <thead>\n",
       "    <tr style=\"text-align: right;\">\n",
       "      <th></th>\n",
       "      <th>ocean_proximity</th>\n",
       "    </tr>\n",
       "  </thead>\n",
       "  <tbody>\n",
       "    <tr>\n",
       "      <th>0</th>\n",
       "      <td>NEAR BAY</td>\n",
       "    </tr>\n",
       "    <tr>\n",
       "      <th>1</th>\n",
       "      <td>NEAR BAY</td>\n",
       "    </tr>\n",
       "    <tr>\n",
       "      <th>2</th>\n",
       "      <td>NEAR BAY</td>\n",
       "    </tr>\n",
       "    <tr>\n",
       "      <th>3</th>\n",
       "      <td>NEAR BAY</td>\n",
       "    </tr>\n",
       "    <tr>\n",
       "      <th>4</th>\n",
       "      <td>NEAR BAY</td>\n",
       "    </tr>\n",
       "  </tbody>\n",
       "</table>\n",
       "</div>"
      ],
      "text/plain": [
       "  ocean_proximity\n",
       "0        NEAR BAY\n",
       "1        NEAR BAY\n",
       "2        NEAR BAY\n",
       "3        NEAR BAY\n",
       "4        NEAR BAY"
      ]
     },
     "execution_count": 13,
     "metadata": {},
     "output_type": "execute_result"
    }
   ],
   "source": [
    "df_obj_features = df.select_dtypes(include='object')\n",
    "df_obj_features.head(5)"
   ]
  },
  {
   "cell_type": "code",
   "execution_count": 35,
   "metadata": {
    "colab": {},
    "colab_type": "code",
    "id": "jJQlUVFXuM5K",
    "outputId": "7dfd65f3-8085-4b31-eb53-35579c2358cb"
   },
   "outputs": [
    {
     "data": {
      "text/plain": [
       "<1H OCEAN     9127\n",
       "INLAND        6542\n",
       "NEAR OCEAN    2655\n",
       "NEAR BAY      2288\n",
       "-               23\n",
       "ISLAND           5\n",
       "Name: ocean_proximity, dtype: int64"
      ]
     },
     "execution_count": 35,
     "metadata": {},
     "output_type": "execute_result"
    }
   ],
   "source": [
    "df['ocean_proximity'].value_counts()"
   ]
  },
  {
   "cell_type": "code",
   "execution_count": 36,
   "metadata": {
    "colab": {
     "base_uri": "https://localhost:8080/",
     "height": 52
    },
    "colab_type": "code",
    "id": "cxdAJuWkQcfj",
    "outputId": "706dd66e-481a-458d-c40e-75ff19775a0a"
   },
   "outputs": [
    {
     "data": {
      "text/plain": [
       "array(['NEAR BAY', '<1H OCEAN', 'INLAND', '-', 'NEAR OCEAN', 'ISLAND'],\n",
       "      dtype=object)"
      ]
     },
     "execution_count": 36,
     "metadata": {},
     "output_type": "execute_result"
    }
   ],
   "source": [
    "df['ocean_proximity'].unique()"
   ]
  },
  {
   "cell_type": "code",
   "execution_count": 37,
   "metadata": {
    "colab": {
     "base_uri": "https://localhost:8080/",
     "height": 34
    },
    "colab_type": "code",
    "id": "fU_h-c2IQe1l",
    "outputId": "2e91a87a-8fcb-4586-c53d-35ad81074faa"
   },
   "outputs": [
    {
     "data": {
      "text/plain": [
       "6"
      ]
     },
     "execution_count": 37,
     "metadata": {},
     "output_type": "execute_result"
    }
   ],
   "source": [
    "df['ocean_proximity'].nunique()"
   ]
  },
  {
   "cell_type": "markdown",
   "metadata": {
    "colab_type": "text",
    "id": "oB8bJixsuM5O"
   },
   "source": [
    "### 3. Обработка пропусков<a class='anchor' id='nan'>"
   ]
  },
  {
   "cell_type": "markdown",
   "metadata": {},
   "source": [
    "Что можно делать с ними?\n",
    "1. Выкинуть эти данные\n",
    "2. Заменять пропуски разными методами (медианы, средние значения и т.д.)\n",
    "3. Делать/не делать дополнительную фичу\n",
    "4. Ничего не делать"
   ]
  },
  {
   "cell_type": "code",
   "execution_count": 38,
   "metadata": {
    "colab": {
     "base_uri": "https://localhost:8080/",
     "height": 225
    },
    "colab_type": "code",
    "id": "VN3QKWTXQsYy",
    "outputId": "8f7fdf2f-db56-49cc-8639-ce3839b4e0bf"
   },
   "outputs": [
    {
     "data": {
      "text/plain": [
       "longitude               0\n",
       "latitude                0\n",
       "housing_median_age    722\n",
       "total_rooms             0\n",
       "total_bedrooms        207\n",
       "population            599\n",
       "households              0\n",
       "median_income           0\n",
       "median_house_value      0\n",
       "ocean_proximity         0\n",
       "id                      0\n",
       "dtype: int64"
      ]
     },
     "execution_count": 38,
     "metadata": {},
     "output_type": "execute_result"
    }
   ],
   "source": [
    "df.isna().sum()"
   ]
  },
  {
   "cell_type": "markdown",
   "metadata": {
    "colab_type": "text",
    "id": "abglWkAHuM5T"
   },
   "source": [
    "**housing_median_age**\n",
    "\n",
    "Создадим вспомогательный признак и заполним его 0, если пропуска в housing_median_age нет и 1, когда пропуски есть "
   ]
  },
  {
   "cell_type": "code",
   "execution_count": 39,
   "metadata": {},
   "outputs": [],
   "source": [
    "for c in ['housing_median_age', 'total_bedrooms', 'population']:\n",
    "    df[c+'_nan'] = 0\n",
    "    df.loc[df[c].isna(), c+'_nan'] = 1\n",
    "    median = df[c].median()\n",
    "    df[c] = df[c].fillna(median)"
   ]
  },
  {
   "cell_type": "code",
   "execution_count": 40,
   "metadata": {
    "colab": {
     "base_uri": "https://localhost:8080/",
     "height": 225
    },
    "colab_type": "code",
    "id": "dMrT1u9tX8Ap",
    "outputId": "9ca2e57b-de5a-4b57-9403-f75dee13bd42"
   },
   "outputs": [
    {
     "data": {
      "text/plain": [
       "longitude                 0\n",
       "latitude                  0\n",
       "housing_median_age        0\n",
       "total_rooms               0\n",
       "total_bedrooms            0\n",
       "population                0\n",
       "households                0\n",
       "median_income             0\n",
       "median_house_value        0\n",
       "ocean_proximity           0\n",
       "id                        0\n",
       "housing_median_age_nan    0\n",
       "total_bedrooms_nan        0\n",
       "population_nan            0\n",
       "dtype: int64"
      ]
     },
     "execution_count": 40,
     "metadata": {},
     "output_type": "execute_result"
    }
   ],
   "source": [
    "df.isna().sum()"
   ]
  },
  {
   "cell_type": "markdown",
   "metadata": {
    "colab_type": "text",
    "id": "piv5lN7KuM5g"
   },
   "source": [
    "**ocean_proximity**"
   ]
  },
  {
   "cell_type": "code",
   "execution_count": 41,
   "metadata": {},
   "outputs": [],
   "source": [
    "df['ocean_proximity_nan'] = 0\n",
    "df.loc[df['ocean_proximity'] == '-', 'ocean_proximity_nan'] = 1"
   ]
  },
  {
   "cell_type": "code",
   "execution_count": 14,
   "metadata": {},
   "outputs": [
    {
     "data": {
      "text/plain": [
       "'<1H OCEAN'"
      ]
     },
     "execution_count": 14,
     "metadata": {},
     "output_type": "execute_result"
    }
   ],
   "source": [
    "df['ocean_proximity'].mode()[0]"
   ]
  },
  {
   "cell_type": "markdown",
   "metadata": {},
   "source": [
    "Заменим значение \"-\" в признаке ocean_proximity на самое популярное значение в признаке, то есть на моду."
   ]
  },
  {
   "cell_type": "code",
   "execution_count": 42,
   "metadata": {
    "colab": {},
    "colab_type": "code",
    "id": "7n6U4XSQuM5l"
   },
   "outputs": [],
   "source": [
    "df.replace(\n",
    "    {'ocean_proximity':\n",
    "     {'-': df['ocean_proximity'].mode()[0]}\n",
    "    },\n",
    "    inplace=True)"
   ]
  },
  {
   "cell_type": "code",
   "execution_count": 43,
   "metadata": {
    "colab": {
     "base_uri": "https://localhost:8080/",
     "height": 121
    },
    "colab_type": "code",
    "id": "TMCJTKk-uM5o",
    "outputId": "da4c6ea9-4fd4-484f-e5e8-e253febf6574"
   },
   "outputs": [
    {
     "data": {
      "text/plain": [
       "<1H OCEAN     9150\n",
       "INLAND        6542\n",
       "NEAR OCEAN    2655\n",
       "NEAR BAY      2288\n",
       "ISLAND           5\n",
       "Name: ocean_proximity, dtype: int64"
      ]
     },
     "execution_count": 43,
     "metadata": {},
     "output_type": "execute_result"
    }
   ],
   "source": [
    "df['ocean_proximity'].value_counts()"
   ]
  },
  {
   "cell_type": "markdown",
   "metadata": {
    "colab_type": "text",
    "id": "19-vofBYuM5s"
   },
   "source": [
    "### 4. Обработка выбросов<a class='anchor' id='outlier'>\n",
    "    \n",
    "**Выбросы** - это объекты в данных, которые не принадлежат определенной зависимости. Это ненормальное наблюдение, которое находятся далеко от других наблюдений."
   ]
  },
  {
   "cell_type": "markdown",
   "metadata": {},
   "source": [
    "Что можно делать с ними?\n",
    "1. Выкинуть эти данные\n",
    "2. Заменять выбросы разными методами (медианы, средние значения и т.д.)\n",
    "3. Делать/не делать дополнительную фичу\n",
    "4. Ничего не делать"
   ]
  },
  {
   "cell_type": "code",
   "execution_count": 44,
   "metadata": {
    "colab": {
     "base_uri": "https://localhost:8080/",
     "height": 300
    },
    "colab_type": "code",
    "id": "OPR_RbkUuM5t",
    "outputId": "5a3f7b0a-5930-4b42-d16e-f9e0ea4669f3"
   },
   "outputs": [
    {
     "data": {
      "text/html": [
       "<div>\n",
       "<style scoped>\n",
       "    .dataframe tbody tr th:only-of-type {\n",
       "        vertical-align: middle;\n",
       "    }\n",
       "\n",
       "    .dataframe tbody tr th {\n",
       "        vertical-align: top;\n",
       "    }\n",
       "\n",
       "    .dataframe thead th {\n",
       "        text-align: right;\n",
       "    }\n",
       "</style>\n",
       "<table border=\"1\" class=\"dataframe\">\n",
       "  <thead>\n",
       "    <tr style=\"text-align: right;\">\n",
       "      <th></th>\n",
       "      <th>longitude</th>\n",
       "      <th>latitude</th>\n",
       "      <th>housing_median_age</th>\n",
       "      <th>total_rooms</th>\n",
       "      <th>total_bedrooms</th>\n",
       "      <th>population</th>\n",
       "      <th>households</th>\n",
       "      <th>median_income</th>\n",
       "      <th>median_house_value</th>\n",
       "      <th>housing_median_age_nan</th>\n",
       "      <th>total_bedrooms_nan</th>\n",
       "      <th>population_nan</th>\n",
       "      <th>ocean_proximity_nan</th>\n",
       "    </tr>\n",
       "  </thead>\n",
       "  <tbody>\n",
       "    <tr>\n",
       "      <th>count</th>\n",
       "      <td>20640.000000</td>\n",
       "      <td>20640.000000</td>\n",
       "      <td>20640.000000</td>\n",
       "      <td>20640.000000</td>\n",
       "      <td>20640.000000</td>\n",
       "      <td>20640.000000</td>\n",
       "      <td>20640.000000</td>\n",
       "      <td>20640.000000</td>\n",
       "      <td>20640.000000</td>\n",
       "      <td>20640.000000</td>\n",
       "      <td>20640.000000</td>\n",
       "      <td>20640.000000</td>\n",
       "      <td>20640.000000</td>\n",
       "    </tr>\n",
       "    <tr>\n",
       "      <th>mean</th>\n",
       "      <td>-119.471242</td>\n",
       "      <td>35.036934</td>\n",
       "      <td>28.665746</td>\n",
       "      <td>2635.763081</td>\n",
       "      <td>536.838857</td>\n",
       "      <td>1417.860562</td>\n",
       "      <td>499.539680</td>\n",
       "      <td>3.870671</td>\n",
       "      <td>206855.816909</td>\n",
       "      <td>0.034981</td>\n",
       "      <td>0.010029</td>\n",
       "      <td>0.029021</td>\n",
       "      <td>0.001114</td>\n",
       "    </tr>\n",
       "    <tr>\n",
       "      <th>std</th>\n",
       "      <td>5.041408</td>\n",
       "      <td>94.903955</td>\n",
       "      <td>12.355019</td>\n",
       "      <td>2181.615252</td>\n",
       "      <td>419.391878</td>\n",
       "      <td>1119.445348</td>\n",
       "      <td>382.329753</td>\n",
       "      <td>1.899822</td>\n",
       "      <td>115395.615874</td>\n",
       "      <td>0.183735</td>\n",
       "      <td>0.099644</td>\n",
       "      <td>0.167870</td>\n",
       "      <td>0.033364</td>\n",
       "    </tr>\n",
       "    <tr>\n",
       "      <th>min</th>\n",
       "      <td>-124.350000</td>\n",
       "      <td>-13534.030000</td>\n",
       "      <td>1.000000</td>\n",
       "      <td>2.000000</td>\n",
       "      <td>1.000000</td>\n",
       "      <td>3.000000</td>\n",
       "      <td>1.000000</td>\n",
       "      <td>0.499900</td>\n",
       "      <td>14999.000000</td>\n",
       "      <td>0.000000</td>\n",
       "      <td>0.000000</td>\n",
       "      <td>0.000000</td>\n",
       "      <td>0.000000</td>\n",
       "    </tr>\n",
       "    <tr>\n",
       "      <th>25%</th>\n",
       "      <td>-121.800000</td>\n",
       "      <td>33.930000</td>\n",
       "      <td>19.000000</td>\n",
       "      <td>1447.750000</td>\n",
       "      <td>297.000000</td>\n",
       "      <td>797.000000</td>\n",
       "      <td>280.000000</td>\n",
       "      <td>2.563400</td>\n",
       "      <td>119600.000000</td>\n",
       "      <td>0.000000</td>\n",
       "      <td>0.000000</td>\n",
       "      <td>0.000000</td>\n",
       "      <td>0.000000</td>\n",
       "    </tr>\n",
       "    <tr>\n",
       "      <th>50%</th>\n",
       "      <td>-118.490000</td>\n",
       "      <td>34.260000</td>\n",
       "      <td>29.000000</td>\n",
       "      <td>2127.000000</td>\n",
       "      <td>435.000000</td>\n",
       "      <td>1165.000000</td>\n",
       "      <td>409.000000</td>\n",
       "      <td>3.534800</td>\n",
       "      <td>179700.000000</td>\n",
       "      <td>0.000000</td>\n",
       "      <td>0.000000</td>\n",
       "      <td>0.000000</td>\n",
       "      <td>0.000000</td>\n",
       "    </tr>\n",
       "    <tr>\n",
       "      <th>75%</th>\n",
       "      <td>-118.010000</td>\n",
       "      <td>37.710000</td>\n",
       "      <td>37.000000</td>\n",
       "      <td>3148.000000</td>\n",
       "      <td>643.250000</td>\n",
       "      <td>1701.000000</td>\n",
       "      <td>605.000000</td>\n",
       "      <td>4.743250</td>\n",
       "      <td>264725.000000</td>\n",
       "      <td>0.000000</td>\n",
       "      <td>0.000000</td>\n",
       "      <td>0.000000</td>\n",
       "      <td>0.000000</td>\n",
       "    </tr>\n",
       "    <tr>\n",
       "      <th>max</th>\n",
       "      <td>122.030000</td>\n",
       "      <td>1327.130000</td>\n",
       "      <td>52.000000</td>\n",
       "      <td>39320.000000</td>\n",
       "      <td>6445.000000</td>\n",
       "      <td>35682.000000</td>\n",
       "      <td>6082.000000</td>\n",
       "      <td>15.000100</td>\n",
       "      <td>500001.000000</td>\n",
       "      <td>1.000000</td>\n",
       "      <td>1.000000</td>\n",
       "      <td>1.000000</td>\n",
       "      <td>1.000000</td>\n",
       "    </tr>\n",
       "  </tbody>\n",
       "</table>\n",
       "</div>"
      ],
      "text/plain": [
       "          longitude      latitude  housing_median_age   total_rooms  \\\n",
       "count  20640.000000  20640.000000        20640.000000  20640.000000   \n",
       "mean    -119.471242     35.036934           28.665746   2635.763081   \n",
       "std        5.041408     94.903955           12.355019   2181.615252   \n",
       "min     -124.350000 -13534.030000            1.000000      2.000000   \n",
       "25%     -121.800000     33.930000           19.000000   1447.750000   \n",
       "50%     -118.490000     34.260000           29.000000   2127.000000   \n",
       "75%     -118.010000     37.710000           37.000000   3148.000000   \n",
       "max      122.030000   1327.130000           52.000000  39320.000000   \n",
       "\n",
       "       total_bedrooms    population    households  median_income  \\\n",
       "count    20640.000000  20640.000000  20640.000000   20640.000000   \n",
       "mean       536.838857   1417.860562    499.539680       3.870671   \n",
       "std        419.391878   1119.445348    382.329753       1.899822   \n",
       "min          1.000000      3.000000      1.000000       0.499900   \n",
       "25%        297.000000    797.000000    280.000000       2.563400   \n",
       "50%        435.000000   1165.000000    409.000000       3.534800   \n",
       "75%        643.250000   1701.000000    605.000000       4.743250   \n",
       "max       6445.000000  35682.000000   6082.000000      15.000100   \n",
       "\n",
       "       median_house_value  housing_median_age_nan  total_bedrooms_nan  \\\n",
       "count        20640.000000            20640.000000        20640.000000   \n",
       "mean        206855.816909                0.034981            0.010029   \n",
       "std         115395.615874                0.183735            0.099644   \n",
       "min          14999.000000                0.000000            0.000000   \n",
       "25%         119600.000000                0.000000            0.000000   \n",
       "50%         179700.000000                0.000000            0.000000   \n",
       "75%         264725.000000                0.000000            0.000000   \n",
       "max         500001.000000                1.000000            1.000000   \n",
       "\n",
       "       population_nan  ocean_proximity_nan  \n",
       "count    20640.000000         20640.000000  \n",
       "mean         0.029021             0.001114  \n",
       "std          0.167870             0.033364  \n",
       "min          0.000000             0.000000  \n",
       "25%          0.000000             0.000000  \n",
       "50%          0.000000             0.000000  \n",
       "75%          0.000000             0.000000  \n",
       "max          1.000000             1.000000  "
      ]
     },
     "execution_count": 44,
     "metadata": {},
     "output_type": "execute_result"
    }
   ],
   "source": [
    "df.describe()"
   ]
  },
  {
   "cell_type": "markdown",
   "metadata": {
    "colab_type": "text",
    "id": "JYuPQh9LaFZi"
   },
   "source": [
    "Возможные значения longtitude (долгота) и latitude (широта) можно найти [здесь](https://dateandtime.info/ru/citycoordinates.php?id=5332748)\n",
    "\n"
   ]
  },
  {
   "cell_type": "markdown",
   "metadata": {
    "colab_type": "text",
    "id": "YvKLKbHdaK4G"
   },
   "source": [
    "_Широта принимает значения от −90° до 90°. 0° – широта экватора; −90° – широта Южного полюса; 90° – широта Северного полюса. Положительные значения соответствуют северной широте (точки севернее экватора, сокращённо с.ш. или N); отрицательные – южной широте (точки южнее экватора, сокращённо ю.ш. или S).  \n",
    "Долгота отсчитывается от нулевого меридиана (IERS Reference Meridian в системе WGS 84) и принимает значения от −180° до 180°. Положительные значения соответствуют восточной долготе (сокращённо в.д. или E); отрицательные – западной долготе (сокращённо з.д. или W)._"
   ]
  },
  {
   "cell_type": "markdown",
   "metadata": {
    "colab_type": "text",
    "id": "XaDaNIPsaXkv"
   },
   "source": [
    "Калифорнии находится в западном и северном полушарии.\n",
    "\n",
    "\n",
    "![image.png](data:image/png;base64,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)"
   ]
  },
  {
   "cell_type": "markdown",
   "metadata": {
    "colab_type": "text",
    "id": "SpclbJGzuM5w"
   },
   "source": [
    "**longitude** Долгота"
   ]
  },
  {
   "cell_type": "code",
   "execution_count": 45,
   "metadata": {},
   "outputs": [
    {
     "data": {
      "image/png": "[encoded data removed]",
      "text/plain": [
       "<Figure size 1600x400 with 1 Axes>"
      ]
     },
     "metadata": {
      "needs_background": "light"
     },
     "output_type": "display_data"
    }
   ],
   "source": [
    "import matplotlib.pyplot as plt\n",
    "plt.figure(figsize=(20, 5), dpi=80)\n",
    "plt.hist(df['longitude'], bins = 1000)\n",
    "plt.show()"
   ]
  },
  {
   "cell_type": "code",
   "execution_count": 46,
   "metadata": {},
   "outputs": [],
   "source": [
    "df['longitude_outlier'] = 0\n",
    "df.loc[df['longitude'] >= 0, 'longitude_outlier'] = 1"
   ]
  },
  {
   "cell_type": "code",
   "execution_count": 47,
   "metadata": {
    "colab": {},
    "colab_type": "code",
    "id": "U4Fsl2eTuM51"
   },
   "outputs": [],
   "source": [
    "df.loc[df['longitude'] > 0, 'longitude'] = df.loc[df['longitude'] > 0, 'longitude'] * -1"
   ]
  },
  {
   "cell_type": "code",
   "execution_count": 48,
   "metadata": {
    "colab": {},
    "colab_type": "code",
    "id": "utLQsdaruM54"
   },
   "outputs": [],
   "source": [
    "df.loc[df['longitude'] == 0, 'longitude'] = df['longitude'].median()"
   ]
  },
  {
   "cell_type": "code",
   "execution_count": 49,
   "metadata": {},
   "outputs": [
    {
     "data": {
      "image/png": "[encoded data removed]",
      "text/plain": [
       "<Figure size 1600x400 with 1 Axes>"
      ]
     },
     "metadata": {
      "needs_background": "light"
     },
     "output_type": "display_data"
    }
   ],
   "source": [
    "import matplotlib.pyplot as plt\n",
    "plt.figure(figsize=(20, 5), dpi=80)\n",
    "plt.hist(df['longitude'], bins = 1000)\n",
    "plt.show()"
   ]
  },
  {
   "cell_type": "markdown",
   "metadata": {
    "colab_type": "text",
    "id": "araVM1Z-uM58"
   },
   "source": [
    "**latitude**"
   ]
  },
  {
   "cell_type": "code",
   "execution_count": 50,
   "metadata": {},
   "outputs": [
    {
     "data": {
      "image/png": "[encoded data removed]",
      "text/plain": [
       "<Figure size 1600x400 with 1 Axes>"
      ]
     },
     "metadata": {
      "needs_background": "light"
     },
     "output_type": "display_data"
    }
   ],
   "source": [
    "import matplotlib.pyplot as plt\n",
    "plt.figure(figsize=(20, 5), dpi=80)\n",
    "plt.hist(df['latitude'], bins = 100)\n",
    "plt.show()"
   ]
  },
  {
   "cell_type": "code",
   "execution_count": 51,
   "metadata": {},
   "outputs": [],
   "source": [
    "df['latitude_outlier'] = 0\n",
    "df.loc[(df['latitude'] <= 0) | (df['latitude'] > 50), 'latitude_outlier'] = 1"
   ]
  },
  {
   "cell_type": "code",
   "execution_count": 52,
   "metadata": {
    "colab": {},
    "colab_type": "code",
    "id": "ei44pMpGuM5_"
   },
   "outputs": [],
   "source": [
    "df.loc[(df['latitude'] <= 0) | (df['latitude'] > 50), 'latitude'] = df['latitude'].median()"
   ]
  },
  {
   "cell_type": "code",
   "execution_count": 53,
   "metadata": {},
   "outputs": [
    {
     "data": {
      "image/png": "[encoded data removed]",
      "text/plain": [
       "<Figure size 1600x400 with 1 Axes>"
      ]
     },
     "metadata": {
      "needs_background": "light"
     },
     "output_type": "display_data"
    }
   ],
   "source": [
    "import matplotlib.pyplot as plt\n",
    "plt.figure(figsize=(20, 5), dpi=80)\n",
    "plt.hist(df['latitude'], bins = 100)\n",
    "plt.show()"
   ]
  },
  {
   "cell_type": "markdown",
   "metadata": {},
   "source": [
    "**total_rooms**\n",
    "\n",
    "Найдем выбросы с помощью квантилей. Наблюдения, значения которых больше 97,5% квантиля и которые меньше 2,5% квантиля будем считать выбросами и заменять на медиану."
   ]
  },
  {
   "cell_type": "code",
   "execution_count": 54,
   "metadata": {},
   "outputs": [
    {
     "data": {
      "image/png": "[encoded data removed]",
      "text/plain": [
       "<Figure size 1600x400 with 1 Axes>"
      ]
     },
     "metadata": {
      "needs_background": "light"
     },
     "output_type": "display_data"
    }
   ],
   "source": [
    "import matplotlib.pyplot as plt\n",
    "plt.figure(figsize=(20, 5), dpi=80)\n",
    "plt.hist(df['total_rooms'], bins = 100)\n",
    "plt.show()"
   ]
  },
  {
   "cell_type": "code",
   "execution_count": 55,
   "metadata": {},
   "outputs": [
    {
     "data": {
      "text/plain": [
       "8069.074999999993"
      ]
     },
     "execution_count": 55,
     "metadata": {},
     "output_type": "execute_result"
    }
   ],
   "source": [
    "total_rooms_max_value = np.quantile(df['total_rooms'], q=0.975)\n",
    "total_rooms_max_value"
   ]
  },
  {
   "cell_type": "code",
   "execution_count": 56,
   "metadata": {},
   "outputs": [
    {
     "data": {
      "text/plain": [
       "370.975"
      ]
     },
     "execution_count": 56,
     "metadata": {},
     "output_type": "execute_result"
    }
   ],
   "source": [
    "total_rooms_min_value = np.quantile(df['total_rooms'], q=0.025)\n",
    "total_rooms_min_value"
   ]
  },
  {
   "cell_type": "code",
   "execution_count": 57,
   "metadata": {},
   "outputs": [
    {
     "data": {
      "text/html": [
       "<div>\n",
       "<style scoped>\n",
       "    .dataframe tbody tr th:only-of-type {\n",
       "        vertical-align: middle;\n",
       "    }\n",
       "\n",
       "    .dataframe tbody tr th {\n",
       "        vertical-align: top;\n",
       "    }\n",
       "\n",
       "    .dataframe thead th {\n",
       "        text-align: right;\n",
       "    }\n",
       "</style>\n",
       "<table border=\"1\" class=\"dataframe\">\n",
       "  <thead>\n",
       "    <tr style=\"text-align: right;\">\n",
       "      <th></th>\n",
       "      <th>longitude</th>\n",
       "      <th>latitude</th>\n",
       "      <th>housing_median_age</th>\n",
       "      <th>total_rooms</th>\n",
       "      <th>total_bedrooms</th>\n",
       "      <th>population</th>\n",
       "      <th>households</th>\n",
       "      <th>median_income</th>\n",
       "      <th>median_house_value</th>\n",
       "      <th>ocean_proximity</th>\n",
       "      <th>id</th>\n",
       "      <th>housing_median_age_nan</th>\n",
       "      <th>total_bedrooms_nan</th>\n",
       "      <th>population_nan</th>\n",
       "      <th>ocean_proximity_nan</th>\n",
       "      <th>longitude_outlier</th>\n",
       "      <th>latitude_outlier</th>\n",
       "    </tr>\n",
       "  </thead>\n",
       "  <tbody>\n",
       "    <tr>\n",
       "      <th>59</th>\n",
       "      <td>-122.29</td>\n",
       "      <td>37.82</td>\n",
       "      <td>2.0</td>\n",
       "      <td>158.0</td>\n",
       "      <td>43.0</td>\n",
       "      <td>94.0</td>\n",
       "      <td>57.0</td>\n",
       "      <td>2.5625</td>\n",
       "      <td>60000.0</td>\n",
       "      <td>NEAR BAY</td>\n",
       "      <td>59</td>\n",
       "      <td>0</td>\n",
       "      <td>0</td>\n",
       "      <td>0</td>\n",
       "      <td>0</td>\n",
       "      <td>0</td>\n",
       "      <td>0</td>\n",
       "    </tr>\n",
       "    <tr>\n",
       "      <th>61</th>\n",
       "      <td>-122.29</td>\n",
       "      <td>37.82</td>\n",
       "      <td>49.0</td>\n",
       "      <td>135.0</td>\n",
       "      <td>29.0</td>\n",
       "      <td>86.0</td>\n",
       "      <td>23.0</td>\n",
       "      <td>6.1183</td>\n",
       "      <td>75000.0</td>\n",
       "      <td>NEAR BAY</td>\n",
       "      <td>61</td>\n",
       "      <td>0</td>\n",
       "      <td>0</td>\n",
       "      <td>0</td>\n",
       "      <td>0</td>\n",
       "      <td>0</td>\n",
       "      <td>0</td>\n",
       "    </tr>\n",
       "    <tr>\n",
       "      <th>73</th>\n",
       "      <td>-122.29</td>\n",
       "      <td>37.81</td>\n",
       "      <td>46.0</td>\n",
       "      <td>12.0</td>\n",
       "      <td>4.0</td>\n",
       "      <td>18.0</td>\n",
       "      <td>7.0</td>\n",
       "      <td>0.4999</td>\n",
       "      <td>67500.0</td>\n",
       "      <td>NEAR BAY</td>\n",
       "      <td>73</td>\n",
       "      <td>0</td>\n",
       "      <td>0</td>\n",
       "      <td>0</td>\n",
       "      <td>0</td>\n",
       "      <td>0</td>\n",
       "      <td>0</td>\n",
       "    </tr>\n",
       "    <tr>\n",
       "      <th>81</th>\n",
       "      <td>-122.27</td>\n",
       "      <td>37.81</td>\n",
       "      <td>52.0</td>\n",
       "      <td>210.0</td>\n",
       "      <td>56.0</td>\n",
       "      <td>183.0</td>\n",
       "      <td>56.0</td>\n",
       "      <td>1.1667</td>\n",
       "      <td>112500.0</td>\n",
       "      <td>NEAR BAY</td>\n",
       "      <td>81</td>\n",
       "      <td>0</td>\n",
       "      <td>0</td>\n",
       "      <td>0</td>\n",
       "      <td>0</td>\n",
       "      <td>0</td>\n",
       "      <td>0</td>\n",
       "    </tr>\n",
       "    <tr>\n",
       "      <th>82</th>\n",
       "      <td>-122.28</td>\n",
       "      <td>37.81</td>\n",
       "      <td>52.0</td>\n",
       "      <td>340.0</td>\n",
       "      <td>97.0</td>\n",
       "      <td>200.0</td>\n",
       "      <td>87.0</td>\n",
       "      <td>1.5208</td>\n",
       "      <td>112500.0</td>\n",
       "      <td>NEAR BAY</td>\n",
       "      <td>82</td>\n",
       "      <td>0</td>\n",
       "      <td>0</td>\n",
       "      <td>0</td>\n",
       "      <td>0</td>\n",
       "      <td>0</td>\n",
       "      <td>0</td>\n",
       "    </tr>\n",
       "    <tr>\n",
       "      <th>...</th>\n",
       "      <td>...</td>\n",
       "      <td>...</td>\n",
       "      <td>...</td>\n",
       "      <td>...</td>\n",
       "      <td>...</td>\n",
       "      <td>...</td>\n",
       "      <td>...</td>\n",
       "      <td>...</td>\n",
       "      <td>...</td>\n",
       "      <td>...</td>\n",
       "      <td>...</td>\n",
       "      <td>...</td>\n",
       "      <td>...</td>\n",
       "      <td>...</td>\n",
       "      <td>...</td>\n",
       "      <td>...</td>\n",
       "      <td>...</td>\n",
       "    </tr>\n",
       "    <tr>\n",
       "      <th>20578</th>\n",
       "      <td>-121.81</td>\n",
       "      <td>38.84</td>\n",
       "      <td>37.0</td>\n",
       "      <td>352.0</td>\n",
       "      <td>65.0</td>\n",
       "      <td>238.0</td>\n",
       "      <td>67.0</td>\n",
       "      <td>2.8542</td>\n",
       "      <td>275000.0</td>\n",
       "      <td>INLAND</td>\n",
       "      <td>20578</td>\n",
       "      <td>0</td>\n",
       "      <td>0</td>\n",
       "      <td>0</td>\n",
       "      <td>0</td>\n",
       "      <td>0</td>\n",
       "      <td>0</td>\n",
       "    </tr>\n",
       "    <tr>\n",
       "      <th>20620</th>\n",
       "      <td>-121.48</td>\n",
       "      <td>39.05</td>\n",
       "      <td>40.0</td>\n",
       "      <td>198.0</td>\n",
       "      <td>41.0</td>\n",
       "      <td>151.0</td>\n",
       "      <td>48.0</td>\n",
       "      <td>4.5625</td>\n",
       "      <td>100000.0</td>\n",
       "      <td>INLAND</td>\n",
       "      <td>20620</td>\n",
       "      <td>0</td>\n",
       "      <td>0</td>\n",
       "      <td>0</td>\n",
       "      <td>0</td>\n",
       "      <td>0</td>\n",
       "      <td>0</td>\n",
       "    </tr>\n",
       "    <tr>\n",
       "      <th>20625</th>\n",
       "      <td>-121.52</td>\n",
       "      <td>39.12</td>\n",
       "      <td>37.0</td>\n",
       "      <td>102.0</td>\n",
       "      <td>17.0</td>\n",
       "      <td>29.0</td>\n",
       "      <td>14.0</td>\n",
       "      <td>4.1250</td>\n",
       "      <td>72000.0</td>\n",
       "      <td>INLAND</td>\n",
       "      <td>20625</td>\n",
       "      <td>0</td>\n",
       "      <td>0</td>\n",
       "      <td>0</td>\n",
       "      <td>0</td>\n",
       "      <td>0</td>\n",
       "      <td>0</td>\n",
       "    </tr>\n",
       "    <tr>\n",
       "      <th>20627</th>\n",
       "      <td>-121.32</td>\n",
       "      <td>39.13</td>\n",
       "      <td>5.0</td>\n",
       "      <td>358.0</td>\n",
       "      <td>65.0</td>\n",
       "      <td>169.0</td>\n",
       "      <td>59.0</td>\n",
       "      <td>3.0000</td>\n",
       "      <td>162500.0</td>\n",
       "      <td>INLAND</td>\n",
       "      <td>20627</td>\n",
       "      <td>0</td>\n",
       "      <td>0</td>\n",
       "      <td>0</td>\n",
       "      <td>0</td>\n",
       "      <td>0</td>\n",
       "      <td>0</td>\n",
       "    </tr>\n",
       "    <tr>\n",
       "      <th>20629</th>\n",
       "      <td>-121.39</td>\n",
       "      <td>39.12</td>\n",
       "      <td>28.0</td>\n",
       "      <td>10035.0</td>\n",
       "      <td>1856.0</td>\n",
       "      <td>6912.0</td>\n",
       "      <td>1818.0</td>\n",
       "      <td>2.0943</td>\n",
       "      <td>108300.0</td>\n",
       "      <td>INLAND</td>\n",
       "      <td>20629</td>\n",
       "      <td>0</td>\n",
       "      <td>0</td>\n",
       "      <td>0</td>\n",
       "      <td>0</td>\n",
       "      <td>0</td>\n",
       "      <td>0</td>\n",
       "    </tr>\n",
       "  </tbody>\n",
       "</table>\n",
       "<p>1032 rows × 17 columns</p>\n",
       "</div>"
      ],
      "text/plain": [
       "       longitude  latitude  housing_median_age  total_rooms  total_bedrooms  \\\n",
       "59       -122.29     37.82                 2.0        158.0            43.0   \n",
       "61       -122.29     37.82                49.0        135.0            29.0   \n",
       "73       -122.29     37.81                46.0         12.0             4.0   \n",
       "81       -122.27     37.81                52.0        210.0            56.0   \n",
       "82       -122.28     37.81                52.0        340.0            97.0   \n",
       "...          ...       ...                 ...          ...             ...   \n",
       "20578    -121.81     38.84                37.0        352.0            65.0   \n",
       "20620    -121.48     39.05                40.0        198.0            41.0   \n",
       "20625    -121.52     39.12                37.0        102.0            17.0   \n",
       "20627    -121.32     39.13                 5.0        358.0            65.0   \n",
       "20629    -121.39     39.12                28.0      10035.0          1856.0   \n",
       "\n",
       "       population  households  median_income  median_house_value  \\\n",
       "59           94.0        57.0         2.5625             60000.0   \n",
       "61           86.0        23.0         6.1183             75000.0   \n",
       "73           18.0         7.0         0.4999             67500.0   \n",
       "81          183.0        56.0         1.1667            112500.0   \n",
       "82          200.0        87.0         1.5208            112500.0   \n",
       "...           ...         ...            ...                 ...   \n",
       "20578       238.0        67.0         2.8542            275000.0   \n",
       "20620       151.0        48.0         4.5625            100000.0   \n",
       "20625        29.0        14.0         4.1250             72000.0   \n",
       "20627       169.0        59.0         3.0000            162500.0   \n",
       "20629      6912.0      1818.0         2.0943            108300.0   \n",
       "\n",
       "      ocean_proximity     id  housing_median_age_nan  total_bedrooms_nan  \\\n",
       "59           NEAR BAY     59                       0                   0   \n",
       "61           NEAR BAY     61                       0                   0   \n",
       "73           NEAR BAY     73                       0                   0   \n",
       "81           NEAR BAY     81                       0                   0   \n",
       "82           NEAR BAY     82                       0                   0   \n",
       "...               ...    ...                     ...                 ...   \n",
       "20578          INLAND  20578                       0                   0   \n",
       "20620          INLAND  20620                       0                   0   \n",
       "20625          INLAND  20625                       0                   0   \n",
       "20627          INLAND  20627                       0                   0   \n",
       "20629          INLAND  20629                       0                   0   \n",
       "\n",
       "       population_nan  ocean_proximity_nan  longitude_outlier  \\\n",
       "59                  0                    0                  0   \n",
       "61                  0                    0                  0   \n",
       "73                  0                    0                  0   \n",
       "81                  0                    0                  0   \n",
       "82                  0                    0                  0   \n",
       "...               ...                  ...                ...   \n",
       "20578               0                    0                  0   \n",
       "20620               0                    0                  0   \n",
       "20625               0                    0                  0   \n",
       "20627               0                    0                  0   \n",
       "20629               0                    0                  0   \n",
       "\n",
       "       latitude_outlier  \n",
       "59                    0  \n",
       "61                    0  \n",
       "73                    0  \n",
       "81                    0  \n",
       "82                    0  \n",
       "...                 ...  \n",
       "20578                 0  \n",
       "20620                 0  \n",
       "20625                 0  \n",
       "20627                 0  \n",
       "20629                 0  \n",
       "\n",
       "[1032 rows x 17 columns]"
      ]
     },
     "execution_count": 57,
     "metadata": {},
     "output_type": "execute_result"
    }
   ],
   "source": [
    "condition = (df['total_rooms'] > total_rooms_max_value) | (df['total_rooms'] < total_rooms_min_value)\n",
    "df[condition]"
   ]
  },
  {
   "cell_type": "code",
   "execution_count": 58,
   "metadata": {},
   "outputs": [
    {
     "data": {
      "text/plain": [
       "count    20640.000000\n",
       "mean      2435.698837\n",
       "std       1358.232607\n",
       "min        371.000000\n",
       "25%       1511.000000\n",
       "50%       2127.000000\n",
       "75%       3006.000000\n",
       "max       8069.000000\n",
       "Name: total_rooms, dtype: float64"
      ]
     },
     "execution_count": 58,
     "metadata": {},
     "output_type": "execute_result"
    }
   ],
   "source": [
    "df.loc[condition, 'total_rooms'] = df['total_rooms'].median()\n",
    "df['total_rooms'].describe()"
   ]
  },
  {
   "cell_type": "code",
   "execution_count": 59,
   "metadata": {},
   "outputs": [
    {
     "data": {
      "image/png": "[encoded data removed]",
      "text/plain": [
       "<Figure size 1600x400 with 1 Axes>"
      ]
     },
     "metadata": {
      "needs_background": "light"
     },
     "output_type": "display_data"
    }
   ],
   "source": [
    "import matplotlib.pyplot as plt\n",
    "plt.figure(figsize=(20, 5), dpi=80)\n",
    "plt.hist(df['total_rooms'], bins = 100)\n",
    "plt.show()"
   ]
  },
  {
   "cell_type": "markdown",
   "metadata": {
    "colab_type": "text",
    "id": "G9meHyjYuM6C"
   },
   "source": [
    "### 5. Отбор и построение новых признаков<a class='anchor' id='feature'>"
   ]
  },
  {
   "cell_type": "markdown",
   "metadata": {
    "colab_type": "text",
    "id": "ngkRMuLJuM6D"
   },
   "source": [
    "Исключаем признак \"id\""
   ]
  },
  {
   "cell_type": "code",
   "execution_count": 60,
   "metadata": {},
   "outputs": [],
   "source": [
    "df.drop(columns='id', inplace=True)"
   ]
  },
  {
   "cell_type": "code",
   "execution_count": 61,
   "metadata": {},
   "outputs": [
    {
     "data": {
      "text/plain": [
       "Index(['longitude', 'latitude', 'housing_median_age', 'total_rooms',\n",
       "       'total_bedrooms', 'population', 'households', 'median_income',\n",
       "       'median_house_value', 'ocean_proximity', 'housing_median_age_nan',\n",
       "       'total_bedrooms_nan', 'population_nan', 'ocean_proximity_nan',\n",
       "       'longitude_outlier', 'latitude_outlier'],\n",
       "      dtype='object')"
      ]
     },
     "execution_count": 61,
     "metadata": {},
     "output_type": "execute_result"
    }
   ],
   "source": [
    "df.columns"
   ]
  },
  {
   "cell_type": "markdown",
   "metadata": {
    "colab_type": "text",
    "id": "woWWXhj_eVGU"
   },
   "source": [
    "**Количественные переменные**"
   ]
  },
  {
   "cell_type": "code",
   "execution_count": 62,
   "metadata": {
    "colab": {},
    "colab_type": "code",
    "id": "dblwGbP2eQiL"
   },
   "outputs": [],
   "source": [
    "# Доля спален в общем кол-ве комнат\n",
    "df['bedroom_share'] = df['total_bedrooms'] / df['total_rooms'] * 100\n",
    "\n",
    "# Сколько человек в среднем живут в одной комнате\n",
    "df['population_per_room'] = df['population'] / df['total_rooms']"
   ]
  },
  {
   "cell_type": "code",
   "execution_count": 63,
   "metadata": {},
   "outputs": [
    {
     "data": {
      "text/html": [
       "<div>\n",
       "<style scoped>\n",
       "    .dataframe tbody tr th:only-of-type {\n",
       "        vertical-align: middle;\n",
       "    }\n",
       "\n",
       "    .dataframe tbody tr th {\n",
       "        vertical-align: top;\n",
       "    }\n",
       "\n",
       "    .dataframe thead th {\n",
       "        text-align: right;\n",
       "    }\n",
       "</style>\n",
       "<table border=\"1\" class=\"dataframe\">\n",
       "  <thead>\n",
       "    <tr style=\"text-align: right;\">\n",
       "      <th></th>\n",
       "      <th>bedroom_share</th>\n",
       "      <th>population_per_room</th>\n",
       "    </tr>\n",
       "  </thead>\n",
       "  <tbody>\n",
       "    <tr>\n",
       "      <th>0</th>\n",
       "      <td>14.659091</td>\n",
       "      <td>0.365909</td>\n",
       "    </tr>\n",
       "    <tr>\n",
       "      <th>1</th>\n",
       "      <td>15.579659</td>\n",
       "      <td>0.338217</td>\n",
       "    </tr>\n",
       "    <tr>\n",
       "      <th>2</th>\n",
       "      <td>12.951602</td>\n",
       "      <td>0.338105</td>\n",
       "    </tr>\n",
       "    <tr>\n",
       "      <th>3</th>\n",
       "      <td>18.445840</td>\n",
       "      <td>0.437991</td>\n",
       "    </tr>\n",
       "    <tr>\n",
       "      <th>4</th>\n",
       "      <td>17.209588</td>\n",
       "      <td>0.347265</td>\n",
       "    </tr>\n",
       "  </tbody>\n",
       "</table>\n",
       "</div>"
      ],
      "text/plain": [
       "   bedroom_share  population_per_room\n",
       "0      14.659091             0.365909\n",
       "1      15.579659             0.338217\n",
       "2      12.951602             0.338105\n",
       "3      18.445840             0.437991\n",
       "4      17.209588             0.347265"
      ]
     },
     "execution_count": 63,
     "metadata": {},
     "output_type": "execute_result"
    }
   ],
   "source": [
    "df[['bedroom_share', 'population_per_room']].head()"
   ]
  },
  {
   "cell_type": "markdown",
   "metadata": {
    "colab_type": "text",
    "id": "sd9tJ5qbZ1KP"
   },
   "source": [
    "**Категориальные переменные**<a class='anchor' id='category'>"
   ]
  },
  {
   "cell_type": "markdown",
   "metadata": {
    "colab_type": "text",
    "id": "y9HUZuT_Z1KP"
   },
   "source": [
    "Неколичественные строковые признаки всегда нужно переводить в числовое представление, так как многие модели машинного обучения не способны работать со строками.\n",
    "\n",
    "Хороший обзор по работе с категориальными признаками можно посмотреть [здесь](https://dyakonov.org/2016/08/03/python-%D0%BA%D0%B0%D1%82%D0%B5%D0%B3%D0%BE%D1%80%D0%B8%D0%B0%D0%BB%D1%8C%D0%BD%D1%8B%D0%B5-%D0%BF%D1%80%D0%B8%D0%B7%D0%BD%D0%B0%D0%BA%D0%B8/)"
   ]
  },
  {
   "cell_type": "code",
   "execution_count": 64,
   "metadata": {},
   "outputs": [
    {
     "data": {
      "text/plain": [
       "<1H OCEAN     9150\n",
       "INLAND        6542\n",
       "NEAR OCEAN    2655\n",
       "NEAR BAY      2288\n",
       "ISLAND           5\n",
       "Name: ocean_proximity, dtype: int64"
      ]
     },
     "execution_count": 64,
     "metadata": {},
     "output_type": "execute_result"
    }
   ],
   "source": [
    "df['ocean_proximity'].value_counts()"
   ]
  },
  {
   "cell_type": "markdown",
   "metadata": {
    "colab_type": "text",
    "id": "NvhUDexpZ1KP"
   },
   "source": [
    "**A) Бинарные (дамми) переменные**<a class='anchor' id='dummy'>"
   ]
  },
  {
   "cell_type": "code",
   "execution_count": 17,
   "metadata": {
    "colab": {},
    "colab_type": "code",
    "id": "v9sPmIx0Z1KR",
    "outputId": "f32b390c-4508-4da4-bbd1-b68ae445c827"
   },
   "outputs": [
    {
     "data": {
      "text/html": [
       "<div>\n",
       "<style scoped>\n",
       "    .dataframe tbody tr th:only-of-type {\n",
       "        vertical-align: middle;\n",
       "    }\n",
       "\n",
       "    .dataframe tbody tr th {\n",
       "        vertical-align: top;\n",
       "    }\n",
       "\n",
       "    .dataframe thead th {\n",
       "        text-align: right;\n",
       "    }\n",
       "</style>\n",
       "<table border=\"1\" class=\"dataframe\">\n",
       "  <thead>\n",
       "    <tr style=\"text-align: right;\">\n",
       "      <th></th>\n",
       "      <th>longitude</th>\n",
       "      <th>latitude</th>\n",
       "      <th>housing_median_age</th>\n",
       "      <th>total_rooms</th>\n",
       "      <th>total_bedrooms</th>\n",
       "      <th>population</th>\n",
       "      <th>households</th>\n",
       "      <th>median_income</th>\n",
       "      <th>median_house_value</th>\n",
       "      <th>ocean_proximity</th>\n",
       "      <th>...</th>\n",
       "      <th>INLAND</th>\n",
       "      <th>ISLAND</th>\n",
       "      <th>NEAR BAY</th>\n",
       "      <th>NEAR OCEAN</th>\n",
       "      <th>-</th>\n",
       "      <th>&lt;1H OCEAN</th>\n",
       "      <th>INLAND</th>\n",
       "      <th>ISLAND</th>\n",
       "      <th>NEAR BAY</th>\n",
       "      <th>NEAR OCEAN</th>\n",
       "    </tr>\n",
       "  </thead>\n",
       "  <tbody>\n",
       "    <tr>\n",
       "      <th>20620</th>\n",
       "      <td>-121.48</td>\n",
       "      <td>39.05</td>\n",
       "      <td>40.0</td>\n",
       "      <td>198.0</td>\n",
       "      <td>41.0</td>\n",
       "      <td>151.0</td>\n",
       "      <td>48.0</td>\n",
       "      <td>4.5625</td>\n",
       "      <td>100000.0</td>\n",
       "      <td>INLAND</td>\n",
       "      <td>...</td>\n",
       "      <td>1</td>\n",
       "      <td>0</td>\n",
       "      <td>0</td>\n",
       "      <td>0</td>\n",
       "      <td>0</td>\n",
       "      <td>0</td>\n",
       "      <td>1</td>\n",
       "      <td>0</td>\n",
       "      <td>0</td>\n",
       "      <td>0</td>\n",
       "    </tr>\n",
       "    <tr>\n",
       "      <th>20621</th>\n",
       "      <td>-121.47</td>\n",
       "      <td>39.01</td>\n",
       "      <td>37.0</td>\n",
       "      <td>1244.0</td>\n",
       "      <td>247.0</td>\n",
       "      <td>484.0</td>\n",
       "      <td>157.0</td>\n",
       "      <td>2.3661</td>\n",
       "      <td>77500.0</td>\n",
       "      <td>INLAND</td>\n",
       "      <td>...</td>\n",
       "      <td>1</td>\n",
       "      <td>0</td>\n",
       "      <td>0</td>\n",
       "      <td>0</td>\n",
       "      <td>0</td>\n",
       "      <td>0</td>\n",
       "      <td>1</td>\n",
       "      <td>0</td>\n",
       "      <td>0</td>\n",
       "      <td>0</td>\n",
       "    </tr>\n",
       "    <tr>\n",
       "      <th>20622</th>\n",
       "      <td>-121.44</td>\n",
       "      <td>39.00</td>\n",
       "      <td>20.0</td>\n",
       "      <td>755.0</td>\n",
       "      <td>147.0</td>\n",
       "      <td>457.0</td>\n",
       "      <td>157.0</td>\n",
       "      <td>2.4167</td>\n",
       "      <td>67000.0</td>\n",
       "      <td>INLAND</td>\n",
       "      <td>...</td>\n",
       "      <td>1</td>\n",
       "      <td>0</td>\n",
       "      <td>0</td>\n",
       "      <td>0</td>\n",
       "      <td>0</td>\n",
       "      <td>0</td>\n",
       "      <td>1</td>\n",
       "      <td>0</td>\n",
       "      <td>0</td>\n",
       "      <td>0</td>\n",
       "    </tr>\n",
       "    <tr>\n",
       "      <th>20623</th>\n",
       "      <td>-121.37</td>\n",
       "      <td>39.03</td>\n",
       "      <td>32.0</td>\n",
       "      <td>1158.0</td>\n",
       "      <td>244.0</td>\n",
       "      <td>598.0</td>\n",
       "      <td>227.0</td>\n",
       "      <td>2.8235</td>\n",
       "      <td>65500.0</td>\n",
       "      <td>INLAND</td>\n",
       "      <td>...</td>\n",
       "      <td>1</td>\n",
       "      <td>0</td>\n",
       "      <td>0</td>\n",
       "      <td>0</td>\n",
       "      <td>0</td>\n",
       "      <td>0</td>\n",
       "      <td>1</td>\n",
       "      <td>0</td>\n",
       "      <td>0</td>\n",
       "      <td>0</td>\n",
       "    </tr>\n",
       "    <tr>\n",
       "      <th>20624</th>\n",
       "      <td>-121.41</td>\n",
       "      <td>39.04</td>\n",
       "      <td>16.0</td>\n",
       "      <td>1698.0</td>\n",
       "      <td>300.0</td>\n",
       "      <td>NaN</td>\n",
       "      <td>291.0</td>\n",
       "      <td>3.0739</td>\n",
       "      <td>87200.0</td>\n",
       "      <td>INLAND</td>\n",
       "      <td>...</td>\n",
       "      <td>1</td>\n",
       "      <td>0</td>\n",
       "      <td>0</td>\n",
       "      <td>0</td>\n",
       "      <td>0</td>\n",
       "      <td>0</td>\n",
       "      <td>1</td>\n",
       "      <td>0</td>\n",
       "      <td>0</td>\n",
       "      <td>0</td>\n",
       "    </tr>\n",
       "    <tr>\n",
       "      <th>20625</th>\n",
       "      <td>-121.52</td>\n",
       "      <td>39.12</td>\n",
       "      <td>37.0</td>\n",
       "      <td>102.0</td>\n",
       "      <td>17.0</td>\n",
       "      <td>29.0</td>\n",
       "      <td>14.0</td>\n",
       "      <td>4.1250</td>\n",
       "      <td>72000.0</td>\n",
       "      <td>INLAND</td>\n",
       "      <td>...</td>\n",
       "      <td>1</td>\n",
       "      <td>0</td>\n",
       "      <td>0</td>\n",
       "      <td>0</td>\n",
       "      <td>0</td>\n",
       "      <td>0</td>\n",
       "      <td>1</td>\n",
       "      <td>0</td>\n",
       "      <td>0</td>\n",
       "      <td>0</td>\n",
       "    </tr>\n",
       "    <tr>\n",
       "      <th>20626</th>\n",
       "      <td>-121.43</td>\n",
       "      <td>39.18</td>\n",
       "      <td>36.0</td>\n",
       "      <td>1124.0</td>\n",
       "      <td>184.0</td>\n",
       "      <td>504.0</td>\n",
       "      <td>171.0</td>\n",
       "      <td>2.1667</td>\n",
       "      <td>93800.0</td>\n",
       "      <td>INLAND</td>\n",
       "      <td>...</td>\n",
       "      <td>1</td>\n",
       "      <td>0</td>\n",
       "      <td>0</td>\n",
       "      <td>0</td>\n",
       "      <td>0</td>\n",
       "      <td>0</td>\n",
       "      <td>1</td>\n",
       "      <td>0</td>\n",
       "      <td>0</td>\n",
       "      <td>0</td>\n",
       "    </tr>\n",
       "    <tr>\n",
       "      <th>20627</th>\n",
       "      <td>-121.32</td>\n",
       "      <td>39.13</td>\n",
       "      <td>5.0</td>\n",
       "      <td>358.0</td>\n",
       "      <td>65.0</td>\n",
       "      <td>169.0</td>\n",
       "      <td>59.0</td>\n",
       "      <td>3.0000</td>\n",
       "      <td>162500.0</td>\n",
       "      <td>INLAND</td>\n",
       "      <td>...</td>\n",
       "      <td>1</td>\n",
       "      <td>0</td>\n",
       "      <td>0</td>\n",
       "      <td>0</td>\n",
       "      <td>0</td>\n",
       "      <td>0</td>\n",
       "      <td>1</td>\n",
       "      <td>0</td>\n",
       "      <td>0</td>\n",
       "      <td>0</td>\n",
       "    </tr>\n",
       "    <tr>\n",
       "      <th>20628</th>\n",
       "      <td>-121.48</td>\n",
       "      <td>39.10</td>\n",
       "      <td>19.0</td>\n",
       "      <td>2043.0</td>\n",
       "      <td>421.0</td>\n",
       "      <td>1018.0</td>\n",
       "      <td>390.0</td>\n",
       "      <td>2.5952</td>\n",
       "      <td>92400.0</td>\n",
       "      <td>INLAND</td>\n",
       "      <td>...</td>\n",
       "      <td>1</td>\n",
       "      <td>0</td>\n",
       "      <td>0</td>\n",
       "      <td>0</td>\n",
       "      <td>0</td>\n",
       "      <td>0</td>\n",
       "      <td>1</td>\n",
       "      <td>0</td>\n",
       "      <td>0</td>\n",
       "      <td>0</td>\n",
       "    </tr>\n",
       "    <tr>\n",
       "      <th>20629</th>\n",
       "      <td>-121.39</td>\n",
       "      <td>39.12</td>\n",
       "      <td>28.0</td>\n",
       "      <td>10035.0</td>\n",
       "      <td>1856.0</td>\n",
       "      <td>6912.0</td>\n",
       "      <td>1818.0</td>\n",
       "      <td>2.0943</td>\n",
       "      <td>108300.0</td>\n",
       "      <td>INLAND</td>\n",
       "      <td>...</td>\n",
       "      <td>1</td>\n",
       "      <td>0</td>\n",
       "      <td>0</td>\n",
       "      <td>0</td>\n",
       "      <td>0</td>\n",
       "      <td>0</td>\n",
       "      <td>1</td>\n",
       "      <td>0</td>\n",
       "      <td>0</td>\n",
       "      <td>0</td>\n",
       "    </tr>\n",
       "    <tr>\n",
       "      <th>20630</th>\n",
       "      <td>-121.32</td>\n",
       "      <td>39.29</td>\n",
       "      <td>11.0</td>\n",
       "      <td>2640.0</td>\n",
       "      <td>505.0</td>\n",
       "      <td>1257.0</td>\n",
       "      <td>445.0</td>\n",
       "      <td>3.5673</td>\n",
       "      <td>112000.0</td>\n",
       "      <td>INLAND</td>\n",
       "      <td>...</td>\n",
       "      <td>1</td>\n",
       "      <td>0</td>\n",
       "      <td>0</td>\n",
       "      <td>0</td>\n",
       "      <td>0</td>\n",
       "      <td>0</td>\n",
       "      <td>1</td>\n",
       "      <td>0</td>\n",
       "      <td>0</td>\n",
       "      <td>0</td>\n",
       "    </tr>\n",
       "    <tr>\n",
       "      <th>20631</th>\n",
       "      <td>-121.40</td>\n",
       "      <td>39.33</td>\n",
       "      <td>15.0</td>\n",
       "      <td>2655.0</td>\n",
       "      <td>493.0</td>\n",
       "      <td>1200.0</td>\n",
       "      <td>432.0</td>\n",
       "      <td>3.5179</td>\n",
       "      <td>107200.0</td>\n",
       "      <td>INLAND</td>\n",
       "      <td>...</td>\n",
       "      <td>1</td>\n",
       "      <td>0</td>\n",
       "      <td>0</td>\n",
       "      <td>0</td>\n",
       "      <td>0</td>\n",
       "      <td>0</td>\n",
       "      <td>1</td>\n",
       "      <td>0</td>\n",
       "      <td>0</td>\n",
       "      <td>0</td>\n",
       "    </tr>\n",
       "    <tr>\n",
       "      <th>20632</th>\n",
       "      <td>-121.45</td>\n",
       "      <td>39.26</td>\n",
       "      <td>15.0</td>\n",
       "      <td>2319.0</td>\n",
       "      <td>416.0</td>\n",
       "      <td>1047.0</td>\n",
       "      <td>385.0</td>\n",
       "      <td>3.1250</td>\n",
       "      <td>115600.0</td>\n",
       "      <td>INLAND</td>\n",
       "      <td>...</td>\n",
       "      <td>1</td>\n",
       "      <td>0</td>\n",
       "      <td>0</td>\n",
       "      <td>0</td>\n",
       "      <td>0</td>\n",
       "      <td>0</td>\n",
       "      <td>1</td>\n",
       "      <td>0</td>\n",
       "      <td>0</td>\n",
       "      <td>0</td>\n",
       "    </tr>\n",
       "    <tr>\n",
       "      <th>20633</th>\n",
       "      <td>-121.53</td>\n",
       "      <td>39.19</td>\n",
       "      <td>27.0</td>\n",
       "      <td>2080.0</td>\n",
       "      <td>412.0</td>\n",
       "      <td>NaN</td>\n",
       "      <td>382.0</td>\n",
       "      <td>2.5495</td>\n",
       "      <td>98300.0</td>\n",
       "      <td>INLAND</td>\n",
       "      <td>...</td>\n",
       "      <td>1</td>\n",
       "      <td>0</td>\n",
       "      <td>0</td>\n",
       "      <td>0</td>\n",
       "      <td>0</td>\n",
       "      <td>0</td>\n",
       "      <td>1</td>\n",
       "      <td>0</td>\n",
       "      <td>0</td>\n",
       "      <td>0</td>\n",
       "    </tr>\n",
       "    <tr>\n",
       "      <th>20634</th>\n",
       "      <td>-121.56</td>\n",
       "      <td>39.27</td>\n",
       "      <td>28.0</td>\n",
       "      <td>2332.0</td>\n",
       "      <td>395.0</td>\n",
       "      <td>1041.0</td>\n",
       "      <td>344.0</td>\n",
       "      <td>3.7125</td>\n",
       "      <td>116800.0</td>\n",
       "      <td>INLAND</td>\n",
       "      <td>...</td>\n",
       "      <td>1</td>\n",
       "      <td>0</td>\n",
       "      <td>0</td>\n",
       "      <td>0</td>\n",
       "      <td>0</td>\n",
       "      <td>0</td>\n",
       "      <td>1</td>\n",
       "      <td>0</td>\n",
       "      <td>0</td>\n",
       "      <td>0</td>\n",
       "    </tr>\n",
       "    <tr>\n",
       "      <th>20635</th>\n",
       "      <td>-121.09</td>\n",
       "      <td>39.48</td>\n",
       "      <td>25.0</td>\n",
       "      <td>1665.0</td>\n",
       "      <td>374.0</td>\n",
       "      <td>845.0</td>\n",
       "      <td>330.0</td>\n",
       "      <td>1.5603</td>\n",
       "      <td>78100.0</td>\n",
       "      <td>INLAND</td>\n",
       "      <td>...</td>\n",
       "      <td>1</td>\n",
       "      <td>0</td>\n",
       "      <td>0</td>\n",
       "      <td>0</td>\n",
       "      <td>0</td>\n",
       "      <td>0</td>\n",
       "      <td>1</td>\n",
       "      <td>0</td>\n",
       "      <td>0</td>\n",
       "      <td>0</td>\n",
       "    </tr>\n",
       "    <tr>\n",
       "      <th>20636</th>\n",
       "      <td>-121.21</td>\n",
       "      <td>39.49</td>\n",
       "      <td>18.0</td>\n",
       "      <td>697.0</td>\n",
       "      <td>150.0</td>\n",
       "      <td>356.0</td>\n",
       "      <td>114.0</td>\n",
       "      <td>2.5568</td>\n",
       "      <td>77100.0</td>\n",
       "      <td>INLAND</td>\n",
       "      <td>...</td>\n",
       "      <td>1</td>\n",
       "      <td>0</td>\n",
       "      <td>0</td>\n",
       "      <td>0</td>\n",
       "      <td>0</td>\n",
       "      <td>0</td>\n",
       "      <td>1</td>\n",
       "      <td>0</td>\n",
       "      <td>0</td>\n",
       "      <td>0</td>\n",
       "    </tr>\n",
       "    <tr>\n",
       "      <th>20637</th>\n",
       "      <td>-121.22</td>\n",
       "      <td>39.43</td>\n",
       "      <td>17.0</td>\n",
       "      <td>2254.0</td>\n",
       "      <td>485.0</td>\n",
       "      <td>NaN</td>\n",
       "      <td>433.0</td>\n",
       "      <td>1.7000</td>\n",
       "      <td>92300.0</td>\n",
       "      <td>INLAND</td>\n",
       "      <td>...</td>\n",
       "      <td>1</td>\n",
       "      <td>0</td>\n",
       "      <td>0</td>\n",
       "      <td>0</td>\n",
       "      <td>0</td>\n",
       "      <td>0</td>\n",
       "      <td>1</td>\n",
       "      <td>0</td>\n",
       "      <td>0</td>\n",
       "      <td>0</td>\n",
       "    </tr>\n",
       "    <tr>\n",
       "      <th>20638</th>\n",
       "      <td>-121.32</td>\n",
       "      <td>39.43</td>\n",
       "      <td>18.0</td>\n",
       "      <td>1860.0</td>\n",
       "      <td>409.0</td>\n",
       "      <td>741.0</td>\n",
       "      <td>349.0</td>\n",
       "      <td>1.8672</td>\n",
       "      <td>84700.0</td>\n",
       "      <td>INLAND</td>\n",
       "      <td>...</td>\n",
       "      <td>1</td>\n",
       "      <td>0</td>\n",
       "      <td>0</td>\n",
       "      <td>0</td>\n",
       "      <td>0</td>\n",
       "      <td>0</td>\n",
       "      <td>1</td>\n",
       "      <td>0</td>\n",
       "      <td>0</td>\n",
       "      <td>0</td>\n",
       "    </tr>\n",
       "    <tr>\n",
       "      <th>20639</th>\n",
       "      <td>-121.24</td>\n",
       "      <td>39.37</td>\n",
       "      <td>16.0</td>\n",
       "      <td>2785.0</td>\n",
       "      <td>616.0</td>\n",
       "      <td>1387.0</td>\n",
       "      <td>530.0</td>\n",
       "      <td>2.3886</td>\n",
       "      <td>89400.0</td>\n",
       "      <td>INLAND</td>\n",
       "      <td>...</td>\n",
       "      <td>1</td>\n",
       "      <td>0</td>\n",
       "      <td>0</td>\n",
       "      <td>0</td>\n",
       "      <td>0</td>\n",
       "      <td>0</td>\n",
       "      <td>1</td>\n",
       "      <td>0</td>\n",
       "      <td>0</td>\n",
       "      <td>0</td>\n",
       "    </tr>\n",
       "  </tbody>\n",
       "</table>\n",
       "<p>20 rows × 29 columns</p>\n",
       "</div>"
      ],
      "text/plain": [
       "       longitude  latitude  housing_median_age  total_rooms  total_bedrooms  \\\n",
       "20620    -121.48     39.05                40.0        198.0            41.0   \n",
       "20621    -121.47     39.01                37.0       1244.0           247.0   \n",
       "20622    -121.44     39.00                20.0        755.0           147.0   \n",
       "20623    -121.37     39.03                32.0       1158.0           244.0   \n",
       "20624    -121.41     39.04                16.0       1698.0           300.0   \n",
       "20625    -121.52     39.12                37.0        102.0            17.0   \n",
       "20626    -121.43     39.18                36.0       1124.0           184.0   \n",
       "20627    -121.32     39.13                 5.0        358.0            65.0   \n",
       "20628    -121.48     39.10                19.0       2043.0           421.0   \n",
       "20629    -121.39     39.12                28.0      10035.0          1856.0   \n",
       "20630    -121.32     39.29                11.0       2640.0           505.0   \n",
       "20631    -121.40     39.33                15.0       2655.0           493.0   \n",
       "20632    -121.45     39.26                15.0       2319.0           416.0   \n",
       "20633    -121.53     39.19                27.0       2080.0           412.0   \n",
       "20634    -121.56     39.27                28.0       2332.0           395.0   \n",
       "20635    -121.09     39.48                25.0       1665.0           374.0   \n",
       "20636    -121.21     39.49                18.0        697.0           150.0   \n",
       "20637    -121.22     39.43                17.0       2254.0           485.0   \n",
       "20638    -121.32     39.43                18.0       1860.0           409.0   \n",
       "20639    -121.24     39.37                16.0       2785.0           616.0   \n",
       "\n",
       "       population  households  median_income  median_house_value  \\\n",
       "20620       151.0        48.0         4.5625            100000.0   \n",
       "20621       484.0       157.0         2.3661             77500.0   \n",
       "20622       457.0       157.0         2.4167             67000.0   \n",
       "20623       598.0       227.0         2.8235             65500.0   \n",
       "20624         NaN       291.0         3.0739             87200.0   \n",
       "20625        29.0        14.0         4.1250             72000.0   \n",
       "20626       504.0       171.0         2.1667             93800.0   \n",
       "20627       169.0        59.0         3.0000            162500.0   \n",
       "20628      1018.0       390.0         2.5952             92400.0   \n",
       "20629      6912.0      1818.0         2.0943            108300.0   \n",
       "20630      1257.0       445.0         3.5673            112000.0   \n",
       "20631      1200.0       432.0         3.5179            107200.0   \n",
       "20632      1047.0       385.0         3.1250            115600.0   \n",
       "20633         NaN       382.0         2.5495             98300.0   \n",
       "20634      1041.0       344.0         3.7125            116800.0   \n",
       "20635       845.0       330.0         1.5603             78100.0   \n",
       "20636       356.0       114.0         2.5568             77100.0   \n",
       "20637         NaN       433.0         1.7000             92300.0   \n",
       "20638       741.0       349.0         1.8672             84700.0   \n",
       "20639      1387.0       530.0         2.3886             89400.0   \n",
       "\n",
       "      ocean_proximity  ...  INLAND  ISLAND  NEAR BAY  NEAR OCEAN  -  \\\n",
       "20620          INLAND  ...       1       0         0           0  0   \n",
       "20621          INLAND  ...       1       0         0           0  0   \n",
       "20622          INLAND  ...       1       0         0           0  0   \n",
       "20623          INLAND  ...       1       0         0           0  0   \n",
       "20624          INLAND  ...       1       0         0           0  0   \n",
       "20625          INLAND  ...       1       0         0           0  0   \n",
       "20626          INLAND  ...       1       0         0           0  0   \n",
       "20627          INLAND  ...       1       0         0           0  0   \n",
       "20628          INLAND  ...       1       0         0           0  0   \n",
       "20629          INLAND  ...       1       0         0           0  0   \n",
       "20630          INLAND  ...       1       0         0           0  0   \n",
       "20631          INLAND  ...       1       0         0           0  0   \n",
       "20632          INLAND  ...       1       0         0           0  0   \n",
       "20633          INLAND  ...       1       0         0           0  0   \n",
       "20634          INLAND  ...       1       0         0           0  0   \n",
       "20635          INLAND  ...       1       0         0           0  0   \n",
       "20636          INLAND  ...       1       0         0           0  0   \n",
       "20637          INLAND  ...       1       0         0           0  0   \n",
       "20638          INLAND  ...       1       0         0           0  0   \n",
       "20639          INLAND  ...       1       0         0           0  0   \n",
       "\n",
       "       <1H OCEAN  INLAND  ISLAND  NEAR BAY  NEAR OCEAN  \n",
       "20620          0       1       0         0           0  \n",
       "20621          0       1       0         0           0  \n",
       "20622          0       1       0         0           0  \n",
       "20623          0       1       0         0           0  \n",
       "20624          0       1       0         0           0  \n",
       "20625          0       1       0         0           0  \n",
       "20626          0       1       0         0           0  \n",
       "20627          0       1       0         0           0  \n",
       "20628          0       1       0         0           0  \n",
       "20629          0       1       0         0           0  \n",
       "20630          0       1       0         0           0  \n",
       "20631          0       1       0         0           0  \n",
       "20632          0       1       0         0           0  \n",
       "20633          0       1       0         0           0  \n",
       "20634          0       1       0         0           0  \n",
       "20635          0       1       0         0           0  \n",
       "20636          0       1       0         0           0  \n",
       "20637          0       1       0         0           0  \n",
       "20638          0       1       0         0           0  \n",
       "20639          0       1       0         0           0  \n",
       "\n",
       "[20 rows x 29 columns]"
      ]
     },
     "execution_count": 17,
     "metadata": {},
     "output_type": "execute_result"
    }
   ],
   "source": [
    "df = pd.concat([df, pd.get_dummies(df['ocean_proximity'])], axis=1)\n",
    "df.tail(20)"
   ]
  },
  {
   "cell_type": "code",
   "execution_count": 19,
   "metadata": {},
   "outputs": [
    {
     "data": {
      "text/html": [
       "<div>\n",
       "<style scoped>\n",
       "    .dataframe tbody tr th:only-of-type {\n",
       "        vertical-align: middle;\n",
       "    }\n",
       "\n",
       "    .dataframe tbody tr th {\n",
       "        vertical-align: top;\n",
       "    }\n",
       "\n",
       "    .dataframe thead th {\n",
       "        text-align: right;\n",
       "    }\n",
       "</style>\n",
       "<table border=\"1\" class=\"dataframe\">\n",
       "  <thead>\n",
       "    <tr style=\"text-align: right;\">\n",
       "      <th></th>\n",
       "      <th>longitude</th>\n",
       "      <th>latitude</th>\n",
       "      <th>housing_median_age</th>\n",
       "      <th>total_rooms</th>\n",
       "      <th>total_bedrooms</th>\n",
       "      <th>population</th>\n",
       "      <th>households</th>\n",
       "      <th>median_income</th>\n",
       "      <th>median_house_value</th>\n",
       "      <th>ocean_proximity</th>\n",
       "      <th>...</th>\n",
       "      <th>INLAND</th>\n",
       "      <th>ISLAND</th>\n",
       "      <th>NEAR BAY</th>\n",
       "      <th>NEAR OCEAN</th>\n",
       "      <th>-</th>\n",
       "      <th>&lt;1H OCEAN</th>\n",
       "      <th>INLAND</th>\n",
       "      <th>ISLAND</th>\n",
       "      <th>NEAR BAY</th>\n",
       "      <th>NEAR OCEAN</th>\n",
       "    </tr>\n",
       "  </thead>\n",
       "  <tbody>\n",
       "    <tr>\n",
       "      <th>1828</th>\n",
       "      <td>-122.31</td>\n",
       "      <td>37.92</td>\n",
       "      <td>12.0</td>\n",
       "      <td>1895.0</td>\n",
       "      <td>600.0</td>\n",
       "      <td>983.0</td>\n",
       "      <td>519.0</td>\n",
       "      <td>2.5000</td>\n",
       "      <td>195800.0</td>\n",
       "      <td>NEAR BAY</td>\n",
       "      <td>...</td>\n",
       "      <td>0</td>\n",
       "      <td>0</td>\n",
       "      <td>1</td>\n",
       "      <td>0</td>\n",
       "      <td>0</td>\n",
       "      <td>0</td>\n",
       "      <td>0</td>\n",
       "      <td>0</td>\n",
       "      <td>1</td>\n",
       "      <td>0</td>\n",
       "    </tr>\n",
       "    <tr>\n",
       "      <th>18296</th>\n",
       "      <td>-122.12</td>\n",
       "      <td>37.39</td>\n",
       "      <td>34.0</td>\n",
       "      <td>3561.0</td>\n",
       "      <td>497.0</td>\n",
       "      <td>1336.0</td>\n",
       "      <td>501.0</td>\n",
       "      <td>8.9172</td>\n",
       "      <td>500001.0</td>\n",
       "      <td>NEAR BAY</td>\n",
       "      <td>...</td>\n",
       "      <td>0</td>\n",
       "      <td>0</td>\n",
       "      <td>1</td>\n",
       "      <td>0</td>\n",
       "      <td>0</td>\n",
       "      <td>0</td>\n",
       "      <td>0</td>\n",
       "      <td>0</td>\n",
       "      <td>1</td>\n",
       "      <td>0</td>\n",
       "    </tr>\n",
       "    <tr>\n",
       "      <th>15439</th>\n",
       "      <td>-117.23</td>\n",
       "      <td>33.20</td>\n",
       "      <td>NaN</td>\n",
       "      <td>2284.0</td>\n",
       "      <td>360.0</td>\n",
       "      <td>999.0</td>\n",
       "      <td>356.0</td>\n",
       "      <td>4.8929</td>\n",
       "      <td>212500.0</td>\n",
       "      <td>&lt;1H OCEAN</td>\n",
       "      <td>...</td>\n",
       "      <td>0</td>\n",
       "      <td>0</td>\n",
       "      <td>0</td>\n",
       "      <td>0</td>\n",
       "      <td>0</td>\n",
       "      <td>1</td>\n",
       "      <td>0</td>\n",
       "      <td>0</td>\n",
       "      <td>0</td>\n",
       "      <td>0</td>\n",
       "    </tr>\n",
       "    <tr>\n",
       "      <th>6869</th>\n",
       "      <td>-118.11</td>\n",
       "      <td>34.06</td>\n",
       "      <td>16.0</td>\n",
       "      <td>2416.0</td>\n",
       "      <td>565.0</td>\n",
       "      <td>1750.0</td>\n",
       "      <td>514.0</td>\n",
       "      <td>2.8229</td>\n",
       "      <td>163700.0</td>\n",
       "      <td>&lt;1H OCEAN</td>\n",
       "      <td>...</td>\n",
       "      <td>0</td>\n",
       "      <td>0</td>\n",
       "      <td>0</td>\n",
       "      <td>0</td>\n",
       "      <td>0</td>\n",
       "      <td>1</td>\n",
       "      <td>0</td>\n",
       "      <td>0</td>\n",
       "      <td>0</td>\n",
       "      <td>0</td>\n",
       "    </tr>\n",
       "    <tr>\n",
       "      <th>4867</th>\n",
       "      <td>-118.28</td>\n",
       "      <td>34.04</td>\n",
       "      <td>20.0</td>\n",
       "      <td>1193.0</td>\n",
       "      <td>454.0</td>\n",
       "      <td>1880.0</td>\n",
       "      <td>453.0</td>\n",
       "      <td>2.1806</td>\n",
       "      <td>180000.0</td>\n",
       "      <td>&lt;1H OCEAN</td>\n",
       "      <td>...</td>\n",
       "      <td>0</td>\n",
       "      <td>0</td>\n",
       "      <td>0</td>\n",
       "      <td>0</td>\n",
       "      <td>0</td>\n",
       "      <td>1</td>\n",
       "      <td>0</td>\n",
       "      <td>0</td>\n",
       "      <td>0</td>\n",
       "      <td>0</td>\n",
       "    </tr>\n",
       "    <tr>\n",
       "      <th>19165</th>\n",
       "      <td>-122.68</td>\n",
       "      <td>38.40</td>\n",
       "      <td>32.0</td>\n",
       "      <td>2826.0</td>\n",
       "      <td>627.0</td>\n",
       "      <td>1767.0</td>\n",
       "      <td>628.0</td>\n",
       "      <td>3.1047</td>\n",
       "      <td>141400.0</td>\n",
       "      <td>&lt;1H OCEAN</td>\n",
       "      <td>...</td>\n",
       "      <td>0</td>\n",
       "      <td>0</td>\n",
       "      <td>0</td>\n",
       "      <td>0</td>\n",
       "      <td>0</td>\n",
       "      <td>1</td>\n",
       "      <td>0</td>\n",
       "      <td>0</td>\n",
       "      <td>0</td>\n",
       "      <td>0</td>\n",
       "    </tr>\n",
       "    <tr>\n",
       "      <th>5239</th>\n",
       "      <td>-118.23</td>\n",
       "      <td>33.93</td>\n",
       "      <td>39.0</td>\n",
       "      <td>2065.0</td>\n",
       "      <td>532.0</td>\n",
       "      <td>2015.0</td>\n",
       "      <td>535.0</td>\n",
       "      <td>0.8478</td>\n",
       "      <td>104900.0</td>\n",
       "      <td>&lt;1H OCEAN</td>\n",
       "      <td>...</td>\n",
       "      <td>0</td>\n",
       "      <td>0</td>\n",
       "      <td>0</td>\n",
       "      <td>0</td>\n",
       "      <td>0</td>\n",
       "      <td>1</td>\n",
       "      <td>0</td>\n",
       "      <td>0</td>\n",
       "      <td>0</td>\n",
       "      <td>0</td>\n",
       "    </tr>\n",
       "    <tr>\n",
       "      <th>556</th>\n",
       "      <td>-122.25</td>\n",
       "      <td>37.77</td>\n",
       "      <td>43.0</td>\n",
       "      <td>4329.0</td>\n",
       "      <td>1110.0</td>\n",
       "      <td>2086.0</td>\n",
       "      <td>1053.0</td>\n",
       "      <td>2.9750</td>\n",
       "      <td>243400.0</td>\n",
       "      <td>NEAR BAY</td>\n",
       "      <td>...</td>\n",
       "      <td>0</td>\n",
       "      <td>0</td>\n",
       "      <td>1</td>\n",
       "      <td>0</td>\n",
       "      <td>0</td>\n",
       "      <td>0</td>\n",
       "      <td>0</td>\n",
       "      <td>0</td>\n",
       "      <td>1</td>\n",
       "      <td>0</td>\n",
       "    </tr>\n",
       "    <tr>\n",
       "      <th>13646</th>\n",
       "      <td>-117.31</td>\n",
       "      <td>34.08</td>\n",
       "      <td>43.0</td>\n",
       "      <td>1697.0</td>\n",
       "      <td>387.0</td>\n",
       "      <td>1181.0</td>\n",
       "      <td>352.0</td>\n",
       "      <td>1.9234</td>\n",
       "      <td>74600.0</td>\n",
       "      <td>INLAND</td>\n",
       "      <td>...</td>\n",
       "      <td>1</td>\n",
       "      <td>0</td>\n",
       "      <td>0</td>\n",
       "      <td>0</td>\n",
       "      <td>0</td>\n",
       "      <td>0</td>\n",
       "      <td>1</td>\n",
       "      <td>0</td>\n",
       "      <td>0</td>\n",
       "      <td>0</td>\n",
       "    </tr>\n",
       "    <tr>\n",
       "      <th>16257</th>\n",
       "      <td>-121.25</td>\n",
       "      <td>37.97</td>\n",
       "      <td>34.0</td>\n",
       "      <td>1288.0</td>\n",
       "      <td>344.0</td>\n",
       "      <td>846.0</td>\n",
       "      <td>293.0</td>\n",
       "      <td>1.7895</td>\n",
       "      <td>63100.0</td>\n",
       "      <td>INLAND</td>\n",
       "      <td>...</td>\n",
       "      <td>1</td>\n",
       "      <td>0</td>\n",
       "      <td>0</td>\n",
       "      <td>0</td>\n",
       "      <td>0</td>\n",
       "      <td>0</td>\n",
       "      <td>1</td>\n",
       "      <td>0</td>\n",
       "      <td>0</td>\n",
       "      <td>0</td>\n",
       "    </tr>\n",
       "  </tbody>\n",
       "</table>\n",
       "<p>10 rows × 29 columns</p>\n",
       "</div>"
      ],
      "text/plain": [
       "       longitude  latitude  housing_median_age  total_rooms  total_bedrooms  \\\n",
       "1828     -122.31     37.92                12.0       1895.0           600.0   \n",
       "18296    -122.12     37.39                34.0       3561.0           497.0   \n",
       "15439    -117.23     33.20                 NaN       2284.0           360.0   \n",
       "6869     -118.11     34.06                16.0       2416.0           565.0   \n",
       "4867     -118.28     34.04                20.0       1193.0           454.0   \n",
       "19165    -122.68     38.40                32.0       2826.0           627.0   \n",
       "5239     -118.23     33.93                39.0       2065.0           532.0   \n",
       "556      -122.25     37.77                43.0       4329.0          1110.0   \n",
       "13646    -117.31     34.08                43.0       1697.0           387.0   \n",
       "16257    -121.25     37.97                34.0       1288.0           344.0   \n",
       "\n",
       "       population  households  median_income  median_house_value  \\\n",
       "1828        983.0       519.0         2.5000            195800.0   \n",
       "18296      1336.0       501.0         8.9172            500001.0   \n",
       "15439       999.0       356.0         4.8929            212500.0   \n",
       "6869       1750.0       514.0         2.8229            163700.0   \n",
       "4867       1880.0       453.0         2.1806            180000.0   \n",
       "19165      1767.0       628.0         3.1047            141400.0   \n",
       "5239       2015.0       535.0         0.8478            104900.0   \n",
       "556        2086.0      1053.0         2.9750            243400.0   \n",
       "13646      1181.0       352.0         1.9234             74600.0   \n",
       "16257       846.0       293.0         1.7895             63100.0   \n",
       "\n",
       "      ocean_proximity  ...  INLAND  ISLAND  NEAR BAY  NEAR OCEAN  -  \\\n",
       "1828         NEAR BAY  ...       0       0         1           0  0   \n",
       "18296        NEAR BAY  ...       0       0         1           0  0   \n",
       "15439       <1H OCEAN  ...       0       0         0           0  0   \n",
       "6869        <1H OCEAN  ...       0       0         0           0  0   \n",
       "4867        <1H OCEAN  ...       0       0         0           0  0   \n",
       "19165       <1H OCEAN  ...       0       0         0           0  0   \n",
       "5239        <1H OCEAN  ...       0       0         0           0  0   \n",
       "556          NEAR BAY  ...       0       0         1           0  0   \n",
       "13646          INLAND  ...       1       0         0           0  0   \n",
       "16257          INLAND  ...       1       0         0           0  0   \n",
       "\n",
       "       <1H OCEAN  INLAND  ISLAND  NEAR BAY  NEAR OCEAN  \n",
       "1828           0       0       0         1           0  \n",
       "18296          0       0       0         1           0  \n",
       "15439          1       0       0         0           0  \n",
       "6869           1       0       0         0           0  \n",
       "4867           1       0       0         0           0  \n",
       "19165          1       0       0         0           0  \n",
       "5239           1       0       0         0           0  \n",
       "556            0       0       0         1           0  \n",
       "13646          0       1       0         0           0  \n",
       "16257          0       1       0         0           0  \n",
       "\n",
       "[10 rows x 29 columns]"
      ]
     },
     "execution_count": 19,
     "metadata": {},
     "output_type": "execute_result"
    }
   ],
   "source": [
    "df.sample(10)"
   ]
  },
  {
   "cell_type": "markdown",
   "metadata": {
    "colab_type": "text",
    "id": "-hRoxmbPZ1KT"
   },
   "source": [
    "**Б) Feature encoding**<a class='anchor' id='feature_encoding'>"
   ]
  },
  {
   "cell_type": "markdown",
   "metadata": {
    "colab_type": "text",
    "id": "syjWtSeyhb8R"
   },
   "source": [
    "Описание категории каким-то числом"
   ]
  },
  {
   "cell_type": "code",
   "execution_count": 20,
   "metadata": {
    "colab": {
     "base_uri": "https://localhost:8080/",
     "height": 206
    },
    "colab_type": "code",
    "id": "sfwweaYcZ1KT",
    "outputId": "557b2762-5385-4b82-e47d-abba06dacbce"
   },
   "outputs": [
    {
     "name": "stdout",
     "output_type": "stream",
     "text": [
      "Index(['ocean_proximity', 'total_bedrooms'], dtype='object')\n"
     ]
    },
    {
     "data": {
      "text/html": [
       "<div>\n",
       "<style scoped>\n",
       "    .dataframe tbody tr th:only-of-type {\n",
       "        vertical-align: middle;\n",
       "    }\n",
       "\n",
       "    .dataframe tbody tr th {\n",
       "        vertical-align: top;\n",
       "    }\n",
       "\n",
       "    .dataframe thead th {\n",
       "        text-align: right;\n",
       "    }\n",
       "</style>\n",
       "<table border=\"1\" class=\"dataframe\">\n",
       "  <thead>\n",
       "    <tr style=\"text-align: right;\">\n",
       "      <th></th>\n",
       "      <th>ocean_proximity</th>\n",
       "      <th>total_bedrooms</th>\n",
       "    </tr>\n",
       "  </thead>\n",
       "  <tbody>\n",
       "    <tr>\n",
       "      <th>0</th>\n",
       "      <td>-</td>\n",
       "      <td>291.0</td>\n",
       "    </tr>\n",
       "    <tr>\n",
       "      <th>1</th>\n",
       "      <td>&lt;1H OCEAN</td>\n",
       "      <td>438.0</td>\n",
       "    </tr>\n",
       "    <tr>\n",
       "      <th>2</th>\n",
       "      <td>INLAND</td>\n",
       "      <td>423.0</td>\n",
       "    </tr>\n",
       "    <tr>\n",
       "      <th>3</th>\n",
       "      <td>ISLAND</td>\n",
       "      <td>512.0</td>\n",
       "    </tr>\n",
       "    <tr>\n",
       "      <th>4</th>\n",
       "      <td>NEAR BAY</td>\n",
       "      <td>423.0</td>\n",
       "    </tr>\n",
       "    <tr>\n",
       "      <th>5</th>\n",
       "      <td>NEAR OCEAN</td>\n",
       "      <td>464.0</td>\n",
       "    </tr>\n",
       "  </tbody>\n",
       "</table>\n",
       "</div>"
      ],
      "text/plain": [
       "  ocean_proximity  total_bedrooms\n",
       "0               -           291.0\n",
       "1       <1H OCEAN           438.0\n",
       "2          INLAND           423.0\n",
       "3          ISLAND           512.0\n",
       "4        NEAR BAY           423.0\n",
       "5      NEAR OCEAN           464.0"
      ]
     },
     "execution_count": 20,
     "metadata": {},
     "output_type": "execute_result"
    }
   ],
   "source": [
    "df_cat = df.groupby('ocean_proximity', as_index=False).median()[['ocean_proximity', 'total_bedrooms']]\n",
    "df_cat = pd.DataFrame(df_cat)\n",
    "print(df_cat.columns)\n",
    "df_cat"
   ]
  },
  {
   "cell_type": "code",
   "execution_count": 21,
   "metadata": {
    "colab": {},
    "colab_type": "code",
    "id": "9Twf9jRNZ1Ki",
    "outputId": "273a11d3-7b20-4b6d-ff77-61946fd42dc4"
   },
   "outputs": [
    {
     "data": {
      "text/html": [
       "<div>\n",
       "<style scoped>\n",
       "    .dataframe tbody tr th:only-of-type {\n",
       "        vertical-align: middle;\n",
       "    }\n",
       "\n",
       "    .dataframe tbody tr th {\n",
       "        vertical-align: top;\n",
       "    }\n",
       "\n",
       "    .dataframe thead th {\n",
       "        text-align: right;\n",
       "    }\n",
       "</style>\n",
       "<table border=\"1\" class=\"dataframe\">\n",
       "  <thead>\n",
       "    <tr style=\"text-align: right;\">\n",
       "      <th></th>\n",
       "      <th>ocean_proximity</th>\n",
       "      <th>median_rooms</th>\n",
       "    </tr>\n",
       "  </thead>\n",
       "  <tbody>\n",
       "    <tr>\n",
       "      <th>0</th>\n",
       "      <td>-</td>\n",
       "      <td>291.0</td>\n",
       "    </tr>\n",
       "    <tr>\n",
       "      <th>2</th>\n",
       "      <td>INLAND</td>\n",
       "      <td>423.0</td>\n",
       "    </tr>\n",
       "    <tr>\n",
       "      <th>4</th>\n",
       "      <td>NEAR BAY</td>\n",
       "      <td>423.0</td>\n",
       "    </tr>\n",
       "    <tr>\n",
       "      <th>1</th>\n",
       "      <td>&lt;1H OCEAN</td>\n",
       "      <td>438.0</td>\n",
       "    </tr>\n",
       "    <tr>\n",
       "      <th>5</th>\n",
       "      <td>NEAR OCEAN</td>\n",
       "      <td>464.0</td>\n",
       "    </tr>\n",
       "    <tr>\n",
       "      <th>3</th>\n",
       "      <td>ISLAND</td>\n",
       "      <td>512.0</td>\n",
       "    </tr>\n",
       "  </tbody>\n",
       "</table>\n",
       "</div>"
      ],
      "text/plain": [
       "  ocean_proximity  median_rooms\n",
       "0               -         291.0\n",
       "2          INLAND         423.0\n",
       "4        NEAR BAY         423.0\n",
       "1       <1H OCEAN         438.0\n",
       "5      NEAR OCEAN         464.0\n",
       "3          ISLAND         512.0"
      ]
     },
     "execution_count": 21,
     "metadata": {},
     "output_type": "execute_result"
    }
   ],
   "source": [
    "df_cat.rename(columns={'total_bedrooms': 'median_rooms'}, inplace=True)\n",
    "\n",
    "df_cat.sort_values(by='median_rooms')"
   ]
  },
  {
   "cell_type": "code",
   "execution_count": 24,
   "metadata": {
    "colab": {},
    "colab_type": "code",
    "id": "F2Iwv1STZ1Kr",
    "outputId": "a011fdd4-236d-4f2d-f160-e84c36072336"
   },
   "outputs": [
    {
     "data": {
      "text/html": [
       "<div>\n",
       "<style scoped>\n",
       "    .dataframe tbody tr th:only-of-type {\n",
       "        vertical-align: middle;\n",
       "    }\n",
       "\n",
       "    .dataframe tbody tr th {\n",
       "        vertical-align: top;\n",
       "    }\n",
       "\n",
       "    .dataframe thead th {\n",
       "        text-align: right;\n",
       "    }\n",
       "</style>\n",
       "<table border=\"1\" class=\"dataframe\">\n",
       "  <thead>\n",
       "    <tr style=\"text-align: right;\">\n",
       "      <th></th>\n",
       "      <th>longitude</th>\n",
       "      <th>latitude</th>\n",
       "      <th>housing_median_age</th>\n",
       "      <th>total_rooms</th>\n",
       "      <th>total_bedrooms</th>\n",
       "      <th>population</th>\n",
       "      <th>households</th>\n",
       "      <th>median_income</th>\n",
       "      <th>median_house_value</th>\n",
       "      <th>ocean_proximity</th>\n",
       "      <th>...</th>\n",
       "      <th>NEAR OCEAN</th>\n",
       "      <th>-</th>\n",
       "      <th>&lt;1H OCEAN</th>\n",
       "      <th>INLAND</th>\n",
       "      <th>ISLAND</th>\n",
       "      <th>NEAR BAY</th>\n",
       "      <th>NEAR OCEAN</th>\n",
       "      <th>median_rooms_x</th>\n",
       "      <th>median_rooms_y</th>\n",
       "      <th>median_rooms</th>\n",
       "    </tr>\n",
       "  </thead>\n",
       "  <tbody>\n",
       "    <tr>\n",
       "      <th>18370</th>\n",
       "      <td>-118.38</td>\n",
       "      <td>33.81</td>\n",
       "      <td>20.0</td>\n",
       "      <td>1975.0</td>\n",
       "      <td>306.0</td>\n",
       "      <td>703.0</td>\n",
       "      <td>292.0</td>\n",
       "      <td>8.5491</td>\n",
       "      <td>410300.0</td>\n",
       "      <td>NEAR OCEAN</td>\n",
       "      <td>...</td>\n",
       "      <td>1</td>\n",
       "      <td>0</td>\n",
       "      <td>0</td>\n",
       "      <td>0</td>\n",
       "      <td>0</td>\n",
       "      <td>0</td>\n",
       "      <td>1</td>\n",
       "      <td>464.0</td>\n",
       "      <td>464.0</td>\n",
       "      <td>464.0</td>\n",
       "    </tr>\n",
       "    <tr>\n",
       "      <th>18168</th>\n",
       "      <td>-118.18</td>\n",
       "      <td>33.83</td>\n",
       "      <td>39.0</td>\n",
       "      <td>3622.0</td>\n",
       "      <td>745.0</td>\n",
       "      <td>1330.0</td>\n",
       "      <td>648.0</td>\n",
       "      <td>3.3125</td>\n",
       "      <td>425500.0</td>\n",
       "      <td>NEAR OCEAN</td>\n",
       "      <td>...</td>\n",
       "      <td>1</td>\n",
       "      <td>0</td>\n",
       "      <td>0</td>\n",
       "      <td>0</td>\n",
       "      <td>0</td>\n",
       "      <td>0</td>\n",
       "      <td>1</td>\n",
       "      <td>464.0</td>\n",
       "      <td>464.0</td>\n",
       "      <td>464.0</td>\n",
       "    </tr>\n",
       "    <tr>\n",
       "      <th>13650</th>\n",
       "      <td>-118.17</td>\n",
       "      <td>34.67</td>\n",
       "      <td>5.0</td>\n",
       "      <td>8352.0</td>\n",
       "      <td>1555.0</td>\n",
       "      <td>3723.0</td>\n",
       "      <td>1389.0</td>\n",
       "      <td>4.5659</td>\n",
       "      <td>140300.0</td>\n",
       "      <td>INLAND</td>\n",
       "      <td>...</td>\n",
       "      <td>0</td>\n",
       "      <td>0</td>\n",
       "      <td>0</td>\n",
       "      <td>1</td>\n",
       "      <td>0</td>\n",
       "      <td>0</td>\n",
       "      <td>0</td>\n",
       "      <td>423.0</td>\n",
       "      <td>423.0</td>\n",
       "      <td>423.0</td>\n",
       "    </tr>\n",
       "    <tr>\n",
       "      <th>14988</th>\n",
       "      <td>-121.47</td>\n",
       "      <td>38.52</td>\n",
       "      <td>26.0</td>\n",
       "      <td>2177.0</td>\n",
       "      <td>638.0</td>\n",
       "      <td>1971.0</td>\n",
       "      <td>560.0</td>\n",
       "      <td>1.2575</td>\n",
       "      <td>66800.0</td>\n",
       "      <td>INLAND</td>\n",
       "      <td>...</td>\n",
       "      <td>0</td>\n",
       "      <td>0</td>\n",
       "      <td>0</td>\n",
       "      <td>1</td>\n",
       "      <td>0</td>\n",
       "      <td>0</td>\n",
       "      <td>0</td>\n",
       "      <td>423.0</td>\n",
       "      <td>423.0</td>\n",
       "      <td>423.0</td>\n",
       "    </tr>\n",
       "    <tr>\n",
       "      <th>15901</th>\n",
       "      <td>-117.29</td>\n",
       "      <td>34.14</td>\n",
       "      <td>52.0</td>\n",
       "      <td>1683.0</td>\n",
       "      <td>266.0</td>\n",
       "      <td>646.0</td>\n",
       "      <td>256.0</td>\n",
       "      <td>4.0481</td>\n",
       "      <td>97300.0</td>\n",
       "      <td>INLAND</td>\n",
       "      <td>...</td>\n",
       "      <td>0</td>\n",
       "      <td>0</td>\n",
       "      <td>0</td>\n",
       "      <td>1</td>\n",
       "      <td>0</td>\n",
       "      <td>0</td>\n",
       "      <td>0</td>\n",
       "      <td>423.0</td>\n",
       "      <td>423.0</td>\n",
       "      <td>423.0</td>\n",
       "    </tr>\n",
       "    <tr>\n",
       "      <th>2721</th>\n",
       "      <td>-118.44</td>\n",
       "      <td>34.21</td>\n",
       "      <td>37.0</td>\n",
       "      <td>1665.0</td>\n",
       "      <td>335.0</td>\n",
       "      <td>1011.0</td>\n",
       "      <td>343.0</td>\n",
       "      <td>4.8703</td>\n",
       "      <td>185100.0</td>\n",
       "      <td>&lt;1H OCEAN</td>\n",
       "      <td>...</td>\n",
       "      <td>0</td>\n",
       "      <td>0</td>\n",
       "      <td>1</td>\n",
       "      <td>0</td>\n",
       "      <td>0</td>\n",
       "      <td>0</td>\n",
       "      <td>0</td>\n",
       "      <td>438.0</td>\n",
       "      <td>438.0</td>\n",
       "      <td>438.0</td>\n",
       "    </tr>\n",
       "    <tr>\n",
       "      <th>15977</th>\n",
       "      <td>-117.31</td>\n",
       "      <td>34.08</td>\n",
       "      <td>43.0</td>\n",
       "      <td>1697.0</td>\n",
       "      <td>387.0</td>\n",
       "      <td>1181.0</td>\n",
       "      <td>352.0</td>\n",
       "      <td>1.9234</td>\n",
       "      <td>74600.0</td>\n",
       "      <td>INLAND</td>\n",
       "      <td>...</td>\n",
       "      <td>0</td>\n",
       "      <td>0</td>\n",
       "      <td>0</td>\n",
       "      <td>1</td>\n",
       "      <td>0</td>\n",
       "      <td>0</td>\n",
       "      <td>0</td>\n",
       "      <td>423.0</td>\n",
       "      <td>423.0</td>\n",
       "      <td>423.0</td>\n",
       "    </tr>\n",
       "    <tr>\n",
       "      <th>13013</th>\n",
       "      <td>-118.17</td>\n",
       "      <td>34.86</td>\n",
       "      <td>21.0</td>\n",
       "      <td>2370.0</td>\n",
       "      <td>540.0</td>\n",
       "      <td>1488.0</td>\n",
       "      <td>554.0</td>\n",
       "      <td>2.7361</td>\n",
       "      <td>83300.0</td>\n",
       "      <td>INLAND</td>\n",
       "      <td>...</td>\n",
       "      <td>0</td>\n",
       "      <td>0</td>\n",
       "      <td>0</td>\n",
       "      <td>1</td>\n",
       "      <td>0</td>\n",
       "      <td>0</td>\n",
       "      <td>0</td>\n",
       "      <td>423.0</td>\n",
       "      <td>423.0</td>\n",
       "      <td>423.0</td>\n",
       "    </tr>\n",
       "    <tr>\n",
       "      <th>17335</th>\n",
       "      <td>-120.89</td>\n",
       "      <td>37.52</td>\n",
       "      <td>42.0</td>\n",
       "      <td>1200.0</td>\n",
       "      <td>221.0</td>\n",
       "      <td>647.0</td>\n",
       "      <td>192.0</td>\n",
       "      <td>2.5402</td>\n",
       "      <td>157500.0</td>\n",
       "      <td>INLAND</td>\n",
       "      <td>...</td>\n",
       "      <td>0</td>\n",
       "      <td>0</td>\n",
       "      <td>0</td>\n",
       "      <td>1</td>\n",
       "      <td>0</td>\n",
       "      <td>0</td>\n",
       "      <td>0</td>\n",
       "      <td>423.0</td>\n",
       "      <td>423.0</td>\n",
       "      <td>423.0</td>\n",
       "    </tr>\n",
       "    <tr>\n",
       "      <th>12253</th>\n",
       "      <td>-119.83</td>\n",
       "      <td>36.80</td>\n",
       "      <td>16.0</td>\n",
       "      <td>6101.0</td>\n",
       "      <td>1200.0</td>\n",
       "      <td>3407.0</td>\n",
       "      <td>1134.0</td>\n",
       "      <td>3.1250</td>\n",
       "      <td>80800.0</td>\n",
       "      <td>INLAND</td>\n",
       "      <td>...</td>\n",
       "      <td>0</td>\n",
       "      <td>0</td>\n",
       "      <td>0</td>\n",
       "      <td>1</td>\n",
       "      <td>0</td>\n",
       "      <td>0</td>\n",
       "      <td>0</td>\n",
       "      <td>423.0</td>\n",
       "      <td>423.0</td>\n",
       "      <td>423.0</td>\n",
       "    </tr>\n",
       "    <tr>\n",
       "      <th>3865</th>\n",
       "      <td>-118.34</td>\n",
       "      <td>34.02</td>\n",
       "      <td>44.0</td>\n",
       "      <td>2067.0</td>\n",
       "      <td>385.0</td>\n",
       "      <td>1046.0</td>\n",
       "      <td>441.0</td>\n",
       "      <td>3.5357</td>\n",
       "      <td>156900.0</td>\n",
       "      <td>&lt;1H OCEAN</td>\n",
       "      <td>...</td>\n",
       "      <td>0</td>\n",
       "      <td>0</td>\n",
       "      <td>1</td>\n",
       "      <td>0</td>\n",
       "      <td>0</td>\n",
       "      <td>0</td>\n",
       "      <td>0</td>\n",
       "      <td>438.0</td>\n",
       "      <td>438.0</td>\n",
       "      <td>438.0</td>\n",
       "    </tr>\n",
       "    <tr>\n",
       "      <th>6251</th>\n",
       "      <td>-118.22</td>\n",
       "      <td>33.88</td>\n",
       "      <td>35.0</td>\n",
       "      <td>998.0</td>\n",
       "      <td>313.0</td>\n",
       "      <td>1335.0</td>\n",
       "      <td>311.0</td>\n",
       "      <td>1.6574</td>\n",
       "      <td>102500.0</td>\n",
       "      <td>&lt;1H OCEAN</td>\n",
       "      <td>...</td>\n",
       "      <td>0</td>\n",
       "      <td>0</td>\n",
       "      <td>1</td>\n",
       "      <td>0</td>\n",
       "      <td>0</td>\n",
       "      <td>0</td>\n",
       "      <td>0</td>\n",
       "      <td>438.0</td>\n",
       "      <td>438.0</td>\n",
       "      <td>438.0</td>\n",
       "    </tr>\n",
       "    <tr>\n",
       "      <th>9548</th>\n",
       "      <td>-117.07</td>\n",
       "      <td>33.03</td>\n",
       "      <td>14.0</td>\n",
       "      <td>6665.0</td>\n",
       "      <td>1231.0</td>\n",
       "      <td>2026.0</td>\n",
       "      <td>1001.0</td>\n",
       "      <td>5.0900</td>\n",
       "      <td>268500.0</td>\n",
       "      <td>&lt;1H OCEAN</td>\n",
       "      <td>...</td>\n",
       "      <td>0</td>\n",
       "      <td>0</td>\n",
       "      <td>1</td>\n",
       "      <td>0</td>\n",
       "      <td>0</td>\n",
       "      <td>0</td>\n",
       "      <td>0</td>\n",
       "      <td>438.0</td>\n",
       "      <td>438.0</td>\n",
       "      <td>438.0</td>\n",
       "    </tr>\n",
       "    <tr>\n",
       "      <th>4348</th>\n",
       "      <td>-118.47</td>\n",
       "      <td>34.06</td>\n",
       "      <td>45.0</td>\n",
       "      <td>1271.0</td>\n",
       "      <td>190.0</td>\n",
       "      <td>419.0</td>\n",
       "      <td>171.0</td>\n",
       "      <td>7.6447</td>\n",
       "      <td>500001.0</td>\n",
       "      <td>&lt;1H OCEAN</td>\n",
       "      <td>...</td>\n",
       "      <td>0</td>\n",
       "      <td>0</td>\n",
       "      <td>1</td>\n",
       "      <td>0</td>\n",
       "      <td>0</td>\n",
       "      <td>0</td>\n",
       "      <td>0</td>\n",
       "      <td>438.0</td>\n",
       "      <td>438.0</td>\n",
       "      <td>438.0</td>\n",
       "    </tr>\n",
       "    <tr>\n",
       "      <th>15011</th>\n",
       "      <td>-121.44</td>\n",
       "      <td>38.48</td>\n",
       "      <td>12.0</td>\n",
       "      <td>4929.0</td>\n",
       "      <td>1010.0</td>\n",
       "      <td>2621.0</td>\n",
       "      <td>870.0</td>\n",
       "      <td>2.7262</td>\n",
       "      <td>109800.0</td>\n",
       "      <td>INLAND</td>\n",
       "      <td>...</td>\n",
       "      <td>0</td>\n",
       "      <td>0</td>\n",
       "      <td>0</td>\n",
       "      <td>1</td>\n",
       "      <td>0</td>\n",
       "      <td>0</td>\n",
       "      <td>0</td>\n",
       "      <td>423.0</td>\n",
       "      <td>423.0</td>\n",
       "      <td>423.0</td>\n",
       "    </tr>\n",
       "    <tr>\n",
       "      <th>16936</th>\n",
       "      <td>-122.90</td>\n",
       "      <td>41.46</td>\n",
       "      <td>31.0</td>\n",
       "      <td>1277.0</td>\n",
       "      <td>263.0</td>\n",
       "      <td>600.0</td>\n",
       "      <td>241.0</td>\n",
       "      <td>1.7292</td>\n",
       "      <td>61700.0</td>\n",
       "      <td>INLAND</td>\n",
       "      <td>...</td>\n",
       "      <td>0</td>\n",
       "      <td>0</td>\n",
       "      <td>0</td>\n",
       "      <td>1</td>\n",
       "      <td>0</td>\n",
       "      <td>0</td>\n",
       "      <td>0</td>\n",
       "      <td>423.0</td>\n",
       "      <td>423.0</td>\n",
       "      <td>423.0</td>\n",
       "    </tr>\n",
       "    <tr>\n",
       "      <th>5193</th>\n",
       "      <td>-117.89</td>\n",
       "      <td>33.98</td>\n",
       "      <td>5.0</td>\n",
       "      <td>3088.0</td>\n",
       "      <td>711.0</td>\n",
       "      <td>1415.0</td>\n",
       "      <td>641.0</td>\n",
       "      <td>2.5125</td>\n",
       "      <td>184500.0</td>\n",
       "      <td>&lt;1H OCEAN</td>\n",
       "      <td>...</td>\n",
       "      <td>0</td>\n",
       "      <td>0</td>\n",
       "      <td>1</td>\n",
       "      <td>0</td>\n",
       "      <td>0</td>\n",
       "      <td>0</td>\n",
       "      <td>0</td>\n",
       "      <td>438.0</td>\n",
       "      <td>438.0</td>\n",
       "      <td>438.0</td>\n",
       "    </tr>\n",
       "    <tr>\n",
       "      <th>2529</th>\n",
       "      <td>-118.44</td>\n",
       "      <td>34.31</td>\n",
       "      <td>22.0</td>\n",
       "      <td>3182.0</td>\n",
       "      <td>822.0</td>\n",
       "      <td>2661.0</td>\n",
       "      <td>746.0</td>\n",
       "      <td>2.7472</td>\n",
       "      <td>160100.0</td>\n",
       "      <td>&lt;1H OCEAN</td>\n",
       "      <td>...</td>\n",
       "      <td>0</td>\n",
       "      <td>0</td>\n",
       "      <td>1</td>\n",
       "      <td>0</td>\n",
       "      <td>0</td>\n",
       "      <td>0</td>\n",
       "      <td>0</td>\n",
       "      <td>438.0</td>\n",
       "      <td>438.0</td>\n",
       "      <td>438.0</td>\n",
       "    </tr>\n",
       "    <tr>\n",
       "      <th>9314</th>\n",
       "      <td>-117.04</td>\n",
       "      <td>32.83</td>\n",
       "      <td>8.0</td>\n",
       "      <td>2205.0</td>\n",
       "      <td>348.0</td>\n",
       "      <td>777.0</td>\n",
       "      <td>341.0</td>\n",
       "      <td>6.0266</td>\n",
       "      <td>177400.0</td>\n",
       "      <td>&lt;1H OCEAN</td>\n",
       "      <td>...</td>\n",
       "      <td>0</td>\n",
       "      <td>0</td>\n",
       "      <td>1</td>\n",
       "      <td>0</td>\n",
       "      <td>0</td>\n",
       "      <td>0</td>\n",
       "      <td>0</td>\n",
       "      <td>438.0</td>\n",
       "      <td>438.0</td>\n",
       "      <td>438.0</td>\n",
       "    </tr>\n",
       "    <tr>\n",
       "      <th>10071</th>\n",
       "      <td>-121.87</td>\n",
       "      <td>37.34</td>\n",
       "      <td>39.0</td>\n",
       "      <td>2479.0</td>\n",
       "      <td>541.0</td>\n",
       "      <td>1990.0</td>\n",
       "      <td>506.0</td>\n",
       "      <td>2.4306</td>\n",
       "      <td>289100.0</td>\n",
       "      <td>&lt;1H OCEAN</td>\n",
       "      <td>...</td>\n",
       "      <td>0</td>\n",
       "      <td>0</td>\n",
       "      <td>1</td>\n",
       "      <td>0</td>\n",
       "      <td>0</td>\n",
       "      <td>0</td>\n",
       "      <td>0</td>\n",
       "      <td>438.0</td>\n",
       "      <td>438.0</td>\n",
       "      <td>438.0</td>\n",
       "    </tr>\n",
       "  </tbody>\n",
       "</table>\n",
       "<p>20 rows × 32 columns</p>\n",
       "</div>"
      ],
      "text/plain": [
       "       longitude  latitude  housing_median_age  total_rooms  total_bedrooms  \\\n",
       "18370    -118.38     33.81                20.0       1975.0           306.0   \n",
       "18168    -118.18     33.83                39.0       3622.0           745.0   \n",
       "13650    -118.17     34.67                 5.0       8352.0          1555.0   \n",
       "14988    -121.47     38.52                26.0       2177.0           638.0   \n",
       "15901    -117.29     34.14                52.0       1683.0           266.0   \n",
       "2721     -118.44     34.21                37.0       1665.0           335.0   \n",
       "15977    -117.31     34.08                43.0       1697.0           387.0   \n",
       "13013    -118.17     34.86                21.0       2370.0           540.0   \n",
       "17335    -120.89     37.52                42.0       1200.0           221.0   \n",
       "12253    -119.83     36.80                16.0       6101.0          1200.0   \n",
       "3865     -118.34     34.02                44.0       2067.0           385.0   \n",
       "6251     -118.22     33.88                35.0        998.0           313.0   \n",
       "9548     -117.07     33.03                14.0       6665.0          1231.0   \n",
       "4348     -118.47     34.06                45.0       1271.0           190.0   \n",
       "15011    -121.44     38.48                12.0       4929.0          1010.0   \n",
       "16936    -122.90     41.46                31.0       1277.0           263.0   \n",
       "5193     -117.89     33.98                 5.0       3088.0           711.0   \n",
       "2529     -118.44     34.31                22.0       3182.0           822.0   \n",
       "9314     -117.04     32.83                 8.0       2205.0           348.0   \n",
       "10071    -121.87     37.34                39.0       2479.0           541.0   \n",
       "\n",
       "       population  households  median_income  median_house_value  \\\n",
       "18370       703.0       292.0         8.5491            410300.0   \n",
       "18168      1330.0       648.0         3.3125            425500.0   \n",
       "13650      3723.0      1389.0         4.5659            140300.0   \n",
       "14988      1971.0       560.0         1.2575             66800.0   \n",
       "15901       646.0       256.0         4.0481             97300.0   \n",
       "2721       1011.0       343.0         4.8703            185100.0   \n",
       "15977      1181.0       352.0         1.9234             74600.0   \n",
       "13013      1488.0       554.0         2.7361             83300.0   \n",
       "17335       647.0       192.0         2.5402            157500.0   \n",
       "12253      3407.0      1134.0         3.1250             80800.0   \n",
       "3865       1046.0       441.0         3.5357            156900.0   \n",
       "6251       1335.0       311.0         1.6574            102500.0   \n",
       "9548       2026.0      1001.0         5.0900            268500.0   \n",
       "4348        419.0       171.0         7.6447            500001.0   \n",
       "15011      2621.0       870.0         2.7262            109800.0   \n",
       "16936       600.0       241.0         1.7292             61700.0   \n",
       "5193       1415.0       641.0         2.5125            184500.0   \n",
       "2529       2661.0       746.0         2.7472            160100.0   \n",
       "9314        777.0       341.0         6.0266            177400.0   \n",
       "10071      1990.0       506.0         2.4306            289100.0   \n",
       "\n",
       "      ocean_proximity  ...  NEAR OCEAN  -  <1H OCEAN  INLAND  ISLAND  \\\n",
       "18370      NEAR OCEAN  ...           1  0          0       0       0   \n",
       "18168      NEAR OCEAN  ...           1  0          0       0       0   \n",
       "13650          INLAND  ...           0  0          0       1       0   \n",
       "14988          INLAND  ...           0  0          0       1       0   \n",
       "15901          INLAND  ...           0  0          0       1       0   \n",
       "2721        <1H OCEAN  ...           0  0          1       0       0   \n",
       "15977          INLAND  ...           0  0          0       1       0   \n",
       "13013          INLAND  ...           0  0          0       1       0   \n",
       "17335          INLAND  ...           0  0          0       1       0   \n",
       "12253          INLAND  ...           0  0          0       1       0   \n",
       "3865        <1H OCEAN  ...           0  0          1       0       0   \n",
       "6251        <1H OCEAN  ...           0  0          1       0       0   \n",
       "9548        <1H OCEAN  ...           0  0          1       0       0   \n",
       "4348        <1H OCEAN  ...           0  0          1       0       0   \n",
       "15011          INLAND  ...           0  0          0       1       0   \n",
       "16936          INLAND  ...           0  0          0       1       0   \n",
       "5193        <1H OCEAN  ...           0  0          1       0       0   \n",
       "2529        <1H OCEAN  ...           0  0          1       0       0   \n",
       "9314        <1H OCEAN  ...           0  0          1       0       0   \n",
       "10071       <1H OCEAN  ...           0  0          1       0       0   \n",
       "\n",
       "       NEAR BAY  NEAR OCEAN  median_rooms_x  median_rooms_y  median_rooms  \n",
       "18370         0           1           464.0           464.0         464.0  \n",
       "18168         0           1           464.0           464.0         464.0  \n",
       "13650         0           0           423.0           423.0         423.0  \n",
       "14988         0           0           423.0           423.0         423.0  \n",
       "15901         0           0           423.0           423.0         423.0  \n",
       "2721          0           0           438.0           438.0         438.0  \n",
       "15977         0           0           423.0           423.0         423.0  \n",
       "13013         0           0           423.0           423.0         423.0  \n",
       "17335         0           0           423.0           423.0         423.0  \n",
       "12253         0           0           423.0           423.0         423.0  \n",
       "3865          0           0           438.0           438.0         438.0  \n",
       "6251          0           0           438.0           438.0         438.0  \n",
       "9548          0           0           438.0           438.0         438.0  \n",
       "4348          0           0           438.0           438.0         438.0  \n",
       "15011         0           0           423.0           423.0         423.0  \n",
       "16936         0           0           423.0           423.0         423.0  \n",
       "5193          0           0           438.0           438.0         438.0  \n",
       "2529          0           0           438.0           438.0         438.0  \n",
       "9314          0           0           438.0           438.0         438.0  \n",
       "10071         0           0           438.0           438.0         438.0  \n",
       "\n",
       "[20 rows x 32 columns]"
      ]
     },
     "execution_count": 24,
     "metadata": {},
     "output_type": "execute_result"
    }
   ],
   "source": [
    "df = df.merge(df_cat, on=['ocean_proximity'])\n",
    "\n",
    "df.sample(20)"
   ]
  },
  {
   "cell_type": "markdown",
   "metadata": {
    "colab_type": "text",
    "id": "sd9tJ5qbZ1KP"
   },
   "source": [
    "**Вещественные переменные**<a class='acnhor' id='numeric_feature'>"
   ]
  },
  {
   "cell_type": "markdown",
   "metadata": {
    "colab_type": "text",
    "id": "0cir0aCBZ1K8"
   },
   "source": [
    "Описание методов можно посмотреть [здесь](https://towardsdatascience.com/encoding-categorical-features-21a2651a065c)"
   ]
  },
  {
   "cell_type": "markdown",
   "metadata": {},
   "source": [
    "**A) Feature discretization** <a class='acnhor' id='feature_discretization'>\n",
    "\n",
    "[Статья на эту тему](https://towardsdatascience.com/an-introduction-to-discretization-in-data-science-55ef8c9775a2)\n",
    "\n",
    "**возраст дома (0-100)**\n",
    "\n",
    "1 категория - новые дома (до 5 лет),<br>2 категория - дома от 5 до 10<br>...\n"
   ]
  },
  {
   "cell_type": "code",
   "execution_count": 25,
   "metadata": {},
   "outputs": [],
   "source": [
    "def age_to_cat(X):\n",
    "\n",
    "    X['age_cat'] = 0\n",
    "\n",
    "    X.loc[X['housing_median_age'] <= 5, 'age_cat'] = 1  \n",
    "    X.loc[(X['housing_median_age'] > 5) & (X['housing_median_age'] <= 10), 'age_cat'] = 2\n",
    "    X.loc[(X['housing_median_age'] > 10) & (X['housing_median_age'] <= 25), 'age_cat'] = 3\n",
    "    X.loc[X['housing_median_age'] > 25, 'age_cat'] = 4\n",
    "\n",
    "    return X"
   ]
  },
  {
   "cell_type": "code",
   "execution_count": 26,
   "metadata": {},
   "outputs": [
    {
     "data": {
      "text/html": [
       "<div>\n",
       "<style scoped>\n",
       "    .dataframe tbody tr th:only-of-type {\n",
       "        vertical-align: middle;\n",
       "    }\n",
       "\n",
       "    .dataframe tbody tr th {\n",
       "        vertical-align: top;\n",
       "    }\n",
       "\n",
       "    .dataframe thead th {\n",
       "        text-align: right;\n",
       "    }\n",
       "</style>\n",
       "<table border=\"1\" class=\"dataframe\">\n",
       "  <thead>\n",
       "    <tr style=\"text-align: right;\">\n",
       "      <th></th>\n",
       "      <th>longitude</th>\n",
       "      <th>latitude</th>\n",
       "      <th>housing_median_age</th>\n",
       "      <th>total_rooms</th>\n",
       "      <th>total_bedrooms</th>\n",
       "      <th>population</th>\n",
       "      <th>households</th>\n",
       "      <th>median_income</th>\n",
       "      <th>median_house_value</th>\n",
       "      <th>ocean_proximity</th>\n",
       "      <th>...</th>\n",
       "      <th>-</th>\n",
       "      <th>&lt;1H OCEAN</th>\n",
       "      <th>INLAND</th>\n",
       "      <th>ISLAND</th>\n",
       "      <th>NEAR BAY</th>\n",
       "      <th>NEAR OCEAN</th>\n",
       "      <th>median_rooms_x</th>\n",
       "      <th>median_rooms_y</th>\n",
       "      <th>median_rooms</th>\n",
       "      <th>age_cat</th>\n",
       "    </tr>\n",
       "  </thead>\n",
       "  <tbody>\n",
       "    <tr>\n",
       "      <th>0</th>\n",
       "      <td>-122.23</td>\n",
       "      <td>37.88</td>\n",
       "      <td>41.0</td>\n",
       "      <td>880.0</td>\n",
       "      <td>129.0</td>\n",
       "      <td>322.0</td>\n",
       "      <td>126.0</td>\n",
       "      <td>8.3252</td>\n",
       "      <td>452600.0</td>\n",
       "      <td>NEAR BAY</td>\n",
       "      <td>...</td>\n",
       "      <td>0</td>\n",
       "      <td>0</td>\n",
       "      <td>0</td>\n",
       "      <td>0</td>\n",
       "      <td>1</td>\n",
       "      <td>0</td>\n",
       "      <td>423.0</td>\n",
       "      <td>423.0</td>\n",
       "      <td>423.0</td>\n",
       "      <td>4</td>\n",
       "    </tr>\n",
       "    <tr>\n",
       "      <th>1</th>\n",
       "      <td>-122.22</td>\n",
       "      <td>37.86</td>\n",
       "      <td>21.0</td>\n",
       "      <td>7099.0</td>\n",
       "      <td>1106.0</td>\n",
       "      <td>2401.0</td>\n",
       "      <td>1138.0</td>\n",
       "      <td>8.3014</td>\n",
       "      <td>358500.0</td>\n",
       "      <td>NEAR BAY</td>\n",
       "      <td>...</td>\n",
       "      <td>0</td>\n",
       "      <td>0</td>\n",
       "      <td>0</td>\n",
       "      <td>0</td>\n",
       "      <td>1</td>\n",
       "      <td>0</td>\n",
       "      <td>423.0</td>\n",
       "      <td>423.0</td>\n",
       "      <td>423.0</td>\n",
       "      <td>3</td>\n",
       "    </tr>\n",
       "    <tr>\n",
       "      <th>2</th>\n",
       "      <td>-122.24</td>\n",
       "      <td>37.85</td>\n",
       "      <td>52.0</td>\n",
       "      <td>1467.0</td>\n",
       "      <td>190.0</td>\n",
       "      <td>496.0</td>\n",
       "      <td>177.0</td>\n",
       "      <td>7.2574</td>\n",
       "      <td>352100.0</td>\n",
       "      <td>NEAR BAY</td>\n",
       "      <td>...</td>\n",
       "      <td>0</td>\n",
       "      <td>0</td>\n",
       "      <td>0</td>\n",
       "      <td>0</td>\n",
       "      <td>1</td>\n",
       "      <td>0</td>\n",
       "      <td>423.0</td>\n",
       "      <td>423.0</td>\n",
       "      <td>423.0</td>\n",
       "      <td>4</td>\n",
       "    </tr>\n",
       "    <tr>\n",
       "      <th>3</th>\n",
       "      <td>-122.25</td>\n",
       "      <td>37.85</td>\n",
       "      <td>52.0</td>\n",
       "      <td>1274.0</td>\n",
       "      <td>235.0</td>\n",
       "      <td>558.0</td>\n",
       "      <td>219.0</td>\n",
       "      <td>5.6431</td>\n",
       "      <td>341300.0</td>\n",
       "      <td>NEAR BAY</td>\n",
       "      <td>...</td>\n",
       "      <td>0</td>\n",
       "      <td>0</td>\n",
       "      <td>0</td>\n",
       "      <td>0</td>\n",
       "      <td>1</td>\n",
       "      <td>0</td>\n",
       "      <td>423.0</td>\n",
       "      <td>423.0</td>\n",
       "      <td>423.0</td>\n",
       "      <td>4</td>\n",
       "    </tr>\n",
       "    <tr>\n",
       "      <th>4</th>\n",
       "      <td>-122.25</td>\n",
       "      <td>37.85</td>\n",
       "      <td>52.0</td>\n",
       "      <td>1627.0</td>\n",
       "      <td>280.0</td>\n",
       "      <td>565.0</td>\n",
       "      <td>259.0</td>\n",
       "      <td>3.8462</td>\n",
       "      <td>342200.0</td>\n",
       "      <td>NEAR BAY</td>\n",
       "      <td>...</td>\n",
       "      <td>0</td>\n",
       "      <td>0</td>\n",
       "      <td>0</td>\n",
       "      <td>0</td>\n",
       "      <td>1</td>\n",
       "      <td>0</td>\n",
       "      <td>423.0</td>\n",
       "      <td>423.0</td>\n",
       "      <td>423.0</td>\n",
       "      <td>4</td>\n",
       "    </tr>\n",
       "  </tbody>\n",
       "</table>\n",
       "<p>5 rows × 33 columns</p>\n",
       "</div>"
      ],
      "text/plain": [
       "   longitude  latitude  housing_median_age  total_rooms  total_bedrooms  \\\n",
       "0    -122.23     37.88                41.0        880.0           129.0   \n",
       "1    -122.22     37.86                21.0       7099.0          1106.0   \n",
       "2    -122.24     37.85                52.0       1467.0           190.0   \n",
       "3    -122.25     37.85                52.0       1274.0           235.0   \n",
       "4    -122.25     37.85                52.0       1627.0           280.0   \n",
       "\n",
       "   population  households  median_income  median_house_value ocean_proximity  \\\n",
       "0       322.0       126.0         8.3252            452600.0        NEAR BAY   \n",
       "1      2401.0      1138.0         8.3014            358500.0        NEAR BAY   \n",
       "2       496.0       177.0         7.2574            352100.0        NEAR BAY   \n",
       "3       558.0       219.0         5.6431            341300.0        NEAR BAY   \n",
       "4       565.0       259.0         3.8462            342200.0        NEAR BAY   \n",
       "\n",
       "   ...  -  <1H OCEAN  INLAND  ISLAND  NEAR BAY  NEAR OCEAN  median_rooms_x  \\\n",
       "0  ...  0          0       0       0         1           0           423.0   \n",
       "1  ...  0          0       0       0         1           0           423.0   \n",
       "2  ...  0          0       0       0         1           0           423.0   \n",
       "3  ...  0          0       0       0         1           0           423.0   \n",
       "4  ...  0          0       0       0         1           0           423.0   \n",
       "\n",
       "   median_rooms_y  median_rooms  age_cat  \n",
       "0           423.0         423.0        4  \n",
       "1           423.0         423.0        3  \n",
       "2           423.0         423.0        4  \n",
       "3           423.0         423.0        4  \n",
       "4           423.0         423.0        4  \n",
       "\n",
       "[5 rows x 33 columns]"
      ]
     },
     "execution_count": 26,
     "metadata": {},
     "output_type": "execute_result"
    }
   ],
   "source": [
    "df = age_to_cat(df)\n",
    "df.head()"
   ]
  },
  {
   "cell_type": "markdown",
   "metadata": {
    "colab_type": "text",
    "id": "EyDZgw0YZ1K8"
   },
   "source": [
    "**Б) Feature binarization** <a class='anchor' id='feature_binarization'>\n",
    "\n",
    "[Статья на эту тему](https://subscription.packtpub.com/book/big_data_and_business_intelligence/9781789808452/1/ch01lvl1sec17/binarization)\n",
    "\n",
    "только 1 признак\n",
    "\n",
    "1 - новый дом,<br>0 - старый"
   ]
  },
  {
   "cell_type": "code",
   "execution_count": 29,
   "metadata": {},
   "outputs": [],
   "source": [
    "def age_to_binary_cat(X):\n",
    "\n",
    "    X['age_binary_cat'] = 0\n",
    "    X.loc[X['housing_median_age'] <= 5, 'age_binary_cat'] = 1  \n",
    "\n",
    "    return X"
   ]
  },
  {
   "cell_type": "code",
   "execution_count": 30,
   "metadata": {},
   "outputs": [
    {
     "data": {
      "text/html": [
       "<div>\n",
       "<style scoped>\n",
       "    .dataframe tbody tr th:only-of-type {\n",
       "        vertical-align: middle;\n",
       "    }\n",
       "\n",
       "    .dataframe tbody tr th {\n",
       "        vertical-align: top;\n",
       "    }\n",
       "\n",
       "    .dataframe thead th {\n",
       "        text-align: right;\n",
       "    }\n",
       "</style>\n",
       "<table border=\"1\" class=\"dataframe\">\n",
       "  <thead>\n",
       "    <tr style=\"text-align: right;\">\n",
       "      <th></th>\n",
       "      <th>longitude</th>\n",
       "      <th>latitude</th>\n",
       "      <th>housing_median_age</th>\n",
       "      <th>total_rooms</th>\n",
       "      <th>total_bedrooms</th>\n",
       "      <th>population</th>\n",
       "      <th>households</th>\n",
       "      <th>median_income</th>\n",
       "      <th>median_house_value</th>\n",
       "      <th>ocean_proximity</th>\n",
       "      <th>...</th>\n",
       "      <th>&lt;1H OCEAN</th>\n",
       "      <th>INLAND</th>\n",
       "      <th>ISLAND</th>\n",
       "      <th>NEAR BAY</th>\n",
       "      <th>NEAR OCEAN</th>\n",
       "      <th>median_rooms_x</th>\n",
       "      <th>median_rooms_y</th>\n",
       "      <th>median_rooms</th>\n",
       "      <th>age_cat</th>\n",
       "      <th>age_binary_cat</th>\n",
       "    </tr>\n",
       "  </thead>\n",
       "  <tbody>\n",
       "    <tr>\n",
       "      <th>0</th>\n",
       "      <td>-122.23</td>\n",
       "      <td>37.88</td>\n",
       "      <td>41.0</td>\n",
       "      <td>880.0</td>\n",
       "      <td>129.0</td>\n",
       "      <td>322.0</td>\n",
       "      <td>126.0</td>\n",
       "      <td>8.3252</td>\n",
       "      <td>452600.0</td>\n",
       "      <td>NEAR BAY</td>\n",
       "      <td>...</td>\n",
       "      <td>0</td>\n",
       "      <td>0</td>\n",
       "      <td>0</td>\n",
       "      <td>1</td>\n",
       "      <td>0</td>\n",
       "      <td>423.0</td>\n",
       "      <td>423.0</td>\n",
       "      <td>423.0</td>\n",
       "      <td>4</td>\n",
       "      <td>0</td>\n",
       "    </tr>\n",
       "    <tr>\n",
       "      <th>1</th>\n",
       "      <td>-122.22</td>\n",
       "      <td>37.86</td>\n",
       "      <td>21.0</td>\n",
       "      <td>7099.0</td>\n",
       "      <td>1106.0</td>\n",
       "      <td>2401.0</td>\n",
       "      <td>1138.0</td>\n",
       "      <td>8.3014</td>\n",
       "      <td>358500.0</td>\n",
       "      <td>NEAR BAY</td>\n",
       "      <td>...</td>\n",
       "      <td>0</td>\n",
       "      <td>0</td>\n",
       "      <td>0</td>\n",
       "      <td>1</td>\n",
       "      <td>0</td>\n",
       "      <td>423.0</td>\n",
       "      <td>423.0</td>\n",
       "      <td>423.0</td>\n",
       "      <td>3</td>\n",
       "      <td>0</td>\n",
       "    </tr>\n",
       "    <tr>\n",
       "      <th>2</th>\n",
       "      <td>-122.24</td>\n",
       "      <td>37.85</td>\n",
       "      <td>52.0</td>\n",
       "      <td>1467.0</td>\n",
       "      <td>190.0</td>\n",
       "      <td>496.0</td>\n",
       "      <td>177.0</td>\n",
       "      <td>7.2574</td>\n",
       "      <td>352100.0</td>\n",
       "      <td>NEAR BAY</td>\n",
       "      <td>...</td>\n",
       "      <td>0</td>\n",
       "      <td>0</td>\n",
       "      <td>0</td>\n",
       "      <td>1</td>\n",
       "      <td>0</td>\n",
       "      <td>423.0</td>\n",
       "      <td>423.0</td>\n",
       "      <td>423.0</td>\n",
       "      <td>4</td>\n",
       "      <td>0</td>\n",
       "    </tr>\n",
       "    <tr>\n",
       "      <th>3</th>\n",
       "      <td>-122.25</td>\n",
       "      <td>37.85</td>\n",
       "      <td>52.0</td>\n",
       "      <td>1274.0</td>\n",
       "      <td>235.0</td>\n",
       "      <td>558.0</td>\n",
       "      <td>219.0</td>\n",
       "      <td>5.6431</td>\n",
       "      <td>341300.0</td>\n",
       "      <td>NEAR BAY</td>\n",
       "      <td>...</td>\n",
       "      <td>0</td>\n",
       "      <td>0</td>\n",
       "      <td>0</td>\n",
       "      <td>1</td>\n",
       "      <td>0</td>\n",
       "      <td>423.0</td>\n",
       "      <td>423.0</td>\n",
       "      <td>423.0</td>\n",
       "      <td>4</td>\n",
       "      <td>0</td>\n",
       "    </tr>\n",
       "    <tr>\n",
       "      <th>4</th>\n",
       "      <td>-122.25</td>\n",
       "      <td>37.85</td>\n",
       "      <td>52.0</td>\n",
       "      <td>1627.0</td>\n",
       "      <td>280.0</td>\n",
       "      <td>565.0</td>\n",
       "      <td>259.0</td>\n",
       "      <td>3.8462</td>\n",
       "      <td>342200.0</td>\n",
       "      <td>NEAR BAY</td>\n",
       "      <td>...</td>\n",
       "      <td>0</td>\n",
       "      <td>0</td>\n",
       "      <td>0</td>\n",
       "      <td>1</td>\n",
       "      <td>0</td>\n",
       "      <td>423.0</td>\n",
       "      <td>423.0</td>\n",
       "      <td>423.0</td>\n",
       "      <td>4</td>\n",
       "      <td>0</td>\n",
       "    </tr>\n",
       "  </tbody>\n",
       "</table>\n",
       "<p>5 rows × 34 columns</p>\n",
       "</div>"
      ],
      "text/plain": [
       "   longitude  latitude  housing_median_age  total_rooms  total_bedrooms  \\\n",
       "0    -122.23     37.88                41.0        880.0           129.0   \n",
       "1    -122.22     37.86                21.0       7099.0          1106.0   \n",
       "2    -122.24     37.85                52.0       1467.0           190.0   \n",
       "3    -122.25     37.85                52.0       1274.0           235.0   \n",
       "4    -122.25     37.85                52.0       1627.0           280.0   \n",
       "\n",
       "   population  households  median_income  median_house_value ocean_proximity  \\\n",
       "0       322.0       126.0         8.3252            452600.0        NEAR BAY   \n",
       "1      2401.0      1138.0         8.3014            358500.0        NEAR BAY   \n",
       "2       496.0       177.0         7.2574            352100.0        NEAR BAY   \n",
       "3       558.0       219.0         5.6431            341300.0        NEAR BAY   \n",
       "4       565.0       259.0         3.8462            342200.0        NEAR BAY   \n",
       "\n",
       "   ...  <1H OCEAN  INLAND  ISLAND  NEAR BAY  NEAR OCEAN  median_rooms_x  \\\n",
       "0  ...          0       0       0         1           0           423.0   \n",
       "1  ...          0       0       0         1           0           423.0   \n",
       "2  ...          0       0       0         1           0           423.0   \n",
       "3  ...          0       0       0         1           0           423.0   \n",
       "4  ...          0       0       0         1           0           423.0   \n",
       "\n",
       "   median_rooms_y  median_rooms  age_cat  age_binary_cat  \n",
       "0           423.0         423.0        4               0  \n",
       "1           423.0         423.0        3               0  \n",
       "2           423.0         423.0        4               0  \n",
       "3           423.0         423.0        4               0  \n",
       "4           423.0         423.0        4               0  \n",
       "\n",
       "[5 rows x 34 columns]"
      ]
     },
     "execution_count": 30,
     "metadata": {},
     "output_type": "execute_result"
    }
   ],
   "source": [
    "df = age_to_binary_cat(df)\n",
    "df.head()"
   ]
  },
  {
   "cell_type": "code",
   "execution_count": 28,
   "metadata": {},
   "outputs": [],
   "source": [
    "# 2 способ \n",
    "v = [1 if x <= 5 else 0 for x in df['housing_median_age']]\n",
    "df['age_binary_cat'] = v"
   ]
  },
  {
   "cell_type": "markdown",
   "metadata": {},
   "source": [
    "### Обобщение\n",
    "* Генерация новых признаков\n",
    "    1. Категориальные признаки\n",
    "        * pd.get_dummies\n",
    "        * Feature Encoding\n",
    "    2. Вещественные признаки\n",
    "        * Feature discretization (optbinning)\n",
    "        * Feature binarization\n",
    "    3. Основываясь на логике задачи\n",
    "    4. Автоматическая генерация фичей (к примеру, библиотека feature tools)"
   ]
  },
  {
   "cell_type": "markdown",
   "metadata": {
    "colab_type": "text",
    "id": "K29yWf62Z1K8"
   },
   "source": [
    "### 6. Сохранение результатов<a class='anchor' id='save'>"
   ]
  },
  {
   "cell_type": "code",
   "execution_count": 74,
   "metadata": {
    "colab": {},
    "colab_type": "code",
    "id": "E5VeRWNAZ1LA"
   },
   "outputs": [],
   "source": [
    "df.to_csv(PREPARED_DATASET_PATH, index=False, encoding='utf-8', sep=';')"
   ]
  },
  {
   "cell_type": "code",
   "execution_count": 75,
   "metadata": {},
   "outputs": [
    {
     "data": {
      "text/plain": [
       "26"
      ]
     },
     "execution_count": 75,
     "metadata": {},
     "output_type": "execute_result"
    }
   ],
   "source": [
    "len(df.columns)"
   ]
  },
  {
   "cell_type": "code",
   "execution_count": null,
   "metadata": {},
   "outputs": [],
   "source": []
  },
  {
   "cell_type": "code",
   "execution_count": null,
   "metadata": {},
   "outputs": [],
   "source": []
  },
  {
   "cell_type": "code",
   "execution_count": 107,
   "metadata": {},
   "outputs": [],
   "source": [
    "import numpy as np\n",
    "import pandas as pd"
   ]
  },
  {
   "cell_type": "code",
   "execution_count": 108,
   "metadata": {},
   "outputs": [],
   "source": [
    "class DataPipeline:\n",
    "    \"\"\"Подготовка исходных данных\"\"\"\n",
    "    \n",
    "    def __init__(self):\n",
    "        \"\"\"Параметры класса\"\"\"\n",
    "        self.medians = None\n",
    "\n",
    "        \n",
    "    def fit(self, df):\n",
    "        \"\"\"Сохранение статистик\"\"\"\n",
    "        \n",
    "        # Расчет медиан\n",
    "        self.medians = df[['population', 'housing_median_age', 'total_bedrooms']].median()\n",
    "                                                                      \n",
    "    def transform(self, df):\n",
    "        \"\"\"Трансформация данных\"\"\"\n",
    "        \n",
    "        # 1. Пропуски\n",
    "        \n",
    "        df[['population', 'housing_median_age', 'total_bedrooms']] =\\\n",
    "            df[['population', 'housing_median_age', 'total_bedrooms']].fillna(self.medians)\n",
    "                \n",
    "        return df\n"
   ]
  },
  {
   "cell_type": "code",
   "execution_count": 31,
   "metadata": {},
   "outputs": [],
   "source": [
    "class DataPipeline:\n",
    "    \"\"\"Подготовка исходных данных\"\"\"\n",
    "    \n",
    "    def __init__(self):\n",
    "        \"\"\"Параметры класса\"\"\"\n",
    "        self.medians = None\n",
    "        self.longitude_median = None\n",
    "        self.latitude_median = None\n",
    "        \n",
    "    def fit(self, df):\n",
    "        \"\"\"Сохранение статистик\"\"\"\n",
    "        \n",
    "        # Расчет медиан\n",
    "        self.medians = df[['population', 'housing_median_age', 'total_bedrooms']].median()\n",
    "        self.longitude_median = df['longitude'].median()\n",
    "        self.latitude_median = df['latitude'].median()\n",
    "        self.ocean_proximity = df['ocean_proximity'].mode()[0]\n",
    "        self.total_rooms_max_value = np.quantile(df['total_rooms'], q=0.975)\n",
    "        self.total_rooms_min_value = np.quantile(df['total_rooms'], q=0.025)\n",
    "        self.total_rooms = df['total_rooms'].median()\n",
    "                                                                      \n",
    "    def age_to_cat(self, X):\n",
    "        X['age_cat'] = 0\n",
    "        X.loc[X['housing_median_age'] <= 5, 'age_cat'] = 1  \n",
    "        X.loc[(X['housing_median_age'] > 5) & (X['housing_median_age'] <= 10), 'age_cat'] = 2\n",
    "        X.loc[(X['housing_median_age'] > 10) & (X['housing_median_age'] <= 25), 'age_cat'] = 3\n",
    "        X.loc[X['housing_median_age'] > 25, 'age_cat'] = 4\n",
    "        return X\n",
    "\n",
    "    def age_to_binary_cat(self, X):\n",
    "        X['age_binary_cat'] = 0\n",
    "        X.loc[X['housing_median_age'] <= 5, 'age_binary_cat'] = 1  \n",
    "        return X\n",
    "\n",
    "    def transform(self, df):\n",
    "        \"\"\"Трансформация данных\"\"\"\n",
    "        \n",
    "        # 1. Пропуски\n",
    "        \n",
    "        for c in ['housing_median_age', 'total_bedrooms', 'population']:\n",
    "            df[c+'_nan'] = 0\n",
    "            df.loc[df[c].isna(), c+'_nan'] = 1\n",
    "        df[['population', 'housing_median_age', 'total_bedrooms']] =\\\n",
    "            df[['population', 'housing_median_age', 'total_bedrooms']].fillna(self.medians)\n",
    "                \n",
    "        df['ocean_proximity_nan'] = 0\n",
    "        df.loc[df['ocean_proximity'] == '-', 'ocean_proximity_nan'] = 1\n",
    "        df.replace( {'ocean_proximity': {'-': self.ocean_proximity}}, inplace=True)\n",
    "        \n",
    "        # 2. Выбросы (outliers)\n",
    "        \n",
    "        df['longitude_outlier'] = 0\n",
    "        df.loc[df['longitude'] >= 0, 'longitude_outlier'] = 1\n",
    "        df['latitude_outlier'] = 0\n",
    "        df.loc[(df['latitude'] <= 0) | (df['latitude'] > 50), 'latitude_outlier'] = 1\n",
    "\n",
    "        df.loc[df['longitude'] > 0, 'longitude'] = df.loc[df['longitude'] > 0, 'longitude'] * -1\n",
    "        df.loc[df['longitude'] == 0, 'longitude'] = self.longitude_median\n",
    "        df.loc[(df['latitude'] <= 0) | (df['latitude'] > 50), 'latitude'] = self.latitude_median\n",
    "        \n",
    "        condition = (df['total_rooms'] > self.total_rooms_max_value) | (df['total_rooms'] \\\n",
    "                                                                        < self.total_rooms_min_value)\n",
    "        df.loc[condition, 'total_rooms'] = self.total_rooms\n",
    "        df.drop(columns='id', inplace=True)\n",
    "        \n",
    "        # 3. Новые признаки (features)\n",
    "        \n",
    "        df_cat = df.groupby('ocean_proximity', as_index=False).median()[['ocean_proximity', 'total_bedrooms']]\n",
    "        df_cat = pd.DataFrame(df_cat)\n",
    "        df_cat.rename(columns={'total_bedrooms': 'median_rooms'}, inplace=True)\n",
    "        df = df.merge(df_cat, on=['ocean_proximity'])\n",
    "        df = self.age_to_cat(df)               \n",
    "        df = self.age_to_binary_cat(df)\n",
    "        \n",
    "        # Доля спален в общем кол-ве комнат\n",
    "        df['bedroom_share'] = df['total_bedrooms'] / df['total_rooms'] * 100\n",
    "        # Сколько человек в среднем живут в одной комнате\n",
    "        df['population_per_room'] = df['population'] / df['total_rooms']\n",
    "        \n",
    "        # 4. Обработка категорий\n",
    "        df = pd.concat([df, pd.get_dummies(df['ocean_proximity'])], axis=1)            \n",
    "        return df\n",
    "\n"
   ]
  },
  {
   "cell_type": "code",
   "execution_count": 32,
   "metadata": {},
   "outputs": [],
   "source": [
    "df = pd.read_csv(DATASET_PATH)\n",
    "\n",
    "pipe = DataPipeline()\n",
    "pipe.fit(df)\n",
    "df = pipe.transform(df)\n",
    "\n",
    "df.to_csv(PREPARED_DATASET_PATH, index=False, encoding='utf-8', sep = ';')"
   ]
  },
  {
   "cell_type": "code",
   "execution_count": 33,
   "metadata": {},
   "outputs": [
    {
     "name": "stdout",
     "output_type": "stream",
     "text": [
      "32674.31738565891\n",
      "test rmse: 50335.729586116715 \n"
     ]
    },
    {
     "data": {
      "image/png": "[encoded data removed]",
      "text/plain": [
       "<Figure size 800x800 with 1 Axes>"
      ]
     },
     "metadata": {
      "needs_background": "light"
     },
     "output_type": "display_data"
    }
   ],
   "source": [
    "from sklearn.model_selection import train_test_split\n",
    "from sklearn.ensemble import RandomForestRegressor\n",
    "from sklearn.metrics import mean_absolute_error\n",
    "from tqdm.notebook import tqdm\n",
    "\n",
    "X = df.copy()\n",
    "X.drop(['median_house_value', 'ocean_proximity'], axis = 1, inplace=True)\n",
    "feature_names = X.columns\n",
    "y = list(df['median_house_value'])\n",
    "X_train, X_test, y_train, y_test = train_test_split(X, y, test_size=0.25, random_state=2021)\n",
    "\n",
    "# Случайный лес\n",
    "from sklearn.datasets import make_regression\n",
    "from sklearn.ensemble import RandomForestRegressor\n",
    "from matplotlib import pyplot\n",
    "model = RandomForestRegressor(n_jobs=-1)\n",
    "model.fit(X_train, y_train)\n",
    "y_pred = model.predict(X_test)\n",
    "print(mean_absolute_error(y_test, y_pred))\n",
    "\n",
    "test_mse = np.mean(((y_pred - y_test)**2))\n",
    "test_rmse = np.sqrt(test_mse)\n",
    "print(f'test rmse: {test_rmse} ')\n",
    "\n",
    "importances = model.feature_importances_\n",
    "indices = np.argsort(importances)\n",
    "plt.figure(figsize=(10, 10), dpi=80)\n",
    "plt.title('Важность признаков')\n",
    "plt.barh(range(len(indices)), importances[indices], color='b', align='center')\n",
    "plt.yticks(range(len(indices)), [feature_names[i] for i in indices])\n",
    "plt.xlabel('Relative Importance')\n",
    "plt.show()\n",
    "\n",
    "mae0 = mean_absolute_error(y_test, y_pred)"
   ]
  },
  {
   "cell_type": "code",
   "execution_count": 111,
   "metadata": {},
   "outputs": [
    {
     "data": {
      "text/plain": [
       "longitude             float64\n",
       "latitude              float64\n",
       "housing_median_age    float64\n",
       "total_rooms           float64\n",
       "total_bedrooms        float64\n",
       "population            float64\n",
       "households            float64\n",
       "median_income         float64\n",
       "median_house_value    float64\n",
       "ocean_proximity        object\n",
       "id                      int64\n",
       "dtype: object"
      ]
     },
     "execution_count": 111,
     "metadata": {},
     "output_type": "execute_result"
    }
   ],
   "source": [
    "df.dtypes"
   ]
  },
  {
   "cell_type": "code",
   "execution_count": null,
   "metadata": {},
   "outputs": [],
   "source": []
  },
  {
   "cell_type": "markdown",
   "metadata": {
    "colab_type": "text",
    "id": "vlDquLucZ1LL"
   },
   "source": [
    "### 7. Подготовка данных в реальном проекте<a class='anchor' id='real'>"
   ]
  },
  {
   "cell_type": "code",
   "execution_count": 121,
   "metadata": {
    "colab": {},
    "colab_type": "code",
    "id": "ed5Oo4ADZ1LL"
   },
   "outputs": [],
   "source": [
    "import numpy as np\n",
    "import pandas as pd"
   ]
  },
  {
   "cell_type": "code",
   "execution_count": 122,
   "metadata": {
    "colab": {},
    "colab_type": "code",
    "id": "renCufhBZ1LO"
   },
   "outputs": [],
   "source": [
    "class DataPipeline:\n",
    "    \"\"\"Подготовка исходных данных\"\"\"\n",
    "    \n",
    "    def __init__(self):\n",
    "        \"\"\"Параметры класса\"\"\"\n",
    "        self.medians = None\n",
    "        self.longitude_median = None\n",
    "        self.latitude_median = None\n",
    "        \n",
    "    def fit(self, df):\n",
    "        \"\"\"Сохранение статистик\"\"\"\n",
    "        \n",
    "        # Расчет медиан\n",
    "        self.medians = df[['population', 'housing_median_age', 'total_bedrooms']].median()\n",
    "        self.longitude_median = df['longitude'].median()\n",
    "        self.latitude_median = df['latitude'].median()\n",
    "        self.ocean_proximity = df['ocean_proximity'].mode()[0]\n",
    "        self.total_rooms_max_value = np.quantile(df['total_rooms'], q=0.975)\n",
    "        self.total_rooms_min_value = np.quantile(df['total_rooms'], q=0.025)\n",
    "        self.total_rooms = df['total_rooms'].median()\n",
    "                                                                      \n",
    "    def age_to_cat(self, X):\n",
    "        X['age_cat'] = 0\n",
    "        X.loc[X['housing_median_age'] <= 5, 'age_cat'] = 1  \n",
    "        X.loc[(X['housing_median_age'] > 5) & (X['housing_median_age'] <= 10), 'age_cat'] = 2\n",
    "        X.loc[(X['housing_median_age'] > 10) & (X['housing_median_age'] <= 25), 'age_cat'] = 3\n",
    "        X.loc[X['housing_median_age'] > 25, 'age_cat'] = 4\n",
    "        return X\n",
    "\n",
    "    def age_to_binary_cat(self, X):\n",
    "        X['age_binary_cat'] = 0\n",
    "        X.loc[X['housing_median_age'] <= 5, 'age_binary_cat'] = 1  \n",
    "        return X\n",
    "\n",
    "    def housing_data_clean(self, input_df):\n",
    "        input_df['rooms_per_household'] = input_df['total_rooms']/input_df['households']\n",
    "        input_df['bedrooms_per_household'] = input_df['total_bedrooms']/input_df['households']\n",
    "        input_df['bedrooms_per_room'] = input_df['total_bedrooms']/input_df['total_rooms']\n",
    "        input_df['population_per_household'] = input_df['population']/input_df['households']\n",
    "        #input_df = input_df.drop(['total_bedrooms','total_rooms'], axis=1)\n",
    "        return input_df\n",
    "        \n",
    "    def transform(self, df):\n",
    "        \"\"\"Трансформация данных\"\"\"\n",
    "        \n",
    "        # 1. Пропуски\n",
    "        \n",
    "        for c in ['housing_median_age', 'total_bedrooms', 'population']:\n",
    "            df[c+'_nan'] = 0\n",
    "            df.loc[df[c].isna(), c+'_nan'] = 1\n",
    "        df[['population', 'housing_median_age', 'total_bedrooms']] =\\\n",
    "            df[['population', 'housing_median_age', 'total_bedrooms']].fillna(self.medians)\n",
    "                \n",
    "        df['ocean_proximity_nan'] = 0\n",
    "        df.loc[df['ocean_proximity'] == '-', 'ocean_proximity_nan'] = 1\n",
    "        df.replace( {'ocean_proximity': {'-': self.ocean_proximity}}, inplace=True)\n",
    "        \n",
    "        # 2. Выбросы (outliers)\n",
    "        \n",
    "        df['longitude_outlier'] = 0\n",
    "        df.loc[df['longitude'] >= 0, 'longitude_outlier'] = 1\n",
    "        df['latitude_outlier'] = 0\n",
    "        df.loc[(df['latitude'] <= 0) | (df['latitude'] > 50), 'latitude_outlier'] = 1\n",
    "\n",
    "        df.loc[df['longitude'] > 0, 'longitude'] = df.loc[df['longitude'] > 0, 'longitude'] * -1\n",
    "        df.loc[df['longitude'] == 0, 'longitude'] = self.longitude_median\n",
    "        df.loc[(df['latitude'] <= 0) | (df['latitude'] > 50), 'latitude'] = self.latitude_median\n",
    "        \n",
    "        condition = (df['total_rooms'] > self.total_rooms_max_value) | (df['total_rooms'] \\\n",
    "                                                                        < self.total_rooms_min_value)\n",
    "        df.loc[condition, 'total_rooms'] = self.total_rooms\n",
    "        df.drop(columns='id', inplace=True)\n",
    "        \n",
    "        # 3. Новые признаки (features)\n",
    "        \n",
    "        df_cat = df.groupby('ocean_proximity', as_index=False).median()[['ocean_proximity', 'total_bedrooms']]\n",
    "        df_cat = pd.DataFrame(df_cat)\n",
    "        df_cat.rename(columns={'total_bedrooms': 'median_rooms'}, inplace=True)\n",
    "        df = df.merge(df_cat, on=['ocean_proximity'])\n",
    "        df = self.age_to_cat(df)               \n",
    "        df = self.age_to_binary_cat(df)\n",
    "        \n",
    "        # Доля спален в общем кол-ве комнат\n",
    "        df['bedroom_share'] = df['total_bedrooms'] / df['total_rooms'] * 100\n",
    "        # Сколько человек в среднем живут в одной комнате\n",
    "        df['population_per_room'] = df['population'] / df['total_rooms']\n",
    "        \n",
    "        # 4. Обработка категорий\n",
    "        df = pd.concat([df, pd.get_dummies(df['ocean_proximity'])], axis=1)            \n",
    "        df = self.housing_data_clean(df)\n",
    "        return df\n"
   ]
  },
  {
   "cell_type": "code",
   "execution_count": 123,
   "metadata": {
    "colab": {},
    "colab_type": "code",
    "id": "Z_A0qX0pudxW"
   },
   "outputs": [],
   "source": [
    "DATASET_PATH = 'housing.csv'\n",
    "PREPARED_DATASET_PATH = 'housing_prepared_lmv_cls.csv'"
   ]
  },
  {
   "cell_type": "code",
   "execution_count": 124,
   "metadata": {
    "colab": {},
    "colab_type": "code",
    "id": "njoKLSezZ1Ll"
   },
   "outputs": [],
   "source": [
    "df = pd.read_csv(DATASET_PATH)\n",
    "\n",
    "pipe = DataPipeline()\n",
    "pipe.fit(df)\n",
    "df = pipe.transform(df)\n",
    "\n",
    "df.to_csv(PREPARED_DATASET_PATH, index=False, encoding='utf-8', sep = ';')"
   ]
  },
  {
   "cell_type": "code",
   "execution_count": 125,
   "metadata": {},
   "outputs": [
    {
     "data": {
      "text/plain": [
       "30"
      ]
     },
     "execution_count": 125,
     "metadata": {},
     "output_type": "execute_result"
    }
   ],
   "source": [
    "len(df.columns)"
   ]
  },
  {
   "cell_type": "code",
   "execution_count": 126,
   "metadata": {
    "colab": {
     "base_uri": "https://localhost:8080/",
     "height": 244
    },
    "colab_type": "code",
    "id": "NLWtVhM8Z1Ln",
    "outputId": "1977eaee-ecd9-4728-d16d-bd48114e02f2"
   },
   "outputs": [
    {
     "data": {
      "text/html": [
       "<div>\n",
       "<style scoped>\n",
       "    .dataframe tbody tr th:only-of-type {\n",
       "        vertical-align: middle;\n",
       "    }\n",
       "\n",
       "    .dataframe tbody tr th {\n",
       "        vertical-align: top;\n",
       "    }\n",
       "\n",
       "    .dataframe thead th {\n",
       "        text-align: right;\n",
       "    }\n",
       "</style>\n",
       "<table border=\"1\" class=\"dataframe\">\n",
       "  <thead>\n",
       "    <tr style=\"text-align: right;\">\n",
       "      <th></th>\n",
       "      <th>longitude</th>\n",
       "      <th>latitude</th>\n",
       "      <th>housing_median_age</th>\n",
       "      <th>total_rooms</th>\n",
       "      <th>total_bedrooms</th>\n",
       "      <th>population</th>\n",
       "      <th>households</th>\n",
       "      <th>median_income</th>\n",
       "      <th>median_house_value</th>\n",
       "      <th>ocean_proximity</th>\n",
       "      <th>...</th>\n",
       "      <th>population_per_room</th>\n",
       "      <th>&lt;1H OCEAN</th>\n",
       "      <th>INLAND</th>\n",
       "      <th>ISLAND</th>\n",
       "      <th>NEAR BAY</th>\n",
       "      <th>NEAR OCEAN</th>\n",
       "      <th>rooms_per_household</th>\n",
       "      <th>bedrooms_per_household</th>\n",
       "      <th>bedrooms_per_room</th>\n",
       "      <th>population_per_household</th>\n",
       "    </tr>\n",
       "  </thead>\n",
       "  <tbody>\n",
       "    <tr>\n",
       "      <th>0</th>\n",
       "      <td>-122.23</td>\n",
       "      <td>37.88</td>\n",
       "      <td>41.0</td>\n",
       "      <td>880.0</td>\n",
       "      <td>129.0</td>\n",
       "      <td>322.0</td>\n",
       "      <td>126.0</td>\n",
       "      <td>8.3252</td>\n",
       "      <td>452600.0</td>\n",
       "      <td>NEAR BAY</td>\n",
       "      <td>...</td>\n",
       "      <td>0.365909</td>\n",
       "      <td>0</td>\n",
       "      <td>0</td>\n",
       "      <td>0</td>\n",
       "      <td>1</td>\n",
       "      <td>0</td>\n",
       "      <td>6.984127</td>\n",
       "      <td>1.023810</td>\n",
       "      <td>0.146591</td>\n",
       "      <td>2.555556</td>\n",
       "    </tr>\n",
       "    <tr>\n",
       "      <th>1</th>\n",
       "      <td>-122.22</td>\n",
       "      <td>37.86</td>\n",
       "      <td>21.0</td>\n",
       "      <td>7099.0</td>\n",
       "      <td>1106.0</td>\n",
       "      <td>2401.0</td>\n",
       "      <td>1138.0</td>\n",
       "      <td>8.3014</td>\n",
       "      <td>358500.0</td>\n",
       "      <td>NEAR BAY</td>\n",
       "      <td>...</td>\n",
       "      <td>0.338217</td>\n",
       "      <td>0</td>\n",
       "      <td>0</td>\n",
       "      <td>0</td>\n",
       "      <td>1</td>\n",
       "      <td>0</td>\n",
       "      <td>6.238137</td>\n",
       "      <td>0.971880</td>\n",
       "      <td>0.155797</td>\n",
       "      <td>2.109842</td>\n",
       "    </tr>\n",
       "    <tr>\n",
       "      <th>2</th>\n",
       "      <td>-122.24</td>\n",
       "      <td>37.85</td>\n",
       "      <td>52.0</td>\n",
       "      <td>1467.0</td>\n",
       "      <td>190.0</td>\n",
       "      <td>496.0</td>\n",
       "      <td>177.0</td>\n",
       "      <td>7.2574</td>\n",
       "      <td>352100.0</td>\n",
       "      <td>NEAR BAY</td>\n",
       "      <td>...</td>\n",
       "      <td>0.338105</td>\n",
       "      <td>0</td>\n",
       "      <td>0</td>\n",
       "      <td>0</td>\n",
       "      <td>1</td>\n",
       "      <td>0</td>\n",
       "      <td>8.288136</td>\n",
       "      <td>1.073446</td>\n",
       "      <td>0.129516</td>\n",
       "      <td>2.802260</td>\n",
       "    </tr>\n",
       "    <tr>\n",
       "      <th>3</th>\n",
       "      <td>-122.25</td>\n",
       "      <td>37.85</td>\n",
       "      <td>52.0</td>\n",
       "      <td>1274.0</td>\n",
       "      <td>235.0</td>\n",
       "      <td>558.0</td>\n",
       "      <td>219.0</td>\n",
       "      <td>5.6431</td>\n",
       "      <td>341300.0</td>\n",
       "      <td>NEAR BAY</td>\n",
       "      <td>...</td>\n",
       "      <td>0.437991</td>\n",
       "      <td>0</td>\n",
       "      <td>0</td>\n",
       "      <td>0</td>\n",
       "      <td>1</td>\n",
       "      <td>0</td>\n",
       "      <td>5.817352</td>\n",
       "      <td>1.073059</td>\n",
       "      <td>0.184458</td>\n",
       "      <td>2.547945</td>\n",
       "    </tr>\n",
       "    <tr>\n",
       "      <th>4</th>\n",
       "      <td>-122.25</td>\n",
       "      <td>37.85</td>\n",
       "      <td>52.0</td>\n",
       "      <td>1627.0</td>\n",
       "      <td>280.0</td>\n",
       "      <td>565.0</td>\n",
       "      <td>259.0</td>\n",
       "      <td>3.8462</td>\n",
       "      <td>342200.0</td>\n",
       "      <td>NEAR BAY</td>\n",
       "      <td>...</td>\n",
       "      <td>0.347265</td>\n",
       "      <td>0</td>\n",
       "      <td>0</td>\n",
       "      <td>0</td>\n",
       "      <td>1</td>\n",
       "      <td>0</td>\n",
       "      <td>6.281853</td>\n",
       "      <td>1.081081</td>\n",
       "      <td>0.172096</td>\n",
       "      <td>2.181467</td>\n",
       "    </tr>\n",
       "  </tbody>\n",
       "</table>\n",
       "<p>5 rows × 30 columns</p>\n",
       "</div>"
      ],
      "text/plain": [
       "   longitude  latitude  housing_median_age  total_rooms  total_bedrooms  \\\n",
       "0    -122.23     37.88                41.0        880.0           129.0   \n",
       "1    -122.22     37.86                21.0       7099.0          1106.0   \n",
       "2    -122.24     37.85                52.0       1467.0           190.0   \n",
       "3    -122.25     37.85                52.0       1274.0           235.0   \n",
       "4    -122.25     37.85                52.0       1627.0           280.0   \n",
       "\n",
       "   population  households  median_income  median_house_value ocean_proximity  \\\n",
       "0       322.0       126.0         8.3252            452600.0        NEAR BAY   \n",
       "1      2401.0      1138.0         8.3014            358500.0        NEAR BAY   \n",
       "2       496.0       177.0         7.2574            352100.0        NEAR BAY   \n",
       "3       558.0       219.0         5.6431            341300.0        NEAR BAY   \n",
       "4       565.0       259.0         3.8462            342200.0        NEAR BAY   \n",
       "\n",
       "   ...  population_per_room  <1H OCEAN  INLAND  ISLAND  NEAR BAY  NEAR OCEAN  \\\n",
       "0  ...             0.365909          0       0       0         1           0   \n",
       "1  ...             0.338217          0       0       0         1           0   \n",
       "2  ...             0.338105          0       0       0         1           0   \n",
       "3  ...             0.437991          0       0       0         1           0   \n",
       "4  ...             0.347265          0       0       0         1           0   \n",
       "\n",
       "   rooms_per_household  bedrooms_per_household  bedrooms_per_room  \\\n",
       "0             6.984127                1.023810           0.146591   \n",
       "1             6.238137                0.971880           0.155797   \n",
       "2             8.288136                1.073446           0.129516   \n",
       "3             5.817352                1.073059           0.184458   \n",
       "4             6.281853                1.081081           0.172096   \n",
       "\n",
       "   population_per_household  \n",
       "0                  2.555556  \n",
       "1                  2.109842  \n",
       "2                  2.802260  \n",
       "3                  2.547945  \n",
       "4                  2.181467  \n",
       "\n",
       "[5 rows x 30 columns]"
      ]
     },
     "execution_count": 126,
     "metadata": {},
     "output_type": "execute_result"
    }
   ],
   "source": [
    "df.head()"
   ]
  },
  {
   "cell_type": "code",
   "execution_count": 93,
   "metadata": {
    "colab": {
     "base_uri": "https://localhost:8080/",
     "height": 364
    },
    "colab_type": "code",
    "id": "6xnKzUUOZ1Lr",
    "outputId": "35f9ae4c-f683-48d5-81a7-98b647df4fb6"
   },
   "outputs": [
    {
     "data": {
      "text/plain": [
       "longitude                 0\n",
       "latitude                  0\n",
       "housing_median_age        0\n",
       "total_rooms               0\n",
       "total_bedrooms            0\n",
       "population                0\n",
       "households                0\n",
       "median_income             0\n",
       "median_house_value        0\n",
       "ocean_proximity           0\n",
       "housing_median_age_nan    0\n",
       "total_bedrooms_nan        0\n",
       "population_nan            0\n",
       "ocean_proximity_nan       0\n",
       "longitude_outlier         0\n",
       "latitude_outlier          0\n",
       "median_rooms              0\n",
       "age_cat                   0\n",
       "age_binary_cat            0\n",
       "bedroom_share             0\n",
       "population_per_room       0\n",
       "<1H OCEAN                 0\n",
       "INLAND                    0\n",
       "ISLAND                    0\n",
       "NEAR BAY                  0\n",
       "NEAR OCEAN                0\n",
       "dtype: int64"
      ]
     },
     "execution_count": 93,
     "metadata": {},
     "output_type": "execute_result"
    }
   ],
   "source": [
    "df.isnull().sum()"
   ]
  },
  {
   "cell_type": "code",
   "execution_count": 94,
   "metadata": {},
   "outputs": [
    {
     "data": {
      "text/plain": [
       "longitude                 float64\n",
       "latitude                  float64\n",
       "housing_median_age        float64\n",
       "total_rooms               float64\n",
       "total_bedrooms            float64\n",
       "population                float64\n",
       "households                float64\n",
       "median_income             float64\n",
       "median_house_value        float64\n",
       "ocean_proximity            object\n",
       "housing_median_age_nan      int64\n",
       "total_bedrooms_nan          int64\n",
       "population_nan              int64\n",
       "ocean_proximity_nan         int64\n",
       "longitude_outlier           int64\n",
       "latitude_outlier            int64\n",
       "median_rooms              float64\n",
       "age_cat                     int64\n",
       "age_binary_cat              int64\n",
       "bedroom_share             float64\n",
       "population_per_room       float64\n",
       "<1H OCEAN                   uint8\n",
       "INLAND                      uint8\n",
       "ISLAND                      uint8\n",
       "NEAR BAY                    uint8\n",
       "NEAR OCEAN                  uint8\n",
       "dtype: object"
      ]
     },
     "execution_count": 94,
     "metadata": {},
     "output_type": "execute_result"
    }
   ],
   "source": [
    "df.dtypes"
   ]
  },
  {
   "cell_type": "code",
   "execution_count": 127,
   "metadata": {},
   "outputs": [
    {
     "name": "stdout",
     "output_type": "stream",
     "text": [
      "33461.81020155038\n",
      "Ошибка увеличилась на 2562 или 8%\n",
      "test rmse: 50890.917327460396 \n"
     ]
    },
    {
     "data": {
      "image/png": "[encoded data removed]",
      "text/plain": [
       "<Figure size 800x800 with 1 Axes>"
      ]
     },
     "metadata": {
      "needs_background": "light"
     },
     "output_type": "display_data"
    }
   ],
   "source": [
    "X = df.copy()\n",
    "X.drop(['median_house_value', 'ocean_proximity'], axis = 1, inplace=True)\n",
    "feature_names = X.columns\n",
    "y = list(df['median_house_value'])\n",
    "X_train, X_test, y_train, y_test = train_test_split(X, y, test_size=0.25, random_state=2021)\n",
    "\n",
    "# Случайный лес\n",
    "model = RandomForestRegressor(n_jobs=-1)\n",
    "model.fit(X_train, y_train)\n",
    "y_pred = model.predict(X_test)\n",
    "mae1 = mean_absolute_error(y_test, y_pred)\n",
    "print(mae1)\n",
    "if mae0 >= mae1:\n",
    "    print(f'Ошибка уменьшилась на {int(round(mae0-mae1, 0))} или {int( round( (mae0-mae1)*100/mae0, 0)) }%')\n",
    "else:\n",
    "    print(f'Ошибка увеличилась на {int(round(mae1-mae0, 0))} или {int( round( (mae1-mae0)*100/mae1, 0)) }%')\n",
    "test_mse = np.mean(((y_pred - y_test)**2))\n",
    "test_rmse = np.sqrt(test_mse)\n",
    "print(f'test rmse: {test_rmse} ')\n",
    "importances = model.feature_importances_\n",
    "indices = np.argsort(importances)\n",
    "plt.figure(figsize=(10, 10), dpi=80)\n",
    "plt.title('Важность признаков')\n",
    "plt.barh(range(len(indices)), importances[indices], color='b', align='center')\n",
    "plt.yticks(range(len(indices)), [feature_names[i] for i in indices])\n",
    "plt.xlabel('Relative Importance')\n",
    "plt.show()"
   ]
  },
  {
   "cell_type": "code",
   "execution_count": 106,
   "metadata": {},
   "outputs": [
    {
     "data": {
      "text/plain": [
       "longitude                 float64\n",
       "latitude                  float64\n",
       "housing_median_age        float64\n",
       "total_rooms               float64\n",
       "total_bedrooms            float64\n",
       "population                float64\n",
       "households                float64\n",
       "median_income             float64\n",
       "median_house_value        float64\n",
       "ocean_proximity            object\n",
       "housing_median_age_nan      int64\n",
       "total_bedrooms_nan          int64\n",
       "population_nan              int64\n",
       "ocean_proximity_nan         int64\n",
       "longitude_outlier           int64\n",
       "latitude_outlier            int64\n",
       "median_rooms              float64\n",
       "age_cat                     int64\n",
       "age_binary_cat              int64\n",
       "bedroom_share             float64\n",
       "population_per_room       float64\n",
       "<1H OCEAN                   uint8\n",
       "INLAND                      uint8\n",
       "ISLAND                      uint8\n",
       "NEAR BAY                    uint8\n",
       "NEAR OCEAN                  uint8\n",
       "dtype: object"
      ]
     },
     "execution_count": 106,
     "metadata": {},
     "output_type": "execute_result"
    }
   ],
   "source": [
    "df.dtypes"
   ]
  },
  {
   "cell_type": "code",
   "execution_count": null,
   "metadata": {},
   "outputs": [],
   "source": []
  },
  {
   "cell_type": "code",
   "execution_count": null,
   "metadata": {},
   "outputs": [],
   "source": []
  },
  {
   "cell_type": "code",
   "execution_count": null,
   "metadata": {},
   "outputs": [],
   "source": []
  },
  {
   "cell_type": "code",
   "execution_count": null,
   "metadata": {},
   "outputs": [],
   "source": []
  },
  {
   "cell_type": "markdown",
   "metadata": {},
   "source": [
    "## Эксперименты с моделями"
   ]
  },
  {
   "cell_type": "code",
   "execution_count": 69,
   "metadata": {},
   "outputs": [],
   "source": [
    "from sklearn.model_selection import train_test_split\n",
    "from sklearn.linear_model import LinearRegression\n",
    "from sklearn.ensemble import RandomForestRegressor\n",
    "from sklearn.metrics import mean_absolute_error\n",
    "from sklearn.metrics import mean_squared_error\n",
    "from sklearn.model_selection import GridSearchCV\n",
    "from matplotlib import pyplot\n",
    "from tqdm.notebook import tqdm"
   ]
  },
  {
   "cell_type": "code",
   "execution_count": 70,
   "metadata": {},
   "outputs": [
    {
     "data": {
      "text/html": [
       "<div>\n",
       "<style scoped>\n",
       "    .dataframe tbody tr th:only-of-type {\n",
       "        vertical-align: middle;\n",
       "    }\n",
       "\n",
       "    .dataframe tbody tr th {\n",
       "        vertical-align: top;\n",
       "    }\n",
       "\n",
       "    .dataframe thead th {\n",
       "        text-align: right;\n",
       "    }\n",
       "</style>\n",
       "<table border=\"1\" class=\"dataframe\">\n",
       "  <thead>\n",
       "    <tr style=\"text-align: right;\">\n",
       "      <th></th>\n",
       "      <th>longitude</th>\n",
       "      <th>latitude</th>\n",
       "      <th>housing_median_age</th>\n",
       "      <th>total_rooms</th>\n",
       "      <th>total_bedrooms</th>\n",
       "      <th>population</th>\n",
       "      <th>households</th>\n",
       "      <th>median_income</th>\n",
       "      <th>id</th>\n",
       "      <th>bedroom_share</th>\n",
       "      <th>population_per_room</th>\n",
       "      <th>-</th>\n",
       "      <th>&lt;1H OCEAN</th>\n",
       "      <th>INLAND</th>\n",
       "      <th>ISLAND</th>\n",
       "      <th>NEAR BAY</th>\n",
       "      <th>NEAR OCEAN</th>\n",
       "    </tr>\n",
       "  </thead>\n",
       "  <tbody>\n",
       "    <tr>\n",
       "      <th>0</th>\n",
       "      <td>-122.23</td>\n",
       "      <td>37.88</td>\n",
       "      <td>41.0</td>\n",
       "      <td>880.0</td>\n",
       "      <td>129.0</td>\n",
       "      <td>322.0</td>\n",
       "      <td>126.0</td>\n",
       "      <td>8.3252</td>\n",
       "      <td>0</td>\n",
       "      <td>14.659091</td>\n",
       "      <td>0.365909</td>\n",
       "      <td>0</td>\n",
       "      <td>0</td>\n",
       "      <td>0</td>\n",
       "      <td>0</td>\n",
       "      <td>1</td>\n",
       "      <td>0</td>\n",
       "    </tr>\n",
       "    <tr>\n",
       "      <th>1</th>\n",
       "      <td>-122.22</td>\n",
       "      <td>37.86</td>\n",
       "      <td>21.0</td>\n",
       "      <td>7099.0</td>\n",
       "      <td>1106.0</td>\n",
       "      <td>2401.0</td>\n",
       "      <td>1138.0</td>\n",
       "      <td>8.3014</td>\n",
       "      <td>1</td>\n",
       "      <td>15.579659</td>\n",
       "      <td>0.338217</td>\n",
       "      <td>0</td>\n",
       "      <td>0</td>\n",
       "      <td>0</td>\n",
       "      <td>0</td>\n",
       "      <td>1</td>\n",
       "      <td>0</td>\n",
       "    </tr>\n",
       "    <tr>\n",
       "      <th>2</th>\n",
       "      <td>-122.24</td>\n",
       "      <td>37.85</td>\n",
       "      <td>52.0</td>\n",
       "      <td>1467.0</td>\n",
       "      <td>190.0</td>\n",
       "      <td>496.0</td>\n",
       "      <td>177.0</td>\n",
       "      <td>7.2574</td>\n",
       "      <td>2</td>\n",
       "      <td>12.951602</td>\n",
       "      <td>0.338105</td>\n",
       "      <td>0</td>\n",
       "      <td>0</td>\n",
       "      <td>0</td>\n",
       "      <td>0</td>\n",
       "      <td>1</td>\n",
       "      <td>0</td>\n",
       "    </tr>\n",
       "    <tr>\n",
       "      <th>3</th>\n",
       "      <td>-122.25</td>\n",
       "      <td>37.85</td>\n",
       "      <td>52.0</td>\n",
       "      <td>1274.0</td>\n",
       "      <td>235.0</td>\n",
       "      <td>558.0</td>\n",
       "      <td>219.0</td>\n",
       "      <td>5.6431</td>\n",
       "      <td>3</td>\n",
       "      <td>18.445840</td>\n",
       "      <td>0.437991</td>\n",
       "      <td>0</td>\n",
       "      <td>0</td>\n",
       "      <td>0</td>\n",
       "      <td>0</td>\n",
       "      <td>1</td>\n",
       "      <td>0</td>\n",
       "    </tr>\n",
       "    <tr>\n",
       "      <th>4</th>\n",
       "      <td>-122.25</td>\n",
       "      <td>37.85</td>\n",
       "      <td>52.0</td>\n",
       "      <td>1627.0</td>\n",
       "      <td>280.0</td>\n",
       "      <td>565.0</td>\n",
       "      <td>259.0</td>\n",
       "      <td>3.8462</td>\n",
       "      <td>4</td>\n",
       "      <td>17.209588</td>\n",
       "      <td>0.347265</td>\n",
       "      <td>0</td>\n",
       "      <td>0</td>\n",
       "      <td>0</td>\n",
       "      <td>0</td>\n",
       "      <td>1</td>\n",
       "      <td>0</td>\n",
       "    </tr>\n",
       "  </tbody>\n",
       "</table>\n",
       "</div>"
      ],
      "text/plain": [
       "   longitude  latitude  housing_median_age  total_rooms  total_bedrooms  \\\n",
       "0    -122.23     37.88                41.0        880.0           129.0   \n",
       "1    -122.22     37.86                21.0       7099.0          1106.0   \n",
       "2    -122.24     37.85                52.0       1467.0           190.0   \n",
       "3    -122.25     37.85                52.0       1274.0           235.0   \n",
       "4    -122.25     37.85                52.0       1627.0           280.0   \n",
       "\n",
       "   population  households  median_income  id  bedroom_share  \\\n",
       "0       322.0       126.0         8.3252   0      14.659091   \n",
       "1      2401.0      1138.0         8.3014   1      15.579659   \n",
       "2       496.0       177.0         7.2574   2      12.951602   \n",
       "3       558.0       219.0         5.6431   3      18.445840   \n",
       "4       565.0       259.0         3.8462   4      17.209588   \n",
       "\n",
       "   population_per_room  -  <1H OCEAN  INLAND  ISLAND  NEAR BAY  NEAR OCEAN  \n",
       "0             0.365909  0          0       0       0         1           0  \n",
       "1             0.338217  0          0       0       0         1           0  \n",
       "2             0.338105  0          0       0       0         1           0  \n",
       "3             0.437991  0          0       0       0         1           0  \n",
       "4             0.347265  0          0       0       0         1           0  "
      ]
     },
     "execution_count": 70,
     "metadata": {},
     "output_type": "execute_result"
    }
   ],
   "source": [
    "X = df.copy()\n",
    "X.drop(['median_house_value', 'ocean_proximity'], axis = 1, inplace=True)\n",
    "y = list(df['median_house_value'])\n",
    "feature_names = X.columns\n",
    "X.head()"
   ]
  },
  {
   "cell_type": "code",
   "execution_count": 71,
   "metadata": {},
   "outputs": [],
   "source": [
    "X_train, X_test, y_train, y_test = train_test_split(X, y, test_size=0.25)"
   ]
  },
  {
   "cell_type": "markdown",
   "metadata": {},
   "source": [
    "### Линейная регрессия"
   ]
  },
  {
   "cell_type": "code",
   "execution_count": 72,
   "metadata": {},
   "outputs": [
    {
     "name": "stdout",
     "output_type": "stream",
     "text": [
      "49348.41913745604\n"
     ]
    }
   ],
   "source": [
    "lr = LinearRegression()\n",
    "lr.fit(X_train, y_train)\n",
    "y_pred = lr.predict(X_test)\n",
    "print(mean_absolute_error(y_test, y_pred))"
   ]
  },
  {
   "cell_type": "markdown",
   "metadata": {},
   "source": [
    "### Дерево решений"
   ]
  },
  {
   "cell_type": "code",
   "execution_count": 75,
   "metadata": {},
   "outputs": [
    {
     "name": "stdout",
     "output_type": "stream",
     "text": [
      "44631.86085271318\n"
     ]
    },
    {
     "data": {
      "image/png": "[encoded data removed]",
      "text/plain": [
       "<Figure size 800x800 with 1 Axes>"
      ]
     },
     "metadata": {
      "needs_background": "light"
     },
     "output_type": "display_data"
    }
   ],
   "source": [
    "from sklearn.datasets import make_regression\n",
    "from sklearn.tree import DecisionTreeRegressor\n",
    "from matplotlib import pyplot\n",
    "model = DecisionTreeRegressor()\n",
    "model.fit(X_train, y_train)\n",
    "y_pred = model.predict(X_test)\n",
    "print(mean_absolute_error(y_test, y_pred))\n",
    "importances = model.feature_importances_\n",
    "indices = np.argsort(importances)\n",
    "plt.figure(figsize=(10, 10), dpi=80)\n",
    "plt.title('Важность признаков')\n",
    "plt.barh(range(len(indices)), importances[indices], color='b', align='center')\n",
    "plt.yticks(range(len(indices)), [feature_names[i] for i in indices])\n",
    "plt.xlabel('Relative Importance')\n",
    "plt.show()"
   ]
  },
  {
   "cell_type": "markdown",
   "metadata": {},
   "source": [
    "### Случайный лес"
   ]
  },
  {
   "cell_type": "code",
   "execution_count": 76,
   "metadata": {},
   "outputs": [
    {
     "name": "stdout",
     "output_type": "stream",
     "text": [
      "30795.82830232558\n"
     ]
    },
    {
     "data": {
      "image/png": "[encoded data removed]",
      "text/plain": [
       "<Figure size 800x800 with 1 Axes>"
      ]
     },
     "metadata": {
      "needs_background": "light"
     },
     "output_type": "display_data"
    }
   ],
   "source": [
    "from sklearn.datasets import make_regression\n",
    "from sklearn.ensemble import RandomForestRegressor\n",
    "from matplotlib import pyplot\n",
    "model = RandomForestRegressor(n_jobs=-1)\n",
    "model.fit(X_train, y_train)\n",
    "y_pred = model.predict(X_test)\n",
    "print(mean_absolute_error(y_test, y_pred))\n",
    "importances = model.feature_importances_\n",
    "indices = np.argsort(importances)\n",
    "plt.figure(figsize=(10, 10), dpi=80)\n",
    "plt.title('Важность признаков')\n",
    "plt.barh(range(len(indices)), importances[indices], color='b', align='center')\n",
    "plt.yticks(range(len(indices)), [feature_names[i] for i in indices])\n",
    "plt.xlabel('Relative Importance')\n",
    "plt.show()"
   ]
  },
  {
   "cell_type": "code",
   "execution_count": null,
   "metadata": {},
   "outputs": [],
   "source": []
  },
  {
   "cell_type": "markdown",
   "metadata": {},
   "source": [
    "### Эксперименты с параметрами"
   ]
  },
  {
   "cell_type": "code",
   "execution_count": 77,
   "metadata": {},
   "outputs": [
    {
     "data": {
      "application/vnd.jupyter.widget-view+json": {
       "model_id": "297467794c844c79832eaed9f8bd1ce9",
       "version_major": 2,
       "version_minor": 0
      },
      "text/plain": [
       "HBox(children=(HTML(value=''), FloatProgress(value=0.0, max=32.0), HTML(value='')))"
      ]
     },
     "metadata": {},
     "output_type": "display_data"
    },
    {
     "name": "stdout",
     "output_type": "stream",
     "text": [
      "\n"
     ]
    },
    {
     "data": {
      "image/png": "[encoded data removed]",
      "text/plain": [
       "<Figure size 432x288 with 1 Axes>"
      ]
     },
     "metadata": {
      "needs_background": "light"
     },
     "output_type": "display_data"
    }
   ],
   "source": [
    "max_depths = np.linspace(1, 32, 32, endpoint=True)\n",
    "train_results = []\n",
    "test_results = []\n",
    "for max_depth in tqdm(max_depths):\n",
    "    rf = RandomForestRegressor(max_depth=max_depth, n_jobs=-1)\n",
    "    rf.fit(X_train, y_train)\n",
    "    train_pred = rf.predict(X_train)\n",
    "    train_results.append(mean_absolute_error(y_train, train_pred))\n",
    "    y_pred = rf.predict(X_test)\n",
    "    test_results.append(mean_absolute_error(y_test, y_pred))\n",
    "    \n",
    "from matplotlib.legend_handler import HandlerLine2D\n",
    "line1, = plt.plot(max_depths, train_results, 'b', label='Train')\n",
    "line2, = plt.plot(max_depths, test_results, 'r', label='Test')\n",
    "plt.legend(handler_map={line1: HandlerLine2D(numpoints=2)})\n",
    "plt.ylabel('score')\n",
    "plt.xlabel('Tree depth')\n",
    "plt.show()"
   ]
  },
  {
   "cell_type": "code",
   "execution_count": 78,
   "metadata": {},
   "outputs": [
    {
     "data": {
      "application/vnd.jupyter.widget-view+json": {
       "model_id": "ec4bb98820934aba9bad228ce40333b2",
       "version_major": 2,
       "version_minor": 0
      },
      "text/plain": [
       "HBox(children=(HTML(value=''), FloatProgress(value=0.0, max=9.0), HTML(value='')))"
      ]
     },
     "metadata": {},
     "output_type": "display_data"
    },
    {
     "name": "stdout",
     "output_type": "stream",
     "text": [
      "\n"
     ]
    },
    {
     "data": {
      "image/png": "[encoded data removed]",
      "text/plain": [
       "<Figure size 432x288 with 1 Axes>"
      ]
     },
     "metadata": {
      "needs_background": "light"
     },
     "output_type": "display_data"
    }
   ],
   "source": [
    "n_estimators = [1, 2, 4, 8, 16, 32, 64, 100, 200]\n",
    "train_results = []\n",
    "test_results = []\n",
    "for n in tqdm(n_estimators):\n",
    "    rf = RandomForestRegressor(n_estimators=n, n_jobs=-1)\n",
    "    rf.fit(X_train, y_train)\n",
    "    train_pred = rf.predict(X_train)\n",
    "    train_results.append(mean_absolute_error(y_train, train_pred))\n",
    "    y_pred = rf.predict(X_test)\n",
    "    test_results.append(mean_absolute_error(y_test, y_pred))\n",
    "    \n",
    "from matplotlib.legend_handler import HandlerLine2D\n",
    "line1, = plt.plot(n_estimators, train_results, 'b', label='Train')\n",
    "line2, = plt.plot(n_estimators, test_results, 'r', label='Test')\n",
    "plt.legend(handler_map={line1: HandlerLine2D(numpoints=2)})\n",
    "plt.ylabel('score')\n",
    "plt.xlabel('n_estimators')\n",
    "plt.show()"
   ]
  },
  {
   "cell_type": "code",
   "execution_count": 79,
   "metadata": {},
   "outputs": [
    {
     "data": {
      "application/vnd.jupyter.widget-view+json": {
       "model_id": "35e6b5ccca974376985d03bd13620fd6",
       "version_major": 2,
       "version_minor": 0
      },
      "text/plain": [
       "HBox(children=(HTML(value=''), FloatProgress(value=0.0, max=10.0), HTML(value='')))"
      ]
     },
     "metadata": {},
     "output_type": "display_data"
    },
    {
     "name": "stdout",
     "output_type": "stream",
     "text": [
      "\n"
     ]
    },
    {
     "data": {
      "image/png": "[encoded data removed]",
      "text/plain": [
       "<Figure size 432x288 with 1 Axes>"
      ]
     },
     "metadata": {
      "needs_background": "light"
     },
     "output_type": "display_data"
    }
   ],
   "source": [
    "min_samples_splits = np.linspace(0.01, 1.0, 10, endpoint=True)\n",
    "train_results = []\n",
    "test_results = []\n",
    "for n in tqdm(min_samples_splits):\n",
    "    rf = RandomForestRegressor(min_samples_split=n, n_jobs=-1)\n",
    "    rf.fit(X_train, y_train)\n",
    "    train_pred = rf.predict(X_train)\n",
    "    train_results.append(mean_absolute_error(y_train, train_pred))\n",
    "    y_pred = rf.predict(X_test)\n",
    "    test_results.append(mean_absolute_error(y_test, y_pred))\n",
    "    \n",
    "from matplotlib.legend_handler import HandlerLine2D\n",
    "line1, = plt.plot(min_samples_splits, train_results, 'b', label='Train')\n",
    "line2, = plt.plot(min_samples_splits, test_results, 'r', label='Test')\n",
    "plt.legend(handler_map={line1: HandlerLine2D(numpoints=2)})\n",
    "plt.ylabel('score')\n",
    "plt.xlabel('min_samples_splits')\n",
    "plt.show()"
   ]
  },
  {
   "cell_type": "code",
   "execution_count": 80,
   "metadata": {},
   "outputs": [
    {
     "data": {
      "application/vnd.jupyter.widget-view+json": {
       "model_id": "a111647785cf4f0987d476bab7ca2cfe",
       "version_major": 2,
       "version_minor": 0
      },
      "text/plain": [
       "HBox(children=(HTML(value=''), FloatProgress(value=0.0, max=5.0), HTML(value='')))"
      ]
     },
     "metadata": {},
     "output_type": "display_data"
    },
    {
     "name": "stdout",
     "output_type": "stream",
     "text": [
      "\n"
     ]
    },
    {
     "data": {
      "image/png": "[encoded data removed]",
      "text/plain": [
       "<Figure size 432x288 with 1 Axes>"
      ]
     },
     "metadata": {
      "needs_background": "light"
     },
     "output_type": "display_data"
    }
   ],
   "source": [
    "min_samples_leafs = np.linspace(0.1, 0.5, 5, endpoint=True)\n",
    "train_results = []\n",
    "test_results = []\n",
    "for n in tqdm(min_samples_leafs):\n",
    "    rf = RandomForestRegressor(min_samples_leaf=n, n_jobs=-1)\n",
    "    rf.fit(X_train, y_train)\n",
    "    train_pred = rf.predict(X_train)\n",
    "    train_results.append(mean_absolute_error(y_train, train_pred))\n",
    "    y_pred = rf.predict(X_test)\n",
    "    test_results.append(mean_absolute_error(y_test, y_pred))\n",
    "    \n",
    "from matplotlib.legend_handler import HandlerLine2D\n",
    "line1, = plt.plot(min_samples_leafs, train_results, 'b', label='Train')\n",
    "line2, = plt.plot(min_samples_leafs, test_results, 'r', label='Test')\n",
    "plt.legend(handler_map={line1: HandlerLine2D(numpoints=2)})\n",
    "plt.ylabel('score')\n",
    "plt.xlabel('min_samples_leafs')\n",
    "plt.show()"
   ]
  },
  {
   "cell_type": "code",
   "execution_count": 81,
   "metadata": {},
   "outputs": [
    {
     "data": {
      "application/vnd.jupyter.widget-view+json": {
       "model_id": "c06962b5de5544fdb4ff15282c3793cf",
       "version_major": 2,
       "version_minor": 0
      },
      "text/plain": [
       "HBox(children=(HTML(value=''), FloatProgress(value=0.0, max=16.0), HTML(value='')))"
      ]
     },
     "metadata": {},
     "output_type": "display_data"
    },
    {
     "name": "stdout",
     "output_type": "stream",
     "text": [
      "\n"
     ]
    },
    {
     "data": {
      "image/png": "[encoded data removed]",
      "text/plain": [
       "<Figure size 432x288 with 1 Axes>"
      ]
     },
     "metadata": {
      "needs_background": "light"
     },
     "output_type": "display_data"
    }
   ],
   "source": [
    "max_features = list(range(1,X_train.shape[1]))\n",
    "train_results = []\n",
    "test_results = []\n",
    "for n in tqdm(max_features):\n",
    "    rf = RandomForestRegressor(max_features=n, n_jobs=-1)\n",
    "    rf.fit(X_train, y_train)\n",
    "    train_pred = rf.predict(X_train)\n",
    "    train_results.append(mean_absolute_error(y_train, train_pred))\n",
    "    y_pred = rf.predict(X_test)\n",
    "    test_results.append(mean_absolute_error(y_test, y_pred))\n",
    "    \n",
    "from matplotlib.legend_handler import HandlerLine2D\n",
    "line1, = plt.plot(max_features, train_results, 'b', label='Train')\n",
    "line2, = plt.plot(max_features, test_results, 'r', label='Test')\n",
    "plt.legend(handler_map={line1: HandlerLine2D(numpoints=2)})\n",
    "plt.ylabel('score')\n",
    "plt.xlabel('max_features')\n",
    "plt.show()"
   ]
  },
  {
   "cell_type": "code",
   "execution_count": null,
   "metadata": {},
   "outputs": [],
   "source": []
  },
  {
   "cell_type": "markdown",
   "metadata": {},
   "source": [
    "### Итоговый перебор по лучшим параметрам"
   ]
  },
  {
   "cell_type": "code",
   "execution_count": 82,
   "metadata": {},
   "outputs": [
    {
     "name": "stdout",
     "output_type": "stream",
     "text": [
      "Fitting 5 folds for each of 27 candidates, totalling 135 fits\n"
     ]
    },
    {
     "name": "stderr",
     "output_type": "stream",
     "text": [
      "[Parallel(n_jobs=-1)]: Using backend LokyBackend with 16 concurrent workers.\n",
      "[Parallel(n_jobs=-1)]: Done   9 tasks      | elapsed:    9.4s\n",
      "[Parallel(n_jobs=-1)]: Done  18 tasks      | elapsed:    9.4s\n",
      "[Parallel(n_jobs=-1)]: Done  29 tasks      | elapsed:   15.0s\n",
      "[Parallel(n_jobs=-1)]: Done  40 tasks      | elapsed:   19.3s\n",
      "[Parallel(n_jobs=-1)]: Done  53 tasks      | elapsed:   27.7s\n",
      "[Parallel(n_jobs=-1)]: Done  66 tasks      | elapsed:   29.0s\n",
      "[Parallel(n_jobs=-1)]: Done  81 tasks      | elapsed:   37.6s\n",
      "[Parallel(n_jobs=-1)]: Done  96 tasks      | elapsed:   46.0s\n",
      "[Parallel(n_jobs=-1)]: Done 118 out of 135 | elapsed:   58.0s remaining:    8.4s\n",
      "[Parallel(n_jobs=-1)]: Done 132 out of 135 | elapsed:  1.1min remaining:    1.5s\n",
      "[Parallel(n_jobs=-1)]: Done 135 out of 135 | elapsed:  1.1min finished\n"
     ]
    },
    {
     "name": "stdout",
     "output_type": "stream",
     "text": [
      "2117266618.2879708\n",
      "30063.44809934505\n"
     ]
    }
   ],
   "source": [
    "parameters = {\n",
    "    'n_estimators': [100, 150, 200],\n",
    "    'max_features': [5, 6, 7],\n",
    "    'max_depth': [10, 15, 20],\n",
    "}\n",
    "\n",
    "clf = GridSearchCV(\n",
    "    estimator=RandomForestRegressor(n_jobs=-1),\n",
    "    param_grid=parameters,\n",
    "    scoring='neg_mean_absolute_error',\n",
    "    cv=5,\n",
    "    n_jobs=-1,\n",
    "    verbose=10\n",
    ")\n",
    "\n",
    "clf.fit(X_train, y_train)\n",
    "y_pred = clf.predict(X_test)\n",
    "\n",
    "print(mean_squared_error(y_test, y_pred))\n",
    "print(mean_absolute_error(y_test, y_pred))"
   ]
  },
  {
   "cell_type": "code",
   "execution_count": 83,
   "metadata": {},
   "outputs": [
    {
     "data": {
      "text/plain": [
       "{'max_depth': 20, 'max_features': 7, 'n_estimators': 200}"
      ]
     },
     "execution_count": 83,
     "metadata": {},
     "output_type": "execute_result"
    }
   ],
   "source": [
    "# Лучшие параметры модели\n",
    "clf.best_params_"
   ]
  },
  {
   "cell_type": "code",
   "execution_count": null,
   "metadata": {},
   "outputs": [],
   "source": []
  },
  {
   "cell_type": "code",
   "execution_count": null,
   "metadata": {},
   "outputs": [],
   "source": []
  },
  {
   "cell_type": "code",
   "execution_count": 84,
   "metadata": {},
   "outputs": [],
   "source": [
    "import pandas as pd \n",
    "import numpy as np\n",
    "import matplotlib.pyplot as plt\n",
    "import matplotlib.image as mpimg\n",
    "#import xgboost as xgb\n",
    "\n",
    "from sklearn.model_selection import StratifiedShuffleSplit\n",
    "from sklearn.preprocessing import LabelBinarizer\n",
    "from sklearn.preprocessing import StandardScaler\n",
    "\n",
    "import gc"
   ]
  },
  {
   "cell_type": "code",
   "execution_count": 85,
   "metadata": {},
   "outputs": [
    {
     "data": {
      "text/html": [
       "<div>\n",
       "<style scoped>\n",
       "    .dataframe tbody tr th:only-of-type {\n",
       "        vertical-align: middle;\n",
       "    }\n",
       "\n",
       "    .dataframe tbody tr th {\n",
       "        vertical-align: top;\n",
       "    }\n",
       "\n",
       "    .dataframe thead th {\n",
       "        text-align: right;\n",
       "    }\n",
       "</style>\n",
       "<table border=\"1\" class=\"dataframe\">\n",
       "  <thead>\n",
       "    <tr style=\"text-align: right;\">\n",
       "      <th></th>\n",
       "      <th>longitude</th>\n",
       "      <th>latitude</th>\n",
       "      <th>housing_median_age</th>\n",
       "      <th>total_rooms</th>\n",
       "      <th>total_bedrooms</th>\n",
       "      <th>population</th>\n",
       "      <th>households</th>\n",
       "      <th>median_income</th>\n",
       "      <th>median_house_value</th>\n",
       "      <th>ocean_proximity</th>\n",
       "      <th>id</th>\n",
       "    </tr>\n",
       "  </thead>\n",
       "  <tbody>\n",
       "    <tr>\n",
       "      <th>0</th>\n",
       "      <td>-122.23</td>\n",
       "      <td>37.88</td>\n",
       "      <td>41.0</td>\n",
       "      <td>880.0</td>\n",
       "      <td>129.0</td>\n",
       "      <td>322.0</td>\n",
       "      <td>126.0</td>\n",
       "      <td>8.3252</td>\n",
       "      <td>452600.0</td>\n",
       "      <td>NEAR BAY</td>\n",
       "      <td>0</td>\n",
       "    </tr>\n",
       "    <tr>\n",
       "      <th>1</th>\n",
       "      <td>-122.22</td>\n",
       "      <td>37.86</td>\n",
       "      <td>21.0</td>\n",
       "      <td>7099.0</td>\n",
       "      <td>1106.0</td>\n",
       "      <td>2401.0</td>\n",
       "      <td>1138.0</td>\n",
       "      <td>8.3014</td>\n",
       "      <td>358500.0</td>\n",
       "      <td>NEAR BAY</td>\n",
       "      <td>1</td>\n",
       "    </tr>\n",
       "    <tr>\n",
       "      <th>2</th>\n",
       "      <td>-122.24</td>\n",
       "      <td>37.85</td>\n",
       "      <td>52.0</td>\n",
       "      <td>1467.0</td>\n",
       "      <td>190.0</td>\n",
       "      <td>496.0</td>\n",
       "      <td>177.0</td>\n",
       "      <td>7.2574</td>\n",
       "      <td>352100.0</td>\n",
       "      <td>NEAR BAY</td>\n",
       "      <td>2</td>\n",
       "    </tr>\n",
       "    <tr>\n",
       "      <th>3</th>\n",
       "      <td>-122.25</td>\n",
       "      <td>37.85</td>\n",
       "      <td>52.0</td>\n",
       "      <td>1274.0</td>\n",
       "      <td>235.0</td>\n",
       "      <td>558.0</td>\n",
       "      <td>219.0</td>\n",
       "      <td>5.6431</td>\n",
       "      <td>341300.0</td>\n",
       "      <td>NEAR BAY</td>\n",
       "      <td>3</td>\n",
       "    </tr>\n",
       "    <tr>\n",
       "      <th>4</th>\n",
       "      <td>-122.25</td>\n",
       "      <td>37.85</td>\n",
       "      <td>52.0</td>\n",
       "      <td>1627.0</td>\n",
       "      <td>280.0</td>\n",
       "      <td>565.0</td>\n",
       "      <td>259.0</td>\n",
       "      <td>3.8462</td>\n",
       "      <td>342200.0</td>\n",
       "      <td>NEAR BAY</td>\n",
       "      <td>4</td>\n",
       "    </tr>\n",
       "  </tbody>\n",
       "</table>\n",
       "</div>"
      ],
      "text/plain": [
       "   longitude  latitude  housing_median_age  total_rooms  total_bedrooms  \\\n",
       "0    -122.23     37.88                41.0        880.0           129.0   \n",
       "1    -122.22     37.86                21.0       7099.0          1106.0   \n",
       "2    -122.24     37.85                52.0       1467.0           190.0   \n",
       "3    -122.25     37.85                52.0       1274.0           235.0   \n",
       "4    -122.25     37.85                52.0       1627.0           280.0   \n",
       "\n",
       "   population  households  median_income  median_house_value ocean_proximity  \\\n",
       "0       322.0       126.0         8.3252            452600.0        NEAR BAY   \n",
       "1      2401.0      1138.0         8.3014            358500.0        NEAR BAY   \n",
       "2       496.0       177.0         7.2574            352100.0        NEAR BAY   \n",
       "3       558.0       219.0         5.6431            341300.0        NEAR BAY   \n",
       "4       565.0       259.0         3.8462            342200.0        NEAR BAY   \n",
       "\n",
       "   id  \n",
       "0   0  \n",
       "1   1  \n",
       "2   2  \n",
       "3   3  \n",
       "4   4  "
      ]
     },
     "execution_count": 85,
     "metadata": {},
     "output_type": "execute_result"
    }
   ],
   "source": [
    "housing = pd.read_csv('housing.csv')\n",
    "housing.head()"
   ]
  },
  {
   "cell_type": "code",
   "execution_count": 86,
   "metadata": {},
   "outputs": [],
   "source": [
    "# Divide by 1.5 to limit the number of income categories\n",
    "housing[\"income_cat\"] = np.ceil(housing[\"median_income\"] / 1.5)\n",
    "# Label those above 5 as 5\n",
    "housing[\"income_cat\"].where(housing[\"income_cat\"] < 5, 5.0, inplace=True)\n",
    "#this change below is because column names can't be passed to xgboost with a < symbol\n",
    "housing['ocean_proximity'][housing['ocean_proximity'] == '<1H OCEAN'] = 'LessThan1h'\n",
    "\n",
    "#make a stratified split of the data\n",
    "split = StratifiedShuffleSplit(n_splits=1, test_size=0.2, random_state=42)\n",
    "for train_index, test_index in split.split(housing, housing[\"income_cat\"]):\n",
    "\ttrain_set = housing.loc[train_index]\n",
    "\ttest_set = housing.loc[test_index]\n",
    "\n",
    "for set_ in (train_set, test_set):\n",
    "\tset_.drop(\"income_cat\", axis=1, inplace=True)\n",
    "\n",
    "gc.collect()\n",
    "\n",
    "def housing_data_clean(input_df):\n",
    "\tinput_df['rooms_per_household'] = input_df['total_rooms']/input_df['households']\n",
    "\tinput_df['bedrooms_per_household'] = input_df['total_bedrooms']/input_df['households']\n",
    "\tinput_df['bedrooms_per_room'] = input_df['total_bedrooms']/input_df['total_rooms']\n",
    "\tinput_df['population_per_household'] = input_df['population']/input_df['households']\n",
    "\tinput_df = input_df.drop(['total_bedrooms','total_rooms'], axis=1)\n",
    "\treturn input_df\n",
    "\n",
    "train_set = housing_data_clean(train_set)\n",
    "train_set.head()\n",
    "#do the same to the test set at the same time so they remain consistent with one another!\n",
    "test_set = housing_data_clean(test_set)\n",
    "\n",
    "X_train = train_set.drop('median_house_value', axis=1)\n",
    "y_train = train_set['median_house_value'].values.astype(float)\n",
    "\n",
    "X_test = test_set.drop('median_house_value', axis=1)\n",
    "y_test = test_set['median_house_value'].values.astype(float)\n",
    "\n",
    "\n",
    "#####\n",
    "# fill numerical values\n",
    "#####\n",
    "\n",
    "def fill_median(dataframe, cols):\n",
    "\t\"\"\"impute the mean for a list of columns in the dataframe\"\"\"\n",
    "\tfor i in cols:\n",
    "\t\tdataframe[i].fillna(dataframe[i].median(skipna=True), inplace = True)\n",
    "\treturn dataframe\n",
    "\n",
    "def cols_with_missing_values(dataframe):\n",
    "\t\"\"\" query a dataframe and find the columns that have missing values\"\"\"\n",
    "\treturn list(dataframe.columns[dataframe.isnull().any()])\n",
    "\n",
    "def fill_value(dataframe, col, val):\n",
    "\t\"\"\"impute the value for a list column in the dataframe\"\"\"\n",
    "\t\"\"\" use this to impute the median of the train into the test\"\"\"\n",
    "\tdataframe[i].fillna(val, inplace = True)\n",
    "\treturn dataframe\n",
    "\n",
    "missing_vals = cols_with_missing_values(X_train)\n",
    "X_train = fill_median(X_train, missing_vals)\n",
    "\n",
    "for i in missing_vals:\n",
    "\tX_test = fill_value(X_test, i, X_train[i].median(skipna=True))\n",
    "    "
   ]
  },
  {
   "cell_type": "code",
   "execution_count": 87,
   "metadata": {},
   "outputs": [
    {
     "data": {
      "text/plain": [
       "20"
      ]
     },
     "execution_count": 87,
     "metadata": {},
     "output_type": "execute_result"
    }
   ],
   "source": [
    "X_train.drop(['ocean_proximity'], axis=1, inplace=True)\n",
    "X_test.drop(['ocean_proximity'], axis=1, inplace=True)\n",
    "\n",
    "\n",
    "num_cols = X_train.columns\n",
    "num_train_index = X_train.index\n",
    "num_test_index = X_test.index\n",
    "\n",
    "scaler = StandardScaler()\n",
    "X_train = scaler.fit_transform(X_train)\n",
    "X_test = scaler.transform(X_test)\n",
    "\n",
    "\n",
    "X_train = pd.DataFrame(X_train,index = num_train_index, columns = num_cols)\n",
    "X_test = pd.DataFrame(X_test,index = num_test_index, columns = num_cols)\n",
    "\n",
    "\n",
    "gc.collect()"
   ]
  },
  {
   "cell_type": "code",
   "execution_count": 88,
   "metadata": {},
   "outputs": [
    {
     "name": "stdout",
     "output_type": "stream",
     "text": [
      "31993.244009205428\n"
     ]
    },
    {
     "data": {
      "image/png": "[encoded data removed]",
      "text/plain": [
       "<Figure size 800x800 with 1 Axes>"
      ]
     },
     "metadata": {
      "needs_background": "light"
     },
     "output_type": "display_data"
    }
   ],
   "source": [
    "from sklearn.model_selection import train_test_split\n",
    "from sklearn.ensemble import RandomForestRegressor\n",
    "from sklearn.metrics import mean_absolute_error\n",
    "from tqdm.notebook import tqdm\n",
    "\n",
    "feature_names = X_train.columns\n",
    "\n",
    "# Случайный лес\n",
    "from sklearn.datasets import make_regression\n",
    "from sklearn.ensemble import RandomForestRegressor\n",
    "from matplotlib import pyplot\n",
    "model = RandomForestRegressor(n_jobs=-1)\n",
    "model.fit(X_train, y_train)\n",
    "y_pred = model.predict(X_test)\n",
    "print(mean_absolute_error(y_test, y_pred))\n",
    "importances = model.feature_importances_\n",
    "indices = np.argsort(importances)\n",
    "plt.figure(figsize=(10, 10), dpi=80)\n",
    "plt.title('Важность признаков')\n",
    "plt.barh(range(len(indices)), importances[indices], color='b', align='center')\n",
    "plt.yticks(range(len(indices)), [feature_names[i] for i in indices])\n",
    "plt.xlabel('Relative Importance')\n",
    "plt.show()\n",
    "\n",
    "mae0 = mean_absolute_error(y_test, y_pred)"
   ]
  },
  {
   "cell_type": "code",
   "execution_count": 89,
   "metadata": {},
   "outputs": [
    {
     "name": "stdout",
     "output_type": "stream",
     "text": [
      "final test rmse: 48835.470647992486 \n"
     ]
    }
   ],
   "source": [
    "test_mse = np.mean(((y_pred - y_test)**2))\n",
    "test_rmse = np.sqrt(test_mse)\n",
    "print(f'final test rmse: {test_rmse} ')"
   ]
  },
  {
   "cell_type": "code",
   "execution_count": null,
   "metadata": {},
   "outputs": [],
   "source": []
  }
 ],
 "metadata": {
  "colab": {
   "collapsed_sections": [],
   "name": "Copy of Web02.ipynb",
   "provenance": []
  },
  "kernelspec": {
   "display_name": "Python 3 (ipykernel)",
   "language": "python",
   "name": "python3"
  },
  "language_info": {
   "codemirror_mode": {
    "name": "ipython",
    "version": 3
   },
   "file_extension": ".py",
   "mimetype": "text/x-python",
   "name": "python",
   "nbconvert_exporter": "python",
   "pygments_lexer": "ipython3",
   "version": "3.9.7"
  }
 },
 "nbformat": 4,
 "nbformat_minor": 4
}
